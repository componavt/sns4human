{
  "cells": [
    {
      "cell_type": "markdown",
      "metadata": {
        "id": "view-in-github",
        "colab_type": "text"
      },
      "source": [
        "<a href=\"https://colab.research.google.com/github/componavt/sns4human/blob/main/src/vk/followers/subscribers_posts.ipynb\" target=\"_parent\"><img src=\"https://colab.research.google.com/assets/colab-badge.svg\" alt=\"Open In Colab\"/></a>"
      ]
    },
    {
      "cell_type": "code",
      "source": [
        "# input file with list of followers\n",
        "INPUT_FILE = 'lutheran_followers_test10.csv'\n",
        "# INPUT_FILE = 'lutheran_followers.csv'\n",
        "# INPUT_FILE = 'baptist_followers.csv'\n",
        "\n",
        "OUTPUT_FILE = INPUT_FILE.replace('.csv', '_posts.csv') # e.g. \"lutheran_followers_posts.csv\""
      ],
      "metadata": {
        "id": "NrEinglVNM_R"
      },
      "execution_count": 1,
      "outputs": []
    },
    {
      "cell_type": "code",
      "execution_count": 2,
      "metadata": {
        "colab": {
          "base_uri": "https://localhost:8080/"
        },
        "id": "aVolv8JAhvdt",
        "outputId": "7206a912-743a-4278-8ac3-f52bb21fb26d",
        "collapsed": true
      },
      "outputs": [
        {
          "output_type": "stream",
          "name": "stdout",
          "text": [
            "Collecting vk_api\n",
            "  Downloading vk_api-11.9.9-py3-none-any.whl.metadata (2.0 kB)\n",
            "Requirement already satisfied: requests in /usr/local/lib/python3.11/dist-packages (from vk_api) (2.32.3)\n",
            "Requirement already satisfied: charset-normalizer<4,>=2 in /usr/local/lib/python3.11/dist-packages (from requests->vk_api) (3.4.2)\n",
            "Requirement already satisfied: idna<4,>=2.5 in /usr/local/lib/python3.11/dist-packages (from requests->vk_api) (3.10)\n",
            "Requirement already satisfied: urllib3<3,>=1.21.1 in /usr/local/lib/python3.11/dist-packages (from requests->vk_api) (2.4.0)\n",
            "Requirement already satisfied: certifi>=2017.4.17 in /usr/local/lib/python3.11/dist-packages (from requests->vk_api) (2025.4.26)\n",
            "Downloading vk_api-11.9.9-py3-none-any.whl (48 kB)\n",
            "\u001b[?25l   \u001b[90m━━━━━━━━━━━━━━━━━━━━━━━━━━━━━━━━━━━━━━━━\u001b[0m \u001b[32m0.0/48.6 kB\u001b[0m \u001b[31m?\u001b[0m eta \u001b[36m-:--:--\u001b[0m\r\u001b[2K   \u001b[90m━━━━━━━━━━━━━━━━━━━━━━━━━━━━━━━━━━━━━━━━\u001b[0m \u001b[32m48.6/48.6 kB\u001b[0m \u001b[31m2.1 MB/s\u001b[0m eta \u001b[36m0:00:00\u001b[0m\n",
            "\u001b[?25hInstalling collected packages: vk_api\n",
            "Successfully installed vk_api-11.9.9\n"
          ]
        }
      ],
      "source": [
        "!pip install vk_api"
      ]
    },
    {
      "cell_type": "markdown",
      "metadata": {
        "id": "nwZb-0lwJCoa"
      },
      "source": [
        "Сделать функцию скрывающую реальный id пользователя id->новый id"
      ]
    },
    {
      "cell_type": "code",
      "execution_count": 3,
      "metadata": {
        "id": "Kj5BGfmviPAc"
      },
      "outputs": [],
      "source": [
        "import vk_api\n",
        "from vk_api.exceptions import ApiError\n",
        "from config import TOKEN, VERSION\n",
        "ACCESS_TOKEN = TOKEN"
      ]
    },
    {
      "cell_type": "code",
      "execution_count": 4,
      "metadata": {
        "id": "EEzPknY_jkO7"
      },
      "outputs": [],
      "source": [
        "def get_only_original_posts(user_id, access_token, max_posts=1000):\n",
        "    \"\"\"\n",
        "    Получает только посты, опубликованные самим пользователем (без репостов)\n",
        "\n",
        "    :param user_id: ID пользователя (например, 123456789)\n",
        "    :param access_token: токен VK API\n",
        "    :param max_posts: ограничение на количество постов (по умолчанию 1000)\n",
        "    :return: список оригинальных постов или None в случае ошибки\n",
        "    \"\"\"\n",
        "    try:\n",
        "        vk_session = vk_api.VkApi(token=access_token)\n",
        "        vk = vk_session.get_api()\n",
        "\n",
        "        original_posts = []\n",
        "        offset = 0\n",
        "        count = 100\n",
        "\n",
        "        while len(original_posts) < max_posts:\n",
        "            response = vk.wall.get(\n",
        "                owner_id=user_id,\n",
        "                count=count,\n",
        "                offset=offset\n",
        "            )\n",
        "\n",
        "            posts = response.get('items', [])\n",
        "            if not posts:\n",
        "                break\n",
        "\n",
        "            for post in posts:\n",
        "                if 'copy_history' not in post:\n",
        "                    original_posts.append(post)\n",
        "                    if len(original_posts) >= max_posts:\n",
        "                        break\n",
        "\n",
        "            offset += count\n",
        "            time.sleep(0.4)\n",
        "\n",
        "        return original_posts\n",
        "\n",
        "    except ApiError as e:\n",
        "        print(f\"Ошибка VK API: {e}\")\n",
        "        return None"
      ]
    },
    {
      "cell_type": "code",
      "execution_count": 5,
      "metadata": {
        "id": "2WCH0_OuiP1C"
      },
      "outputs": [],
      "source": [
        "import vk_api\n",
        "from vk_api.exceptions import ApiError\n",
        "import time\n",
        "\n",
        "def get_all_user_posts(user_id, access_token, max_posts=10000):\n",
        "    \"\"\"\n",
        "    Получает ВСЕ посты пользователя (с пагинацией)\n",
        "\n",
        "    :param user_id: ID пользователя (например, 123456789)\n",
        "    :param access_token: токен VK API\n",
        "    :param max_posts: ограничение на максимальное количество постов (по умолчанию 1000)\n",
        "    :return: список всех постов или None в случае ошибки\n",
        "    \"\"\"\n",
        "    try:\n",
        "        vk_session = vk_api.VkApi(token=access_token)\n",
        "        vk = vk_session.get_api()\n",
        "\n",
        "        all_posts = []\n",
        "        offset = 0\n",
        "        count = 100\n",
        "\n",
        "        while True:\n",
        "            response = vk.wall.get(\n",
        "                owner_id=user_id,\n",
        "                count=count,\n",
        "                offset=offset\n",
        "            )\n",
        "\n",
        "            posts = response['items']\n",
        "            if not posts:\n",
        "                break\n",
        "\n",
        "            all_posts.extend(posts)\n",
        "            offset += count\n",
        "\n",
        "            if len(all_posts) >= max_posts:\n",
        "                break\n",
        "\n",
        "            time.sleep(0.4)\n",
        "\n",
        "        return all_posts\n",
        "\n",
        "    except ApiError as e:\n",
        "        print(f\"Ошибка VK API: {e}\")\n",
        "        return None"
      ]
    },
    {
      "cell_type": "code",
      "execution_count": 6,
      "metadata": {
        "id": "-VBgeC8UiTOn"
      },
      "outputs": [],
      "source": [
        "# USER_ID = 103249\n",
        "\n",
        "# all_posts = get_all_user_posts(USER_ID, ACCESS_TOKEN)\n",
        "\n",
        "# if all_posts:\n",
        "#     print(f\"Всего постов: {len(all_posts)}\")\n",
        "#     for i, post in enumerate(all_posts[:10], 1):\n",
        "#         print(f\"\\nПост #{i}:\")\n",
        "#         print(f\"Дата: {post['date']}\")\n",
        "#         if 'text' in post:\n",
        "#             print(f\"Текст: {post['text']}\")\n",
        "# else:\n",
        "#     print(\"Не удалось получить посты. Возможно, профиль закрыт или токен неверный.\")"
      ]
    },
    {
      "cell_type": "code",
      "execution_count": 7,
      "metadata": {
        "id": "kKUtccWgkgAP"
      },
      "outputs": [],
      "source": [
        "import vk_api\n",
        "from vk_api.exceptions import ApiError\n",
        "import time\n",
        "import csv\n",
        "from datetime import datetime\n",
        "\n",
        "def get_original_posts_with_text(user_id, access_token, max_posts=1000):\n",
        "    \"\"\"\n",
        "    Получает оригинальные посты пользователя (без репостов) и с текстом\n",
        "    :param user_id: ID пользователя (например, 123456789)\n",
        "    :param access_token: токен VK API\n",
        "    :param max_posts: максимальное количество постов (по умолчанию 1000)\n",
        "    :return: список постов или None в случае ошибки\n",
        "    \"\"\"\n",
        "    try:\n",
        "        vk_session = vk_api.VkApi(token=access_token)\n",
        "        vk = vk_session.get_api()\n",
        "\n",
        "        posts = []\n",
        "        offset = 0\n",
        "        count = 100\n",
        "\n",
        "        while len(posts) < max_posts:\n",
        "            response = vk.wall.get(\n",
        "                owner_id=user_id,\n",
        "                count=count,\n",
        "                offset=offset\n",
        "            )\n",
        "\n",
        "            items = response.get('items', [])\n",
        "            if not items:\n",
        "                break\n",
        "\n",
        "            for post in items:\n",
        "                if 'copy_history' not in post and post.get('text'):\n",
        "                    posts.append(post)\n",
        "                    if len(posts) >= max_posts:\n",
        "                        break\n",
        "\n",
        "            offset += count\n",
        "            time.sleep(0.4)\n",
        "\n",
        "        return posts\n",
        "\n",
        "    except ApiError as e:\n",
        "        print(f\"Ошибка VK API: {e}\")\n",
        "        return None\n",
        "\n",
        "def save_to_csv(posts, filename=\"vk_posts.csv\"):\n",
        "    \"\"\"\n",
        "    Сохраняет посты в CSV-файл\n",
        "    :param posts: список постов\n",
        "    :param filename: имя файла для сохранения\n",
        "    \"\"\"\n",
        "    if not posts:\n",
        "        print(\"Нет постов для сохранения.\")\n",
        "        return\n",
        "\n",
        "    with open(filename, mode='w', encoding='utf-8', newline='') as file:\n",
        "        writer = csv.writer(file, delimiter=';')\n",
        "        writer.writerow([\"Дата\", \"Текст\", \"Ссылка\"])\n",
        "\n",
        "        for post in posts:\n",
        "            post_date = datetime.fromtimestamp(post['date']).strftime('%Y-%m-%d %H:%M:%S')\n",
        "            post_text = post['text'].replace('\\n', ' ').strip()\n",
        "            post_url = f\"https://vk.com/wall{post['owner_id']}_{post['id']}\"\n",
        "\n",
        "            writer.writerow([post_date, post_text, post_url])\n",
        "\n",
        "    print(f\"Данные сохранены в {filename}\")"
      ]
    },
    {
      "cell_type": "code",
      "execution_count": 8,
      "metadata": {
        "id": "jCkpfqtnki3R"
      },
      "outputs": [],
      "source": [
        "# posts = get_original_posts_with_text(USER_ID, ACCESS_TOKEN)\n",
        "\n",
        "# if posts:\n",
        "#     print(f\"Найдено {len(posts)} постов.\")\n",
        "#     save_to_csv(posts)\n",
        "# else:\n",
        "#     print(\"Не удалось получить посты.\")"
      ]
    },
    {
      "cell_type": "code",
      "execution_count": 9,
      "metadata": {
        "id": "vs4ZyN6P8Vju"
      },
      "outputs": [],
      "source": [
        "#Дописать фильтрация из csv can_acces_close and is_closed\n",
        "\n",
        "import vk_api\n",
        "from vk_api.exceptions import ApiError\n",
        "import time\n",
        "import csv\n",
        "from datetime import datetime\n",
        "import pandas as pd\n",
        "\n",
        "def get_original_posts_with_text(user_id, access_token, max_posts=1000):\n",
        "    \"\"\"Получает оригинальные посты пользователя с текстом\"\"\"\n",
        "    try:\n",
        "        vk_session = vk_api.VkApi(token=access_token)\n",
        "        vk = vk_session.get_api()\n",
        "\n",
        "        posts = []\n",
        "        offset = 0\n",
        "        count = 100\n",
        "\n",
        "        while len(posts) < max_posts:\n",
        "            try:\n",
        "                response = vk.wall.get(\n",
        "                    owner_id=user_id,\n",
        "                    count=count,\n",
        "                    offset=offset\n",
        "                )\n",
        "\n",
        "                items = response.get('items', [])\n",
        "                if not items:\n",
        "                    break\n",
        "\n",
        "                for post in items:\n",
        "                    if 'copy_history' not in post and post.get('text'):\n",
        "                        posts.append({\n",
        "                            'user_id': user_id, # удалить\n",
        "                            'date': post['date'],\n",
        "                            'text': post['text'],\n",
        "                            'post_id': post['id']\n",
        "                        })\n",
        "                        if len(posts) >= max_posts:\n",
        "                            break\n",
        "\n",
        "                offset += count\n",
        "                time.sleep(0.4)\n",
        "\n",
        "            except ApiError as e:\n",
        "                print(f\"Ошибка для пользователя {user_id}: {e}\")\n",
        "                break\n",
        "\n",
        "        return posts\n",
        "\n",
        "    except Exception as e:\n",
        "        print(f\"Критическая ошибка для пользователя {user_id}: {e}\")\n",
        "        return []\n",
        "\n",
        "def process_all_users(input_csv, output_csv, access_token, max_posts_per_user=100):\n",
        "    \"\"\"Обрабатывает всех пользователей из CSV\"\"\"\n",
        "    try:\n",
        "        followers = pd.read_csv(input_csv)\n",
        "        user_ids = followers['id'].tolist()\n",
        "\n",
        "        all_posts = []\n",
        "\n",
        "        for user_id in user_ids:\n",
        "            posts = get_original_posts_with_text(user_id, access_token, max_posts_per_user)\n",
        "            all_posts.extend(posts)\n",
        "            time.sleep(0.1)\n",
        "\n",
        "        if all_posts:\n",
        "            df = pd.DataFrame(all_posts)\n",
        "            df['date'] = pd.to_datetime(df['date'], unit='s')\n",
        "            df['url'] = df.apply(lambda x: f\"https://vk.com/wall{x['user_id']}_{x['post_id']}\", axis=1)\n",
        "            df.to_csv(output_csv, index=False, encoding='utf-8', sep=';')\n",
        "            print(f\"Сохранено {len(df)} постов в {output_csv}\")\n",
        "        else:\n",
        "            print(\"Не найдено ни одного поста\")\n",
        "\n",
        "    except Exception as e:\n",
        "        print(f\"Ошибка при обработке файла: {e}\")"
      ]
    },
    {
      "cell_type": "code",
      "source": [
        "import hashlib\n",
        "\n",
        "def hide_user_id(real_id):\n",
        "    hashed_id = hashlib.sha256(str(real_id).encode()).hexdigest()\n",
        "    return hashed_id[:10]\n",
        "\n",
        "\n",
        "real_id = 103249\n",
        "new_id = hide_user_id(real_id)\n",
        "print(f\"Реальный ID: {real_id}, Новый ID: {new_id}\")"
      ],
      "metadata": {
        "id": "yLVPGAxl7yyX",
        "outputId": "2125c5a3-ba6d-497b-9b74-80bea4a09457",
        "colab": {
          "base_uri": "https://localhost:8080/"
        }
      },
      "execution_count": 10,
      "outputs": [
        {
          "output_type": "stream",
          "name": "stdout",
          "text": [
            "Реальный ID: 103249, Новый ID: 2e16af048c\n"
          ]
        }
      ]
    },
    {
      "cell_type": "code",
      "execution_count": 11,
      "metadata": {
        "colab": {
          "base_uri": "https://localhost:8080/"
        },
        "id": "dDeGx8S085oj",
        "outputId": "40793a81-2613-45ff-e961-063b1845cb30"
      },
      "outputs": [
        {
          "output_type": "stream",
          "name": "stdout",
          "text": [
            "input_path=https://raw.githubusercontent.com/componavt/sns4human/refs/heads/main/data/vk/religion/lutheran_followers_test10.csv\n",
            "Ошибка для пользователя 340807: [15] Access denied: user hid his wall from accessing from outside\n",
            "Ошибка для пользователя 435927: [15] Access denied: user hid his wall from accessing from outside\n",
            "Ошибка для пользователя 929126: [15] Access denied: user hid his wall from accessing from outside\n",
            "Ошибка для пользователя 2042325: [15] Access denied: user hid his wall from accessing from outside\n",
            "Ошибка для пользователя 2048472: [15] Access denied: user hid his wall from accessing from outside\n",
            "Ошибка для пользователя 2272321: [15] Access denied: user hid his wall from accessing from outside\n",
            "Сохранено 400 постов в lutheran_followers_test10_posts.csv\n"
          ]
        }
      ],
      "source": [
        "input_path = f'https://raw.githubusercontent.com/componavt/sns4human/refs/heads/main/data/vk/religion/{INPUT_FILE}'\n",
        "print(f\"input_path={input_path}\")\n",
        "process_all_users(input_path, OUTPUT_FILE, ACCESS_TOKEN)"
      ]
    },
    {
      "cell_type": "code",
      "source": [
        "import vk_api\n",
        "import pandas as pd\n",
        "import matplotlib.pyplot as plt\n",
        "from datetime import datetime\n",
        "import time\n",
        "import seaborn as sns\n",
        "from tqdm import tqdm\n",
        "\n",
        "def analyze_activity(posts):\n",
        "    \"\"\"Анализ активности по временным периодам\"\"\"\n",
        "    df = pd.DataFrame(posts)\n",
        "    if df.empty:\n",
        "        return None\n",
        "\n",
        "    # Группировка по временным периодам\n",
        "    df['year'] = df['date'].dt.year\n",
        "    df['month'] = df['date'].dt.month\n",
        "    df['year_month'] = df['date'].dt.to_period('M')\n",
        "    df['weekday'] = df['date'].dt.weekday\n",
        "    df['hour'] = df['date'].dt.hour\n",
        "\n",
        "    # Анализ по годам\n",
        "    yearly = df.groupby('year').size().reset_index(name='count')\n",
        "\n",
        "    # Анализ по месяцам\n",
        "    monthly = df.groupby('year_month').size().reset_index(name='count')\n",
        "    monthly['year_month'] = monthly['year_month'].astype(str)\n",
        "\n",
        "    # Анализ по дням недели\n",
        "    weekdays = df.groupby('weekday').size().reset_index(name='count')\n",
        "    weekday_names = ['Пн', 'Вт', 'Ср', 'Чт', 'Пт', 'Сб', 'Вс']\n",
        "    weekdays['weekday_name'] = weekdays['weekday'].apply(lambda x: weekday_names[x])\n",
        "\n",
        "    # Анализ по часам\n",
        "    hourly = df.groupby('hour').size().reset_index(name='count')\n",
        "\n",
        "    return {\n",
        "        'yearly': yearly,\n",
        "        'monthly': monthly,\n",
        "        'weekdays': weekdays,\n",
        "        'hourly': hourly,\n",
        "        'total_posts': len(df)\n",
        "    }\n",
        "\n",
        "def visualize_activity(analysis, filename):\n",
        "    \"\"\"Визуализация результатов анализа\"\"\"\n",
        "    plt.figure(figsize=(15, 10))\n",
        "\n",
        "    # График по годам\n",
        "    plt.subplot(2, 2, 1)\n",
        "    sns.barplot(x='year', y='count', data=analysis['yearly'])\n",
        "    plt.title('Активность по годам')\n",
        "\n",
        "    # График по месяцам\n",
        "    plt.subplot(2, 2, 2)\n",
        "    sns.lineplot(x='year_month', y='count', data=analysis['monthly'])\n",
        "    plt.title('Активность по месяцам')\n",
        "    plt.xticks(rotation=45)\n",
        "\n",
        "    # График по дням недели\n",
        "    plt.subplot(2, 2, 3)\n",
        "    sns.barplot(x='weekday_name', y='count', data=analysis['weekdays'], order=weekday_names)\n",
        "    plt.title('Активность по дням недели')\n",
        "\n",
        "    # График по часам\n",
        "    plt.subplot(2, 2, 4)\n",
        "    sns.barplot(x='hour', y='count', data=analysis['hourly'])\n",
        "    plt.title('Активность по часам дня')\n",
        "\n",
        "    plt.tight_layout()\n",
        "    plt.savefig(filename)\n",
        "    plt.close()"
      ],
      "metadata": {
        "id": "WgJ53GXVds-Z"
      },
      "execution_count": 12,
      "outputs": []
    },
    {
      "cell_type": "code",
      "source": [
        "plt.subplot(2, 2, 1)\n",
        "sns.barplot(x='year', y='count', data=analysis['yearly'])\n",
        "plt.title('Активность по годам')"
      ],
      "metadata": {
        "id": "7RQgY44GfnK9",
        "outputId": "684ce552-1d41-4869-932e-8c71058c7cf3",
        "colab": {
          "base_uri": "https://localhost:8080/",
          "height": 393
        }
      },
      "execution_count": 13,
      "outputs": [
        {
          "output_type": "error",
          "ename": "NameError",
          "evalue": "name 'analysis' is not defined",
          "traceback": [
            "\u001b[0;31m---------------------------------------------------------------------------\u001b[0m",
            "\u001b[0;31mNameError\u001b[0m                                 Traceback (most recent call last)",
            "\u001b[0;32m<ipython-input-13-64ed90ce91f9>\u001b[0m in \u001b[0;36m<cell line: 0>\u001b[0;34m()\u001b[0m\n\u001b[1;32m      1\u001b[0m \u001b[0mplt\u001b[0m\u001b[0;34m.\u001b[0m\u001b[0msubplot\u001b[0m\u001b[0;34m(\u001b[0m\u001b[0;36m2\u001b[0m\u001b[0;34m,\u001b[0m \u001b[0;36m2\u001b[0m\u001b[0;34m,\u001b[0m \u001b[0;36m1\u001b[0m\u001b[0;34m)\u001b[0m\u001b[0;34m\u001b[0m\u001b[0;34m\u001b[0m\u001b[0m\n\u001b[0;32m----> 2\u001b[0;31m \u001b[0msns\u001b[0m\u001b[0;34m.\u001b[0m\u001b[0mbarplot\u001b[0m\u001b[0;34m(\u001b[0m\u001b[0mx\u001b[0m\u001b[0;34m=\u001b[0m\u001b[0;34m'year'\u001b[0m\u001b[0;34m,\u001b[0m \u001b[0my\u001b[0m\u001b[0;34m=\u001b[0m\u001b[0;34m'count'\u001b[0m\u001b[0;34m,\u001b[0m \u001b[0mdata\u001b[0m\u001b[0;34m=\u001b[0m\u001b[0manalysis\u001b[0m\u001b[0;34m[\u001b[0m\u001b[0;34m'yearly'\u001b[0m\u001b[0;34m]\u001b[0m\u001b[0;34m)\u001b[0m\u001b[0;34m\u001b[0m\u001b[0;34m\u001b[0m\u001b[0m\n\u001b[0m\u001b[1;32m      3\u001b[0m \u001b[0mplt\u001b[0m\u001b[0;34m.\u001b[0m\u001b[0mtitle\u001b[0m\u001b[0;34m(\u001b[0m\u001b[0;34m'Активность по годам'\u001b[0m\u001b[0;34m)\u001b[0m\u001b[0;34m\u001b[0m\u001b[0;34m\u001b[0m\u001b[0m\n",
            "\u001b[0;31mNameError\u001b[0m: name 'analysis' is not defined"
          ]
        },
        {
          "output_type": "display_data",
          "data": {
            "text/plain": [
              "<Figure size 640x480 with 1 Axes>"
            ],
            "image/png": "[encoded data removed]"
          },
          "metadata": {}
        }
      ]
    },
    {
      "cell_type": "code",
      "source": [
        "plt.subplot(2, 2, 2)\n",
        "sns.lineplot(x='year_month', y='count', data=analysis['monthly'])\n",
        "plt.title('Активность по месяцам')\n",
        "plt.xticks(rotation=45)"
      ],
      "metadata": {
        "id": "ovz6hkr7fnfr"
      },
      "execution_count": null,
      "outputs": []
    },
    {
      "cell_type": "code",
      "source": [
        "plt.subplot(2, 2, 3)\n",
        "sns.barplot(x='weekday_name', y='count', data=analysis['weekdays'], order=weekday_names)\n",
        "plt.title('Активность по дням недели')"
      ],
      "metadata": {
        "id": "pwUvHkW4frPY"
      },
      "execution_count": null,
      "outputs": []
    },
    {
      "cell_type": "code",
      "source": [
        "plt.subplot(2, 2, 4)\n",
        "sns.barplot(x='hour', y='count', data=analysis['hourly'])\n",
        "plt.title('Активность по часам дня')"
      ],
      "metadata": {
        "id": "zb0u9XMvfsh8"
      },
      "execution_count": null,
      "outputs": []
    },
    {
      "cell_type": "code",
      "source": [
        "import vk_api\n",
        "from vk_api.exceptions import ApiError\n",
        "import time\n",
        "import pandas as pd\n",
        "\n",
        "def filter_active_users_from_csv(df):\n",
        "    \"\"\"Фильтрует активных пользователей на основе данных из CSV\"\"\"\n",
        "    df_filtered = df.copy()\n",
        "\n",
        "    # Фильтруем пользователей по критериям:\n",
        "    # 1. Нет значения в deactivated (не удаленные/заблокированные)\n",
        "    # 2. Страница либо открыта, либо мы можем получить доступ к закрытой\n",
        "    df_filtered = df_filtered[\n",
        "        (df_filtered['deactivated'].isna()) &\n",
        "        ((df_filtered['is_closed'] == False) | (df_filtered['can_access_closed'] == True))\n",
        "    ]\n",
        "\n",
        "    return df_filtered['id'].tolist()\n",
        "\n",
        "def get_original_posts_with_text(user_id, access_token, max_posts=1000):\n",
        "    \"\"\"Получает оригинальные посты пользователя с текстом\"\"\"\n",
        "    try:\n",
        "        vk_session = vk_api.VkApi(token=access_token)\n",
        "        vk = vk_session.get_api()\n",
        "\n",
        "        posts = []\n",
        "        offset = 0\n",
        "        count = 100\n",
        "\n",
        "        while len(posts) < max_posts:\n",
        "            try:\n",
        "                response = vk.wall.get(\n",
        "                    owner_id=user_id,\n",
        "                    count=count,\n",
        "                    offset=offset\n",
        "                )\n",
        "\n",
        "                items = response.get('items', [])\n",
        "                if not items:\n",
        "                    break\n",
        "\n",
        "                for post in items:\n",
        "                    if 'copy_history' not in post and post.get('text'):\n",
        "                        posts.append({\n",
        "                            'user_id': user_id,\n",
        "                            'date': post['date'],\n",
        "                            'text': post['text'],\n",
        "                            'post_id': post['id']\n",
        "                        })\n",
        "                        if len(posts) >= max_posts:\n",
        "                            break\n",
        "\n",
        "                offset += count\n",
        "                time.sleep(0.4)\n",
        "\n",
        "            except ApiError as e:\n",
        "                print(f\"Ошибка для пользователя {user_id}: {e}\")\n",
        "                break\n",
        "\n",
        "        return posts\n",
        "\n",
        "    except Exception as e:\n",
        "        print(f\"Критическая ошибка для пользователя {user_id}: {e}\")\n",
        "        return []\n",
        "\n",
        "def process_all_users(input_csv, output_csv, access_token, max_posts_per_user=100):\n",
        "    \"\"\"Обрабатывает всех пользователей из CSV\"\"\"\n",
        "    try:\n",
        "        followers = pd.read_csv(input_csv)\n",
        "        print(f\"Всего пользователей в исходном файле: {len(followers)}\")\n",
        "\n",
        "        active_user_ids = filter_active_users_from_csv(followers)\n",
        "        print(f\"Найдено активных пользователей: {len(active_user_ids)}\")\n",
        "\n",
        "        if not active_user_ids:\n",
        "            print(\"Нет активных пользователей для обработки\")\n",
        "            return\n",
        "\n",
        "        all_posts = []\n",
        "\n",
        "        for user_id in active_user_ids:\n",
        "            posts = get_original_posts_with_text(user_id, access_token, max_posts_per_user)\n",
        "            all_posts.extend(posts)\n",
        "            time.sleep(0.1)\n",
        "\n",
        "        if all_posts:\n",
        "            df_posts = pd.DataFrame(all_posts)\n",
        "            df_posts['date'] = pd.to_datetime(df_posts['date'], unit='s')\n",
        "            df_posts['url'] = df_posts.apply(lambda x: f\"https://vk.com/wall{x['user_id']}_{x['post_id']}\", axis=1)\n",
        "\n",
        "            df_users = pd.read_csv(input_csv)\n",
        "            df_posts = df_posts.merge(df_users, how='left', left_on='user_id', right_on='id')\n",
        "\n",
        "            df_posts.to_csv(output_csv, index=False, encoding='utf-8', sep=';')\n",
        "            print(f\"Сохранено {len(df_posts)} постов в {output_csv}\")\n",
        "        else:\n",
        "            print(\"Не найдено ни одного поста\")\n",
        "\n",
        "    except Exception as e:\n",
        "        print(f\"Ошибка при обработке файла: {e}\")\n",
        "\n",
        "\n",
        "#ACCESS_TOKEN = \"your_access_token_vk\"\n",
        "#INPUT_FILE = \"/content/baptist_followers.csv\"\n",
        "#OUTPUT_FILE = \"/content/baptists_posts.csv\"\n",
        "\n",
        "\n",
        "process_all_users(INPUT_FILE, OUTPUT_FILE, ACCESS_TOKEN)"
      ],
      "metadata": {
        "id": "gkB2V28mmpij"
      },
      "execution_count": null,
      "outputs": []
    }
  ],
  "metadata": {
    "colab": {
      "provenance": [],
      "include_colab_link": true
    },
    "kernelspec": {
      "display_name": "Python 3",
      "name": "python3"
    },
    "language_info": {
      "name": "python"
    }
  },
  "nbformat": 4,
  "nbformat_minor": 0
}