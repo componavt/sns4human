{
  "nbformat": 4,
  "nbformat_minor": 0,
  "metadata": {
    "colab": {
      "provenance": [],
      "authorship_tag": "ABX9TyOxYoanmCaCei4kuFw5rFDv",
      "include_colab_link": true
    },
    "kernelspec": {
      "name": "python3",
      "display_name": "Python 3"
    },
    "language_info": {
      "name": "python"
    }
  },
  "cells": [
    {
      "cell_type": "markdown",
      "metadata": {
        "id": "view-in-github",
        "colab_type": "text"
      },
      "source": [
        "<a href=\"https://colab.research.google.com/github/componavt/sns4human/blob/main/src/vk/vk_group_members.ipynb\" target=\"_parent\"><img src=\"https://colab.research.google.com/assets/colab-badge.svg\" alt=\"Open In Colab\"/></a>"
      ]
    },
    {
      "cell_type": "code",
      "source": [
        "!pip install vk-api"
      ],
      "metadata": {
        "colab": {
          "base_uri": "https://localhost:8080/"
        },
        "id": "u2ft46DLFqJI",
        "outputId": "c91e2e4a-5dcb-480a-84b7-d320a832769c"
      },
      "execution_count": 1,
      "outputs": [
        {
          "output_type": "stream",
          "name": "stdout",
          "text": [
            "Collecting vk-api\n",
            "  Downloading vk_api-11.9.9-py3-none-any.whl.metadata (2.0 kB)\n",
            "Requirement already satisfied: requests in /usr/local/lib/python3.10/dist-packages (from vk-api) (2.32.3)\n",
            "Requirement already satisfied: charset-normalizer<4,>=2 in /usr/local/lib/python3.10/dist-packages (from requests->vk-api) (3.4.0)\n",
            "Requirement already satisfied: idna<4,>=2.5 in /usr/local/lib/python3.10/dist-packages (from requests->vk-api) (3.10)\n",
            "Requirement already satisfied: urllib3<3,>=1.21.1 in /usr/local/lib/python3.10/dist-packages (from requests->vk-api) (2.2.3)\n",
            "Requirement already satisfied: certifi>=2017.4.17 in /usr/local/lib/python3.10/dist-packages (from requests->vk-api) (2024.8.30)\n",
            "Downloading vk_api-11.9.9-py3-none-any.whl (48 kB)\n",
            "\u001b[?25l   \u001b[90m━━━━━━━━━━━━━━━━━━━━━━━━━━━━━━━━━━━━━━━━\u001b[0m \u001b[32m0.0/48.6 kB\u001b[0m \u001b[31m?\u001b[0m eta \u001b[36m-:--:--\u001b[0m\r\u001b[2K   \u001b[90m━━━━━━━━━━━━━━━━━━━━━━━━━━━━━━━━━━━━━━━━\u001b[0m \u001b[32m48.6/48.6 kB\u001b[0m \u001b[31m1.2 MB/s\u001b[0m eta \u001b[36m0:00:00\u001b[0m\n",
            "\u001b[?25hInstalling collected packages: vk-api\n",
            "Successfully installed vk-api-11.9.9\n"
          ]
        }
      ]
    },
    {
      "cell_type": "code",
      "source": [
        "import vk_api\n",
        "from config import TOKEN\n",
        "import pandas as pd\n",
        "import matplotlib.pyplot as plt"
      ],
      "metadata": {
        "id": "AZook0fyF3Z1"
      },
      "execution_count": 15,
      "outputs": []
    },
    {
      "cell_type": "code",
      "source": [
        "def get_group_subscribers(owner_id, access_token):\n",
        "    vk_session = vk_api.VkApi(token=access_token)\n",
        "    vk = vk_session.get_api()\n",
        "\n",
        "    subscribers = []\n",
        "    offset = 0\n",
        "    count = 1000\n",
        "\n",
        "    while True:\n",
        "        try:\n",
        "            response = vk.groups.getMembers(group_id=owner_id, offset=offset, count=count)\n",
        "            if not response['items']:\n",
        "                break\n",
        "\n",
        "            user_ids = response['items']\n",
        "            users_info = vk.users.get(user_ids=user_ids, fields='city')\n",
        "\n",
        "            for user in users_info:\n",
        "                city = user.get('city', {}).get('title', 'Не указан')\n",
        "                subscribers.append({\n",
        "                    'id': user['id'],\n",
        "                    'first_name': user['first_name'],\n",
        "                    'last_name': user['last_name'],\n",
        "                    'city': city\n",
        "                })\n",
        "\n",
        "            offset += count\n",
        "\n",
        "        except vk_api.exceptions.VkApiError as e:\n",
        "            print(f\"Ошибка: {e}\")\n",
        "            break\n",
        "\n",
        "    return subscribers"
      ],
      "metadata": {
        "id": "69XDy59cGDPH"
      },
      "execution_count": 3,
      "outputs": []
    },
    {
      "cell_type": "code",
      "source": [
        "owner_id = 2975745\n",
        "subscribers = get_group_subscribers(owner_id, TOKEN)"
      ],
      "metadata": {
        "id": "fIyoeKO6GI7H"
      },
      "execution_count": 4,
      "outputs": []
    },
    {
      "cell_type": "code",
      "source": [
        "print(subscribers)"
      ],
      "metadata": {
        "colab": {
          "base_uri": "https://localhost:8080/"
        },
        "id": "esWPo63qGSqc",
        "outputId": "15ba4fca-1809-4e32-c52d-9178e2f3a78b"
      },
      "execution_count": 5,
      "outputs": [
        {
          "output_type": "stream",
          "name": "stdout",
          "text": [
            "[{'id': 468689, 'first_name': 'Ekaterina', 'last_name': 'Terekhina', 'city': 'Lyon'}, {'id': 544360, 'first_name': 'Irina', 'last_name': 'Poliektova', 'city': 'Tegucigalpa'}, {'id': 671449, 'first_name': 'Alexey', 'last_name': 'Tsykarev', 'city': 'Petrozavodsk'}, {'id': 773377, 'first_name': 'Vladimir', 'last_name': 'Flavyanov', 'city': 'Saint Petersburg'}, {'id': 1239081, 'first_name': 'Nina', 'last_name': 'Zaytseva', 'city': 'Vologda'}, {'id': 1359539, 'first_name': 'Alexandra', 'last_name': 'Timoshilova', 'city': 'Moscow'}, {'id': 1540889, 'first_name': 'Svetlana', 'last_name': 'Alexeeva', 'city': 'Saint Petersburg'}, {'id': 1640466, 'first_name': 'Igor', 'last_name': 'Alexeev', 'city': 'Saint Petersburg'}, {'id': 2445152, 'first_name': 'Olga', 'last_name': 'Ignatenko', 'city': 'Petrozavodsk'}, {'id': 2595443, 'first_name': 'Veronika', 'last_name': 'Mikkonen', 'city': 'Не указан'}, {'id': 3119895, 'first_name': 'Olexandr', 'last_name': 'Baruev', 'city': 'Belomorsk'}, {'id': 3255351, 'first_name': 'Irina', 'last_name': 'Usikova', 'city': 'Saint Petersburg'}, {'id': 3306529, 'first_name': 'Tatyana', 'last_name': 'Panyukova', 'city': 'Не указан'}, {'id': 3715777, 'first_name': 'Svetlana', 'last_name': 'Zakharchenko', 'city': 'Petrozavodsk'}, {'id': 4950501, 'first_name': 'Andrey', 'last_name': 'Anisimov', 'city': 'Petrozavodsk'}, {'id': 5097682, 'first_name': 'DELETED', 'last_name': '', 'city': 'Saint Petersburg'}, {'id': 5750512, 'first_name': 'Denis', 'last_name': 'Ranskalainen', 'city': 'Saint Petersburg'}, {'id': 5872461, 'first_name': 'Miikkul', 'last_name': 'Lopakov', 'city': 'Dzerzhinsky'}, {'id': 6081389, 'first_name': 'Tatyana', 'last_name': 'Kalinicheva', 'city': 'Petrozavodsk'}, {'id': 6471856, 'first_name': 'Anastasia', 'last_name': 'Kiryaynen', 'city': 'Petrozavodsk'}, {'id': 6823463, 'first_name': 'Antti', 'last_name': 'Tuhkanen', 'city': 'Не указан'}, {'id': 7031692, 'first_name': 'Svetlana', 'last_name': 'Romanchuk', 'city': 'Petrozavodsk'}, {'id': 7218003, 'first_name': 'Anechka', 'last_name': 'Pukkonen', 'city': 'Saint Petersburg'}, {'id': 7258817, 'first_name': 'Yulia', 'last_name': 'Babenko', 'city': 'Saint Petersburg'}, {'id': 7513945, 'first_name': 'Valentina', 'last_name': 'Savenkova', 'city': 'Saint Petersburg'}, {'id': 8048772, 'first_name': 'DELETED', 'last_name': '', 'city': 'Petrozavodsk'}, {'id': 9688324, 'first_name': 'Milan', 'last_name': 'Mrenovich', 'city': 'Kruševac'}, {'id': 10051689, 'first_name': 'Alexander', 'last_name': 'Zilotov', 'city': 'Saint Petersburg'}, {'id': 10162828, 'first_name': 'Andrey', 'last_name': 'Russkov', 'city': 'Moscow'}, {'id': 10449536, 'first_name': 'Yulia', 'last_name': 'Veronovskaya-Ptashinskaya', 'city': 'Moscow'}, {'id': 10599595, 'first_name': 'DELETED', 'last_name': '', 'city': 'Petrozavodsk'}, {'id': 11454210, 'first_name': 'Viktoria', 'last_name': 'Ivanova', 'city': 'Petrozavodsk'}, {'id': 12574135, 'first_name': 'Tatyana', 'last_name': 'Litova', 'city': 'Petrozavodsk'}, {'id': 12599118, 'first_name': 'Sergey', 'last_name': 'Vinogradov', 'city': 'Saint Petersburg'}, {'id': 12964777, 'first_name': 'Konstantin', 'last_name': 'Savander', 'city': 'Petrozavodsk'}, {'id': 13264670, 'first_name': 'Elena', 'last_name': 'Matrosova', 'city': 'Petrozavodsk'}, {'id': 14898872, 'first_name': 'Andrey', 'last_name': 'Grishin', 'city': 'Petrozavodsk'}, {'id': 15128568, 'first_name': 'DELETED', 'last_name': '', 'city': 'Moscow'}, {'id': 15225242, 'first_name': 'Kristina', 'last_name': 'Kireeva', 'city': 'Tallinn'}, {'id': 15619217, 'first_name': 'Nikita', 'last_name': 'Dobronravov', 'city': 'Turku'}, {'id': 17269346, 'first_name': 'Yulia', 'last_name': 'Kaptur', 'city': 'Не указан'}, {'id': 19879608, 'first_name': 'Fargat', 'last_name': 'Khadiev', 'city': 'Kazan'}, {'id': 21420554, 'first_name': 'Alexander', 'last_name': 'Shesterikov', 'city': 'Не указан'}, {'id': 22061640, 'first_name': 'Lenchik', 'last_name': 'Zinina', 'city': 'Kostomuksha'}, {'id': 25964179, 'first_name': 'DELETED', 'last_name': '', 'city': 'Petrozavodsk'}, {'id': 27967440, 'first_name': 'Sergey', 'last_name': 'Melnichenko', 'city': 'Ledmozero'}, {'id': 29371532, 'first_name': 'DELETED', 'last_name': '', 'city': 'Kostomuksha'}, {'id': 29948134, 'first_name': 'Sampo', 'last_name': 'Ilya', 'city': 'Petrozavodsk'}, {'id': 30295976, 'first_name': 'Maxim', 'last_name': 'Repichev', 'city': 'Turku'}, {'id': 30296804, 'first_name': 'Annya', 'last_name': 'Razoryonova', 'city': 'Saint Petersburg'}, {'id': 30875993, 'first_name': 'Marina', 'last_name': 'Terekhina', 'city': 'Saint Petersburg'}, {'id': 31187627, 'first_name': 'Alexey', 'last_name': 'Igolkin', 'city': 'Tikhvin'}, {'id': 31789038, 'first_name': 'Alexander', 'last_name': 'Yaskelyaynen', 'city': 'Kostomuksha'}, {'id': 33129188, 'first_name': 'Tatyana', 'last_name': 'Malinkina', 'city': 'Petrozavodsk'}, {'id': 33152408, 'first_name': 'DELETED', 'last_name': '', 'city': 'Petrozavodsk'}, {'id': 36292653, 'first_name': 'Galina', 'last_name': 'Kryuchkova', 'city': 'Kondopoga'}, {'id': 37418078, 'first_name': 'Viktor', 'last_name': 'Lindunen', 'city': 'Saint Petersburg'}, {'id': 41584140, 'first_name': 'Sergey', 'last_name': 'Petrov', 'city': 'Petrozavodsk'}, {'id': 41910773, 'first_name': 'Vladimir', 'last_name': 'Sobolev', 'city': 'Не указан'}, {'id': 42233069, 'first_name': 'Ivan', 'last_name': 'Ivanov', 'city': 'Petrozavodsk'}, {'id': 42756810, 'first_name': 'Nastenka', 'last_name': 'Mm', 'city': 'Petrozavodsk'}, {'id': 44146378, 'first_name': 'Dmitry', 'last_name': 'Plyusnin', 'city': 'Saint Petersburg'}, {'id': 45152544, 'first_name': 'Alexander', 'last_name': 'Boyarov', 'city': 'Petrozavodsk'}, {'id': 46030815, 'first_name': 'DELETED', 'last_name': '', 'city': 'Petrozavodsk'}, {'id': 46301769, 'first_name': 'Alexander', 'last_name': 'Sugakov', 'city': 'Aktau'}, {'id': 46714846, 'first_name': 'Alho', 'last_name': 'Virolainen', 'city': 'Novosibirsk'}, {'id': 46853892, 'first_name': 'Anton', 'last_name': 'Smirnov', 'city': 'Saint Petersburg'}, {'id': 50084486, 'first_name': 'Olga', 'last_name': 'Lysko', 'city': 'Vyborg'}, {'id': 54373506, 'first_name': 'Ivan', 'last_name': 'Dolgoborodov', 'city': 'Brest'}, {'id': 57051475, 'first_name': 'Ekaterina', 'last_name': 'Kudinova', 'city': 'Petrozavodsk'}, {'id': 58086504, 'first_name': 'Yury', 'last_name': 'Kievsky', 'city': 'Arkhangelsk'}, {'id': 59586725, 'first_name': 'Tatyana', 'last_name': 'Popova', 'city': 'Kondopoga'}, {'id': 60499209, 'first_name': 'Laura', 'last_name': 'Siraguza', 'city': 'Columbus'}, {'id': 60990128, 'first_name': 'DELETED', 'last_name': '', 'city': 'Не указан'}, {'id': 63461923, 'first_name': 'Vlad', 'last_name': 'Bolkhovich', 'city': 'Bolkhov'}, {'id': 67781302, 'first_name': 'Anya', 'last_name': 'Kariauli', 'city': 'Vladikavkaz'}, {'id': 70738201, 'first_name': 'Olga', 'last_name': 'Karonen', 'city': 'Petrozavodsk'}, {'id': 73349302, 'first_name': 'Andrey', 'last_name': 'Lindunen', 'city': 'Oulu'}, {'id': 76950416, 'first_name': 'Domini', 'last_name': 'Montessori', 'city': 'Petrozavodsk'}, {'id': 82224412, 'first_name': 'Oleg', 'last_name': 'Pashkov', 'city': 'Petrozavodsk'}, {'id': 85468139, 'first_name': 'Anastasia', 'last_name': 'Guschina', 'city': 'Tyumen'}, {'id': 86510177, 'first_name': 'Ekaterina', 'last_name': 'Budur', 'city': 'Не указан'}, {'id': 88552251, 'first_name': 'Natalya', 'last_name': 'Bondar', 'city': 'Petrozavodsk'}, {'id': 89692533, 'first_name': 'Elena', 'last_name': 'Kryukovtsova', 'city': 'Kondopoga'}, {'id': 91870909, 'first_name': 'Kirill', 'last_name': 'Dedov', 'city': 'Не указан'}, {'id': 96042716, 'first_name': 'DELETED', 'last_name': '', 'city': 'Saint Petersburg'}, {'id': 98625136, 'first_name': 'Ilya', 'last_name': 'Shanti', 'city': 'Petrozavodsk'}, {'id': 101722462, 'first_name': 'Tatyana', 'last_name': 'Ivashova', 'city': 'Petrozavodsk'}, {'id': 101771273, 'first_name': 'Egor', 'last_name': 'Andreev', 'city': 'Не указан'}, {'id': 116395579, 'first_name': 'Alexander', 'last_name': 'Kovalchuk', 'city': 'Anapa'}, {'id': 140729087, 'first_name': 'Andrey', 'last_name': 'Gribakin', 'city': 'Не указан'}, {'id': 145358002, 'first_name': 'Maxim', 'last_name': 'Gritchin', 'city': 'Не указан'}, {'id': 151161501, 'first_name': \"Marishul'ka\", 'last_name': 'Markova', 'city': 'Не указан'}, {'id': 155191220, 'first_name': 'Yasenka', 'last_name': '*******', 'city': 'Не указан'}, {'id': 157645268, 'first_name': 'Olga', 'last_name': 'Semyonova', 'city': 'Petrozavodsk'}, {'id': 168179903, 'first_name': 'DELETED', 'last_name': '', 'city': 'Moscow'}, {'id': 169063996, 'first_name': 'Πetr', 'last_name': 'Εrshov', 'city': 'Petrozavodsk'}, {'id': 175758875, 'first_name': 'Ivan', 'last_name': 'Kornienko', 'city': 'Kyiv'}, {'id': 176512574, 'first_name': 'DELETED', 'last_name': '', 'city': 'Rostov-on-Don'}, {'id': 177121260, 'first_name': 'Galina', 'last_name': 'Gubina', 'city': 'Petrozavodsk'}, {'id': 179094103, 'first_name': 'Alexander', 'last_name': 'Tatarintsev', 'city': 'Не указан'}, {'id': 180167793, 'first_name': 'Lyubov', 'last_name': 'Dankanich', 'city': 'Pyaozersky'}, {'id': 181102452, 'first_name': 'Mikhail', 'last_name': 'Zholudev', 'city': 'Не указан'}, {'id': 183644826, 'first_name': 'Molodezhnoe-Pravoslavnoe-Dvizhenie', 'last_name': 'Donetskoy-Eparkhii', 'city': 'Donetsk'}, {'id': 188306034, 'first_name': 'Yury', 'last_name': 'Ptitsyn', 'city': 'Moscow'}, {'id': 192240013, 'first_name': 'Vladimir', 'last_name': 'Sobolev', 'city': 'Не указан'}, {'id': 194559807, 'first_name': 'Dmitry', 'last_name': 'Kuchkin', 'city': 'Podolsk'}, {'id': 216561929, 'first_name': 'Marina', 'last_name': 'Teplova', 'city': 'Moscow'}, {'id': 221712162, 'first_name': 'Theodore', 'last_name': 'Setsko', 'city': 'Moscow'}, {'id': 223591137, 'first_name': 'DELETED', 'last_name': '', 'city': 'Helsinki'}, {'id': 230282627, 'first_name': 'DELETED', 'last_name': '', 'city': 'Québec'}, {'id': 232112474, 'first_name': 'DELETED', 'last_name': '', 'city': 'Не указан'}, {'id': 249640297, 'first_name': 'Irina', 'last_name': 'Malina', 'city': 'Moscow'}, {'id': 271474305, 'first_name': 'DELETED', 'last_name': '', 'city': 'Taganrog'}, {'id': 290457018, 'first_name': 'Karjalan', 'last_name': 'Rahvahat', 'city': 'Kalevala'}, {'id': 293162077, 'first_name': 'DELETED', 'last_name': '', 'city': 'Saint Petersburg'}, {'id': 326765219, 'first_name': 'DELETED', 'last_name': '', 'city': 'Ufa'}, {'id': 330439623, 'first_name': 'Lora', 'last_name': 'Sudenko', 'city': 'Moscow'}, {'id': 459990777, 'first_name': 'Valeria', 'last_name': 'Shipovkina', 'city': 'Moscow'}, {'id': 473032372, 'first_name': 'Natalia', 'last_name': 'Romanova', 'city': 'Alajärvi'}, {'id': 521927746, 'first_name': 'Alexander', 'last_name': 'Chertov', 'city': 'Не указан'}]\n"
          ]
        }
      ]
    },
    {
      "cell_type": "code",
      "source": [
        "df = pd.DataFrame(subscribers)"
      ],
      "metadata": {
        "id": "-bcfjHMGH0hn"
      },
      "execution_count": 7,
      "outputs": []
    },
    {
      "cell_type": "code",
      "source": [
        "df.head(10)"
      ],
      "metadata": {
        "colab": {
          "base_uri": "https://localhost:8080/",
          "height": 363
        },
        "id": "8tB1uVYqH4Rx",
        "outputId": "1b05479d-ab45-4046-db0b-9687ea71e486"
      },
      "execution_count": 8,
      "outputs": [
        {
          "output_type": "execute_result",
          "data": {
            "text/plain": [
              "        id first_name    last_name              city\n",
              "0   468689  Ekaterina    Terekhina              Lyon\n",
              "1   544360      Irina   Poliektova       Tegucigalpa\n",
              "2   671449     Alexey     Tsykarev      Petrozavodsk\n",
              "3   773377   Vladimir    Flavyanov  Saint Petersburg\n",
              "4  1239081       Nina     Zaytseva           Vologda\n",
              "5  1359539  Alexandra  Timoshilova            Moscow\n",
              "6  1540889   Svetlana     Alexeeva  Saint Petersburg\n",
              "7  1640466       Igor      Alexeev  Saint Petersburg\n",
              "8  2445152       Olga    Ignatenko      Petrozavodsk\n",
              "9  2595443   Veronika     Mikkonen         Не указан"
            ],
            "text/html": [
              "\n",
              "  <div id=\"df-7a90d766-0b9f-44f6-82b2-8e61ed7ed0f5\" class=\"colab-df-container\">\n",
              "    <div>\n",
              "<style scoped>\n",
              "    .dataframe tbody tr th:only-of-type {\n",
              "        vertical-align: middle;\n",
              "    }\n",
              "\n",
              "    .dataframe tbody tr th {\n",
              "        vertical-align: top;\n",
              "    }\n",
              "\n",
              "    .dataframe thead th {\n",
              "        text-align: right;\n",
              "    }\n",
              "</style>\n",
              "<table border=\"1\" class=\"dataframe\">\n",
              "  <thead>\n",
              "    <tr style=\"text-align: right;\">\n",
              "      <th></th>\n",
              "      <th>id</th>\n",
              "      <th>first_name</th>\n",
              "      <th>last_name</th>\n",
              "      <th>city</th>\n",
              "    </tr>\n",
              "  </thead>\n",
              "  <tbody>\n",
              "    <tr>\n",
              "      <th>0</th>\n",
              "      <td>468689</td>\n",
              "      <td>Ekaterina</td>\n",
              "      <td>Terekhina</td>\n",
              "      <td>Lyon</td>\n",
              "    </tr>\n",
              "    <tr>\n",
              "      <th>1</th>\n",
              "      <td>544360</td>\n",
              "      <td>Irina</td>\n",
              "      <td>Poliektova</td>\n",
              "      <td>Tegucigalpa</td>\n",
              "    </tr>\n",
              "    <tr>\n",
              "      <th>2</th>\n",
              "      <td>671449</td>\n",
              "      <td>Alexey</td>\n",
              "      <td>Tsykarev</td>\n",
              "      <td>Petrozavodsk</td>\n",
              "    </tr>\n",
              "    <tr>\n",
              "      <th>3</th>\n",
              "      <td>773377</td>\n",
              "      <td>Vladimir</td>\n",
              "      <td>Flavyanov</td>\n",
              "      <td>Saint Petersburg</td>\n",
              "    </tr>\n",
              "    <tr>\n",
              "      <th>4</th>\n",
              "      <td>1239081</td>\n",
              "      <td>Nina</td>\n",
              "      <td>Zaytseva</td>\n",
              "      <td>Vologda</td>\n",
              "    </tr>\n",
              "    <tr>\n",
              "      <th>5</th>\n",
              "      <td>1359539</td>\n",
              "      <td>Alexandra</td>\n",
              "      <td>Timoshilova</td>\n",
              "      <td>Moscow</td>\n",
              "    </tr>\n",
              "    <tr>\n",
              "      <th>6</th>\n",
              "      <td>1540889</td>\n",
              "      <td>Svetlana</td>\n",
              "      <td>Alexeeva</td>\n",
              "      <td>Saint Petersburg</td>\n",
              "    </tr>\n",
              "    <tr>\n",
              "      <th>7</th>\n",
              "      <td>1640466</td>\n",
              "      <td>Igor</td>\n",
              "      <td>Alexeev</td>\n",
              "      <td>Saint Petersburg</td>\n",
              "    </tr>\n",
              "    <tr>\n",
              "      <th>8</th>\n",
              "      <td>2445152</td>\n",
              "      <td>Olga</td>\n",
              "      <td>Ignatenko</td>\n",
              "      <td>Petrozavodsk</td>\n",
              "    </tr>\n",
              "    <tr>\n",
              "      <th>9</th>\n",
              "      <td>2595443</td>\n",
              "      <td>Veronika</td>\n",
              "      <td>Mikkonen</td>\n",
              "      <td>Не указан</td>\n",
              "    </tr>\n",
              "  </tbody>\n",
              "</table>\n",
              "</div>\n",
              "    <div class=\"colab-df-buttons\">\n",
              "\n",
              "  <div class=\"colab-df-container\">\n",
              "    <button class=\"colab-df-convert\" onclick=\"convertToInteractive('df-7a90d766-0b9f-44f6-82b2-8e61ed7ed0f5')\"\n",
              "            title=\"Convert this dataframe to an interactive table.\"\n",
              "            style=\"display:none;\">\n",
              "\n",
              "  <svg xmlns=\"http://www.w3.org/2000/svg\" height=\"24px\" viewBox=\"0 -960 960 960\">\n",
              "    <path d=\"M120-120v-720h720v720H120Zm60-500h600v-160H180v160Zm220 220h160v-160H400v160Zm0 220h160v-160H400v160ZM180-400h160v-160H180v160Zm440 0h160v-160H620v160ZM180-180h160v-160H180v160Zm440 0h160v-160H620v160Z\"/>\n",
              "  </svg>\n",
              "    </button>\n",
              "\n",
              "  <style>\n",
              "    .colab-df-container {\n",
              "      display:flex;\n",
              "      gap: 12px;\n",
              "    }\n",
              "\n",
              "    .colab-df-convert {\n",
              "      background-color: #E8F0FE;\n",
              "      border: none;\n",
              "      border-radius: 50%;\n",
              "      cursor: pointer;\n",
              "      display: none;\n",
              "      fill: #1967D2;\n",
              "      height: 32px;\n",
              "      padding: 0 0 0 0;\n",
              "      width: 32px;\n",
              "    }\n",
              "\n",
              "    .colab-df-convert:hover {\n",
              "      background-color: #E2EBFA;\n",
              "      box-shadow: 0px 1px 2px rgba(60, 64, 67, 0.3), 0px 1px 3px 1px rgba(60, 64, 67, 0.15);\n",
              "      fill: #174EA6;\n",
              "    }\n",
              "\n",
              "    .colab-df-buttons div {\n",
              "      margin-bottom: 4px;\n",
              "    }\n",
              "\n",
              "    [theme=dark] .colab-df-convert {\n",
              "      background-color: #3B4455;\n",
              "      fill: #D2E3FC;\n",
              "    }\n",
              "\n",
              "    [theme=dark] .colab-df-convert:hover {\n",
              "      background-color: #434B5C;\n",
              "      box-shadow: 0px 1px 3px 1px rgba(0, 0, 0, 0.15);\n",
              "      filter: drop-shadow(0px 1px 2px rgba(0, 0, 0, 0.3));\n",
              "      fill: #FFFFFF;\n",
              "    }\n",
              "  </style>\n",
              "\n",
              "    <script>\n",
              "      const buttonEl =\n",
              "        document.querySelector('#df-7a90d766-0b9f-44f6-82b2-8e61ed7ed0f5 button.colab-df-convert');\n",
              "      buttonEl.style.display =\n",
              "        google.colab.kernel.accessAllowed ? 'block' : 'none';\n",
              "\n",
              "      async function convertToInteractive(key) {\n",
              "        const element = document.querySelector('#df-7a90d766-0b9f-44f6-82b2-8e61ed7ed0f5');\n",
              "        const dataTable =\n",
              "          await google.colab.kernel.invokeFunction('convertToInteractive',\n",
              "                                                    [key], {});\n",
              "        if (!dataTable) return;\n",
              "\n",
              "        const docLinkHtml = 'Like what you see? Visit the ' +\n",
              "          '<a target=\"_blank\" href=https://colab.research.google.com/notebooks/data_table.ipynb>data table notebook</a>'\n",
              "          + ' to learn more about interactive tables.';\n",
              "        element.innerHTML = '';\n",
              "        dataTable['output_type'] = 'display_data';\n",
              "        await google.colab.output.renderOutput(dataTable, element);\n",
              "        const docLink = document.createElement('div');\n",
              "        docLink.innerHTML = docLinkHtml;\n",
              "        element.appendChild(docLink);\n",
              "      }\n",
              "    </script>\n",
              "  </div>\n",
              "\n",
              "\n",
              "<div id=\"df-c909a864-198c-4182-8832-646ee55d8033\">\n",
              "  <button class=\"colab-df-quickchart\" onclick=\"quickchart('df-c909a864-198c-4182-8832-646ee55d8033')\"\n",
              "            title=\"Suggest charts\"\n",
              "            style=\"display:none;\">\n",
              "\n",
              "<svg xmlns=\"http://www.w3.org/2000/svg\" height=\"24px\"viewBox=\"0 0 24 24\"\n",
              "     width=\"24px\">\n",
              "    <g>\n",
              "        <path d=\"M19 3H5c-1.1 0-2 .9-2 2v14c0 1.1.9 2 2 2h14c1.1 0 2-.9 2-2V5c0-1.1-.9-2-2-2zM9 17H7v-7h2v7zm4 0h-2V7h2v10zm4 0h-2v-4h2v4z\"/>\n",
              "    </g>\n",
              "</svg>\n",
              "  </button>\n",
              "\n",
              "<style>\n",
              "  .colab-df-quickchart {\n",
              "      --bg-color: #E8F0FE;\n",
              "      --fill-color: #1967D2;\n",
              "      --hover-bg-color: #E2EBFA;\n",
              "      --hover-fill-color: #174EA6;\n",
              "      --disabled-fill-color: #AAA;\n",
              "      --disabled-bg-color: #DDD;\n",
              "  }\n",
              "\n",
              "  [theme=dark] .colab-df-quickchart {\n",
              "      --bg-color: #3B4455;\n",
              "      --fill-color: #D2E3FC;\n",
              "      --hover-bg-color: #434B5C;\n",
              "      --hover-fill-color: #FFFFFF;\n",
              "      --disabled-bg-color: #3B4455;\n",
              "      --disabled-fill-color: #666;\n",
              "  }\n",
              "\n",
              "  .colab-df-quickchart {\n",
              "    background-color: var(--bg-color);\n",
              "    border: none;\n",
              "    border-radius: 50%;\n",
              "    cursor: pointer;\n",
              "    display: none;\n",
              "    fill: var(--fill-color);\n",
              "    height: 32px;\n",
              "    padding: 0;\n",
              "    width: 32px;\n",
              "  }\n",
              "\n",
              "  .colab-df-quickchart:hover {\n",
              "    background-color: var(--hover-bg-color);\n",
              "    box-shadow: 0 1px 2px rgba(60, 64, 67, 0.3), 0 1px 3px 1px rgba(60, 64, 67, 0.15);\n",
              "    fill: var(--button-hover-fill-color);\n",
              "  }\n",
              "\n",
              "  .colab-df-quickchart-complete:disabled,\n",
              "  .colab-df-quickchart-complete:disabled:hover {\n",
              "    background-color: var(--disabled-bg-color);\n",
              "    fill: var(--disabled-fill-color);\n",
              "    box-shadow: none;\n",
              "  }\n",
              "\n",
              "  .colab-df-spinner {\n",
              "    border: 2px solid var(--fill-color);\n",
              "    border-color: transparent;\n",
              "    border-bottom-color: var(--fill-color);\n",
              "    animation:\n",
              "      spin 1s steps(1) infinite;\n",
              "  }\n",
              "\n",
              "  @keyframes spin {\n",
              "    0% {\n",
              "      border-color: transparent;\n",
              "      border-bottom-color: var(--fill-color);\n",
              "      border-left-color: var(--fill-color);\n",
              "    }\n",
              "    20% {\n",
              "      border-color: transparent;\n",
              "      border-left-color: var(--fill-color);\n",
              "      border-top-color: var(--fill-color);\n",
              "    }\n",
              "    30% {\n",
              "      border-color: transparent;\n",
              "      border-left-color: var(--fill-color);\n",
              "      border-top-color: var(--fill-color);\n",
              "      border-right-color: var(--fill-color);\n",
              "    }\n",
              "    40% {\n",
              "      border-color: transparent;\n",
              "      border-right-color: var(--fill-color);\n",
              "      border-top-color: var(--fill-color);\n",
              "    }\n",
              "    60% {\n",
              "      border-color: transparent;\n",
              "      border-right-color: var(--fill-color);\n",
              "    }\n",
              "    80% {\n",
              "      border-color: transparent;\n",
              "      border-right-color: var(--fill-color);\n",
              "      border-bottom-color: var(--fill-color);\n",
              "    }\n",
              "    90% {\n",
              "      border-color: transparent;\n",
              "      border-bottom-color: var(--fill-color);\n",
              "    }\n",
              "  }\n",
              "</style>\n",
              "\n",
              "  <script>\n",
              "    async function quickchart(key) {\n",
              "      const quickchartButtonEl =\n",
              "        document.querySelector('#' + key + ' button');\n",
              "      quickchartButtonEl.disabled = true;  // To prevent multiple clicks.\n",
              "      quickchartButtonEl.classList.add('colab-df-spinner');\n",
              "      try {\n",
              "        const charts = await google.colab.kernel.invokeFunction(\n",
              "            'suggestCharts', [key], {});\n",
              "      } catch (error) {\n",
              "        console.error('Error during call to suggestCharts:', error);\n",
              "      }\n",
              "      quickchartButtonEl.classList.remove('colab-df-spinner');\n",
              "      quickchartButtonEl.classList.add('colab-df-quickchart-complete');\n",
              "    }\n",
              "    (() => {\n",
              "      let quickchartButtonEl =\n",
              "        document.querySelector('#df-c909a864-198c-4182-8832-646ee55d8033 button');\n",
              "      quickchartButtonEl.style.display =\n",
              "        google.colab.kernel.accessAllowed ? 'block' : 'none';\n",
              "    })();\n",
              "  </script>\n",
              "</div>\n",
              "    </div>\n",
              "  </div>\n"
            ],
            "application/vnd.google.colaboratory.intrinsic+json": {
              "type": "dataframe",
              "variable_name": "df",
              "summary": "{\n  \"name\": \"df\",\n  \"rows\": 121,\n  \"fields\": [\n    {\n      \"column\": \"id\",\n      \"properties\": {\n        \"dtype\": \"number\",\n        \"std\": 104140735,\n        \"min\": 468689,\n        \"max\": 521927746,\n        \"num_unique_values\": 121,\n        \"samples\": [\n          25964179,\n          29948134,\n          1239081\n        ],\n        \"semantic_type\": \"\",\n        \"description\": \"\"\n      }\n    },\n    {\n      \"column\": \"first_name\",\n      \"properties\": {\n        \"dtype\": \"string\",\n        \"num_unique_values\": 63,\n        \"samples\": [\n          \"Valeria\",\n          \"Molodezhnoe-Pravoslavnoe-Dvizhenie\",\n          \"Ekaterina\"\n        ],\n        \"semantic_type\": \"\",\n        \"description\": \"\"\n      }\n    },\n    {\n      \"column\": \"last_name\",\n      \"properties\": {\n        \"dtype\": \"string\",\n        \"num_unique_values\": 101,\n        \"samples\": [\n          \"\\u0395rshov\",\n          \"Boyarov\",\n          \"Kariauli\"\n        ],\n        \"semantic_type\": \"\",\n        \"description\": \"\"\n      }\n    },\n    {\n      \"column\": \"city\",\n      \"properties\": {\n        \"dtype\": \"category\",\n        \"num_unique_values\": 39,\n        \"samples\": [\n          \"Helsinki\",\n          \"Kalevala\",\n          \"Vologda\"\n        ],\n        \"semantic_type\": \"\",\n        \"description\": \"\"\n      }\n    }\n  ]\n}"
            }
          },
          "metadata": {},
          "execution_count": 8
        }
      ]
    },
    {
      "cell_type": "code",
      "source": [
        "df.info()"
      ],
      "metadata": {
        "colab": {
          "base_uri": "https://localhost:8080/"
        },
        "id": "pBiopToxH7fF",
        "outputId": "1b70feb2-b7ca-4ed5-9194-9a2609378835"
      },
      "execution_count": 9,
      "outputs": [
        {
          "output_type": "stream",
          "name": "stdout",
          "text": [
            "<class 'pandas.core.frame.DataFrame'>\n",
            "RangeIndex: 121 entries, 0 to 120\n",
            "Data columns (total 4 columns):\n",
            " #   Column      Non-Null Count  Dtype \n",
            "---  ------      --------------  ----- \n",
            " 0   id          121 non-null    int64 \n",
            " 1   first_name  121 non-null    object\n",
            " 2   last_name   121 non-null    object\n",
            " 3   city        121 non-null    object\n",
            "dtypes: int64(1), object(3)\n",
            "memory usage: 3.9+ KB\n"
          ]
        }
      ]
    },
    {
      "cell_type": "code",
      "source": [
        "value_counts = df['city'].value_counts()\n",
        "print(value_counts)"
      ],
      "metadata": {
        "colab": {
          "base_uri": "https://localhost:8080/"
        },
        "id": "LHQGPqJgH915",
        "outputId": "1a20f46d-460d-42c5-883e-3846d19db46d"
      },
      "execution_count": 13,
      "outputs": [
        {
          "output_type": "stream",
          "name": "stdout",
          "text": [
            "city\n",
            "Petrozavodsk        33\n",
            "Не указан           19\n",
            "Saint Petersburg    18\n",
            "Moscow              11\n",
            "Kondopoga            3\n",
            "Kostomuksha          3\n",
            "Turku                2\n",
            "Donetsk              1\n",
            "Oulu                 1\n",
            "Tyumen               1\n",
            "Anapa                1\n",
            "Kyiv                 1\n",
            "Rostov-on-Don        1\n",
            "Pyaozersky           1\n",
            "Lyon                 1\n",
            "Podolsk              1\n",
            "Bolkhov              1\n",
            "Helsinki             1\n",
            "Québec               1\n",
            "Taganrog             1\n",
            "Kalevala             1\n",
            "Ufa                  1\n",
            "Vladikavkaz          1\n",
            "Vyborg               1\n",
            "Columbus             1\n",
            "Arkhangelsk          1\n",
            "Brest                1\n",
            "Tegucigalpa          1\n",
            "Novosibirsk          1\n",
            "Aktau                1\n",
            "Tikhvin              1\n",
            "Ledmozero            1\n",
            "Kazan                1\n",
            "Tallinn              1\n",
            "Kruševac             1\n",
            "Dzerzhinsky          1\n",
            "Belomorsk            1\n",
            "Vologda              1\n",
            "Alajärvi             1\n",
            "Name: count, dtype: int64\n"
          ]
        }
      ]
    },
    {
      "cell_type": "code",
      "source": [
        "top_10_names = value_counts.head(10)\n",
        "plt.figure(figsize=(10, 6))\n",
        "top_10_names.plot(kind='bar', color='skyblue')\n",
        "plt.title('10 самых популярных городов подписчиков группы Православные Карелии')\n",
        "plt.xlabel('Город')\n",
        "plt.ylabel('Количество людей')\n",
        "plt.xticks(rotation=45)\n",
        "plt.grid(axis='y')\n",
        "plt.show()"
      ],
      "metadata": {
        "colab": {
          "base_uri": "https://localhost:8080/",
          "height": 641
        },
        "id": "9y1_iekVI-i3",
        "outputId": "e79bec1d-38dc-49ff-b646-de485d35b519"
      },
      "execution_count": 17,
      "outputs": [
        {
          "output_type": "display_data",
          "data": {
            "text/plain": [
              "<Figure size 1000x600 with 1 Axes>"
            ],
            "image/png": "[encoded data removed]"
          },
          "metadata": {}
        }
      ]
    }
  ]
}