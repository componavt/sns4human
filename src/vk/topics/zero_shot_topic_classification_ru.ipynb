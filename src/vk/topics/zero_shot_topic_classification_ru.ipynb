{
  "nbformat": 4,
  "nbformat_minor": 0,
  "metadata": {
    "colab": {
      "provenance": [],
      "gpuType": "T4",
      "authorship_tag": "ABX9TyN156bVLpm2BxiYJiFiJPZf",
      "include_colab_link": true
    },
    "kernelspec": {
      "name": "python3",
      "display_name": "Python 3"
    },
    "language_info": {
      "name": "python"
    },
    "accelerator": "GPU"
  },
  "cells": [
    {
      "cell_type": "markdown",
      "metadata": {
        "id": "view-in-github",
        "colab_type": "text"
      },
      "source": [
        "<a href=\"https://colab.research.google.com/github/componavt/sns4human/blob/main/src/vk/topics/zero_shot_topic_classification_ru.ipynb\" target=\"_parent\"><img src=\"https://colab.research.google.com/assets/colab-badge.svg\" alt=\"Open In Colab\"/></a>"
      ]
    },
    {
      "cell_type": "markdown",
      "source": [
        "# 🔍📚 Zero-Shot Multilingual Topic Classifier\n",
        "\n",
        "🎯 **Goal**: Automatically assign one of 24 expert-defined topics to thousands of short social media posts — without any fine-tuning!\n",
        "\n",
        "🤖 **Model**: [`joeddav/xlm-roberta-large-xnli`](https://huggingface.co/joeddav/xlm-roberta-large-xnli) (based on XLM-RoBERTa)\n",
        "\n",
        "🗂 **Input**: CSV file with columns:\n",
        "- `text` — the post content\n",
        "- `topic` — the expert-assigned label\n",
        "\n",
        "📈 **Output**:\n",
        "- `classified_posts.csv` with predicted topic and confidence score\n",
        "- Evaluation metrics: `accuracy`, `precision`, `recall`, `F1-score`\n",
        "\n",
        "🧪 Ideal for: fast prototyping of topic classification in Russian and other languages using Hugging Face's zero-shot pipeline.\n",
        "\n",
        "⚡️ Tip: Batch-processing enabled for efficient GPU utilization."
      ],
      "metadata": {
        "id": "SYKUhwCYWCKZ"
      }
    },
    {
      "cell_type": "code",
      "source": [
        "# topics are indicated by an expert for each social network post\n",
        "filename = '512_posts_24_topics.csv'"
      ],
      "metadata": {
        "id": "GNYG0aqgO9YT"
      },
      "execution_count": 1,
      "outputs": []
    },
    {
      "cell_type": "code",
      "execution_count": null,
      "metadata": {
        "id": "JJUb8UuvL8Ai"
      },
      "outputs": [],
      "source": [
        "from transformers import pipeline\n",
        "import pandas as pd\n",
        "from tqdm import tqdm\n",
        "from io import StringIO\n",
        "import requests\n",
        "from io import StringIO\n",
        "import requests\n",
        "from sklearn.metrics import classification_report, confusion_matrix\n",
        "import matplotlib.pyplot as plt\n",
        "import seaborn as sns\n",
        "import numpy as np\n",
        "\n",
        "# Load zero-shot classification pipeline with multilingual support\n",
        "classifier = pipeline(\"zero-shot-classification\", model=\"joeddav/xlm-roberta-large-xnli\")\n",
        "\n",
        "# Load texts with 'text' and 'topic' columns\n",
        "response = requests.get(f'https://raw.githubusercontent.com/componavt/sns4human/refs/heads/main/data/vk/topics/{filename}')\n",
        "df = pd.read_csv(StringIO(response.text), delimiter=',', encoding='utf-8')\n",
        "\n",
        "# Remove unassigned topic posts\n",
        "df = df[df['topic'].str.lower() != 'пусто'].copy()\n",
        "\n",
        "print(f\"Total posts after filtering: {len(df)}\")\n",
        "\n",
        "texts       = df['text'].tolist()\n",
        "true_labels = df['topic'].tolist()\n",
        "\n",
        "# List of 24-1 topic labels defined by the expert\n",
        "topic_labels = [\n",
        "    \"Эпос_Калевала\", \"благоустройство\", \"вепсы\", \"война\", \"выставка\",\n",
        "    \"день рождения и юбилей\", \"еда кухня\", \"карельский язык\", \"конкурс\",\n",
        "    \"литература\", \"мероприятия проекты\", \"музей. экскурсия\", \"музыка\",\n",
        "    \"образование\", \"поэзия\", \"праздник\", \"природа\", \"социальная сфера\",\n",
        "    \"традиция\", \"фестиваль\", \"фольклор\", \"этнокультура\", \"язык\" #, \"пусто\"\n",
        "]\n",
        "\n",
        "# Store results\n",
        "results = []\n",
        "predicted_labels = []\n",
        "\n",
        "# Batch processing\n",
        "batch_size = 8\n",
        "for i in tqdm(range(0, len(texts), batch_size), desc=\"Classifying posts\"):\n",
        "    batch = texts[i:i+batch_size]\n",
        "    outputs = classifier(batch, topic_labels, multi_label=False)\n",
        "    if isinstance(outputs, dict):  # if only one item\n",
        "        outputs = [outputs]\n",
        "    for output in outputs:\n",
        "        top_label = output['labels'][0]\n",
        "        confidence = output['scores'][0]\n",
        "        predicted_labels.append(top_label)\n",
        "        results.append({\n",
        "            \"text\": output['sequence'],\n",
        "            \"predicted_topic\": top_label,\n",
        "            \"confidence\": confidence\n",
        "        })\n",
        "\n",
        "# Save to CSV\n",
        "result_df = pd.DataFrame(results)\n",
        "result_df['true_topic'] = true_labels\n",
        "result_df.to_csv(\"classified_posts.csv\", index=False, encoding=\"utf-8\")\n",
        "\n",
        "# Evaluate accuracy\n",
        "print(\"\\nClassification Report (Zero-Shot vs Expert Labels):\")\n",
        "print(classification_report(true_labels, predicted_labels, zero_division=0))\n",
        "\n",
        "# Confusion matrix visualization\n",
        "conf_matrix = confusion_matrix(true_labels, predicted_labels, labels=topic_labels)\n",
        "conf_matrix_normalized = conf_matrix.astype('float') / conf_matrix.sum(axis=1)[:, np.newaxis]\n",
        "\n",
        "# Create a mask for zero values\n",
        "mask = conf_matrix_normalized == 0\n",
        "\n",
        "plt.figure(figsize=(14, 12))\n",
        "sns.heatmap(conf_matrix_normalized, xticklabels=topic_labels, yticklabels=topic_labels,\n",
        "            annot=True, fmt=\".0%\", cmap=\"Blues\", cbar=True, square=True,\n",
        "            mask=mask,                # Mask cells with zero value\n",
        "            cbar_kws={\"shrink\": 0.5})\n",
        "plt.title(\"Confusion Matrix (Normalized by True Labels)\")\n",
        "plt.xlabel(\"Predicted Topic\")\n",
        "plt.ylabel(\"True Topic\")\n",
        "plt.xticks(rotation=90)\n",
        "plt.yticks(rotation=0)\n",
        "plt.tight_layout()\n",
        "plt.show()"
      ]
    }
  ]
}