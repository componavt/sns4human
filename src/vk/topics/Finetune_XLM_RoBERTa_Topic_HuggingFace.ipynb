{
  "nbformat": 4,
  "nbformat_minor": 0,
  "metadata": {
    "colab": {
      "provenance": [],
      "authorship_tag": "ABX9TyNWxCPiZaLlu9IXBwF88SjA",
      "include_colab_link": true
    },
    "kernelspec": {
      "name": "python3",
      "display_name": "Python 3"
    },
    "language_info": {
      "name": "python"
    }
  },
  "cells": [
    {
      "cell_type": "markdown",
      "metadata": {
        "id": "view-in-github",
        "colab_type": "text"
      },
      "source": [
        "<a href=\"https://colab.research.google.com/github/componavt/sns4human/blob/main/src/vk/topics/Finetune_XLM_RoBERTa_Topic_HuggingFace.ipynb\" target=\"_parent\"><img src=\"https://colab.research.google.com/assets/colab-badge.svg\" alt=\"Open In Colab\"/></a>"
      ]
    },
    {
      "cell_type": "code",
      "source": [
        "### Inference with Fine-Tuned Model from Hugging Face Hub\n",
        "\n",
        "**English:**\n",
        "This script loads a fine-tuned XLM-RoBERTa model for topic classification from the Hugging Face Hub. It then uses this model to classify new, unlabeled Russian social media posts and assigns each post a predicted topic and its confidence score.\n",
        "\n",
        "**Русский:**\n",
        "Этот скрипт загружает дообученную модель XLM-RoBERTa для тематической классификации с Hugging Face Hub. Затем он использует эту модель для классификации новых, неразмеченных постов из социальных сетей, присваивая каждому посту предсказанную тему и степень уверенности.\n",
        "\n",
        "```python\n",
        "# Required libraries\n",
        "from transformers import AutoTokenizer, AutoModelForSequenceClassification, TextClassificationPipeline\n",
        "import torch\n",
        "import pandas as pd\n",
        "import requests\n",
        "from io import StringIO\n",
        "from sklearn.preprocessing import LabelEncoder\n",
        "\n",
        "# Parameters\n",
        "model_repo = \"componavt/xlm-roberta-base-topic-classification-2025\"\n",
        "max_length = 512\n",
        "\n",
        "# Load tokenizer and model from Hugging Face Hub\n",
        "model = AutoModelForSequenceClassification.from_pretrained(model_repo)\n",
        "tokenizer = AutoTokenizer.from_pretrained(model_repo)\n",
        "\n",
        "# Recreate label encoder (must match training order)\n",
        "label_encoder = LabelEncoder()\n",
        "label_encoder.classes_ = [\n",
        "    \"благоустройство\", \"война\", \"выставка\", \"день рождения и юбилей\",\n",
        "    \"еда кухня\", \"здравоохранение\", \"карельский язык\", \"конкурс\", \"литература\",\n",
        "    \"мероприятия проекты\", \"музей. экскурсия\", \"музыка\", \"образование\", \"поэзия\",\n",
        "    \"праздник\", \"природа\", \"социальная сфера\", \"традиция\", \"фестиваль\", \"фольклор\",\n",
        "    \"этнокультура\", \"язык\", \"вепсы\", \"Эпос_Калевала\"\n",
        "]  # Ensure correct order of classes\n",
        "\n",
        "# Load unlabeled posts\n",
        "unlabeled_posts = \"speechvepkar.csv\"\n",
        "test_response = requests.get(f'https://raw.githubusercontent.com/componavt/sns4human/refs/heads/main/data/vk/posts/{unlabeled_posts}')\n",
        "test_df = pd.read_csv(StringIO(test_response.text), delimiter=',', encoding='utf-8')\n",
        "\n",
        "# Set up classification pipeline\n",
        "pipe = TextClassificationPipeline(\n",
        "    model=model,\n",
        "    tokenizer=tokenizer,\n",
        "    top_k=None,\n",
        "    device=0 if torch.cuda.is_available() else -1,\n",
        "    truncation=True,\n",
        "    max_length=max_length,\n",
        "    padding=True\n",
        ")\n",
        "\n",
        "# Predict topic with score\n",
        "results = []\n",
        "for _, row in test_df.iterrows():\n",
        "    text = row['text']\n",
        "    if not isinstance(text, str) or not text.strip():\n",
        "        continue  # Skip invalid text entries\n",
        "\n",
        "    preds = pipe(text)[0]  # list of dicts [{label: 'LABEL_0', score: ...}, ...]\n",
        "    best = max(preds, key=lambda x: x['score'])\n",
        "    topic_label = label_encoder.inverse_transform([int(best['label'].split('_')[-1])])[0]\n",
        "    results.append({\n",
        "        \"id\": row.get('id', None),\n",
        "        \"topic\": topic_label,\n",
        "        \"relatedness\": round(best['score'], 4),\n",
        "        \"text\": text,\n",
        "        \"date\": row.get('date'),\n",
        "        \"likes\": row.get('likes'),\n",
        "        \"reposts\": row.get('reposts'),\n",
        "        \"views\": row.get('views'),\n",
        "    })\n",
        "\n",
        "# Save labeled results\n",
        "pd.DataFrame(results).to_csv(\"labeled_predictions.csv\", index=False, encoding=\"utf-8\")\n",
        "```\n"
      ],
      "metadata": {
        "id": "DTPaOuoim6l6"
      },
      "execution_count": null,
      "outputs": []
    }
  ]
}