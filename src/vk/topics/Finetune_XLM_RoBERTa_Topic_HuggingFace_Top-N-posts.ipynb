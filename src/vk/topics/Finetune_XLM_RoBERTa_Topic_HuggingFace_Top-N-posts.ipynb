{
  "nbformat": 4,
  "nbformat_minor": 0,
  "metadata": {
    "colab": {
      "provenance": [],
      "authorship_tag": "ABX9TyPDpR4abmCMSMxgFYv7QRyE",
      "include_colab_link": true
    },
    "kernelspec": {
      "name": "python3",
      "display_name": "Python 3"
    },
    "language_info": {
      "name": "python"
    }
  },
  "cells": [
    {
      "cell_type": "markdown",
      "metadata": {
        "id": "view-in-github",
        "colab_type": "text"
      },
      "source": [
        "<a href=\"https://colab.research.google.com/github/componavt/sns4human/blob/main/src/vk/topics/Finetune_XLM_RoBERTa_Topic_HuggingFace_Top-N-posts.ipynb\" target=\"_parent\"><img src=\"https://colab.research.google.com/assets/colab-badge.svg\" alt=\"Open In Colab\"/></a>"
      ]
    },
    {
      "cell_type": "markdown",
      "source": [
        "**English:**\n",
        "This script loads a fine-tuned XLM-RoBERTa model for topic classification from the Hugging Face Hub. It then classifies posts from up to `n_files` CSV files in the `./data/vk/posts/` directory. Each post is assigned a topic with a confidence score. The results are saved into separate CSV files, one for each predicted topic, sorted by confidence in descending order. Progress is printed to the console.\n",
        "\n",
        "\n",
        "**Русский:**\n",
        "Этот скрипт загружает дообученную модель XLM-RoBERTa из Hugging Face для тематической классификации. Он классифицирует посты из выбранных CSV-файлов в директории `./data/vk/posts/`. Каждому посту присваивается тема и рассчитывается степень уверенности. Для каждой темы сохраняются только `k` постов с наибольшей уверенностью в отдельные CSV-файлы."
      ],
      "metadata": {
        "id": "u_2uy2qeJI64"
      }
    },
    {
      "cell_type": "code",
      "source": [
        "# Number of CSV files to process (change as needed)\n",
        "n_files = 2\n",
        "\n",
        "# Top-N posts per topic to keep\n",
        "k_top = 10\n",
        "\n",
        "# Define model path (Hugging Face repo)\n",
        "model_repo = \"componavt/xlm-roberta-base-topic-classification-2025\""
      ],
      "metadata": {
        "id": "Xupcx1PrrBGY"
      },
      "execution_count": 8,
      "outputs": []
    },
    {
      "cell_type": "code",
      "source": [
        "### Inference with Fine-Tuned Model from Hugging Face Hub\n",
        "\n",
        "!pip install -U transformers pandas scikit-learn\n",
        "\n",
        "import torch\n",
        "import pandas as pd\n",
        "import numpy as np\n",
        "from io import StringIO\n",
        "import requests\n",
        "from transformers import AutoTokenizer, AutoModelForSequenceClassification, TextClassificationPipeline\n",
        "from sklearn.preprocessing import LabelEncoder\n",
        "import os\n",
        "from huggingface_hub import snapshot_download\n",
        "from tqdm import tqdm\n",
        "from collections import defaultdict\n",
        "import heapq\n",
        "\n",
        "# Model and tokenizer\n",
        "model = AutoModelForSequenceClassification.from_pretrained(model_repo)\n",
        "tokenizer = AutoTokenizer.from_pretrained(model_repo)\n",
        "\n",
        "# Set model to GPU if available\n",
        "device = 0 if torch.cuda.is_available() else -1\n",
        "pipe = TextClassificationPipeline(\n",
        "    model=model,\n",
        "    tokenizer=tokenizer,\n",
        "    top_k=None,\n",
        "    device=device,\n",
        "    truncation=True,\n",
        "    max_length=512,\n",
        "    padding=True\n",
        ")\n",
        "\n",
        "# Define the topic list (same as during training)\n",
        "topic_labels = [\n",
        "    \"благоустройство\", \"вепсы\", \"война\", \"выставка\",\n",
        "    \"день рождения и юбилей\", \"еда кухня\", \"карельский язык\",\n",
        "    \"конкурс\", \"мероприятия проекты\", \"музей. экскурсия\",\n",
        "    \"музыка\", \"образование\", \"праздник\", \"природа\",\n",
        "    \"поэзия Калевала литература\", \"социальная сфера\",\n",
        "    \"традиция\", \"фестиваль\", \"этнокультура фольклор\",\n",
        "    \"язык\", \"Эпос_Калевала\", \"поэзия\", \"литература\"\n",
        "]\n",
        "\n",
        "# Fit label encoder for inverse mapping\n",
        "label_encoder = LabelEncoder()\n",
        "label_encoder.fit(topic_labels)\n",
        "\n",
        "# Clone the GitHub repo and collect CSVs\n",
        "if not os.path.exists(\"sns4human\"):\n",
        "    !git clone https://github.com/componavt/sns4human.git\n",
        "posts_dir = \"sns4human/data/vk/posts\"\n",
        "\n",
        "csv_files = [f for f in os.listdir(posts_dir) if f.endswith(\".csv\")][:n_files]\n",
        "\n",
        "# Dictionary of min-heaps for each topic\n",
        "top_k_heap = defaultdict(list)\n",
        "\n",
        "for file in tqdm(csv_files, desc=\"Processing files\"):\n",
        "    df = pd.read_csv(os.path.join(posts_dir, file), encoding='utf-8')\n",
        "    for _, row in df.iterrows():\n",
        "        text = row.get('text', '')\n",
        "        if not isinstance(text, str) or not text.strip():\n",
        "            continue\n",
        "\n",
        "        try:\n",
        "            preds = pipe(text)[0]  # list of dicts [{label: 'LABEL_0', score: ...}, ...]\n",
        "            best = max(preds, key=lambda x: x['score'])\n",
        "            pred_label = int(best['label'].replace('LABEL_', ''))\n",
        "            topic_label = label_encoder.inverse_transform([pred_label])[0]\n",
        "            relatedness = round(best['score'], 4)\n",
        "\n",
        "            heap = top_k_heap[topic_label]\n",
        "            if len(heap) < k_top:\n",
        "                heapq.heappush(heap, (relatedness, {\n",
        "                    \"topic\": topic_label,\n",
        "                    \"relatedness\": relatedness,\n",
        "                    \"text\": text,\n",
        "                    \"date\": row.get('date'),\n",
        "                    \"group\": row.get('group'),\n",
        "                    \"likes\": row.get('likes'),\n",
        "                    \"reposts\": row.get('reposts'),\n",
        "                    \"views\": row.get('views')\n",
        "                }))\n",
        "                print(f\"Classified: {topic_label} (confidence: {relatedness:.2%}) | Text snippet: {text[:50]}...\")\n",
        "            else:\n",
        "                if relatedness > heap[0][0]:\n",
        "                    heapq.heappushpop(heap, (relatedness, {\n",
        "                        \"topic\": topic_label,\n",
        "                        \"relatedness\": relatedness,\n",
        "                        \"text\": text,\n",
        "                        \"date\": row.get('date'),\n",
        "                        \"group\": row.get('group'),\n",
        "                        \"likes\": row.get('likes'),\n",
        "                        \"reposts\": row.get('reposts'),\n",
        "                        \"views\": row.get('views')\n",
        "                    }))\n",
        "                print(f\"Classified: {topic_label} (confidence: {relatedness:.2%}) | Text snippet: {text[:50]}...\")\n",
        "        except Exception as e:\n",
        "            print(f\"Skipping row due to error: {e}\")\n",
        "\n",
        "# Save top-k results for each topic\n",
        "for topic, heap in top_k_heap.items():\n",
        "    sorted_items = sorted(heap, key=lambda x: -x[0])  # descending\n",
        "    records = [entry for _, entry in sorted_items]\n",
        "    pd.DataFrame(records).to_csv(f\"{topic}.csv\", index=False, encoding=\"utf-8\")"
      ],
      "metadata": {
        "id": "DTPaOuoim6l6"
      },
      "execution_count": null,
      "outputs": []
    }
  ]
}