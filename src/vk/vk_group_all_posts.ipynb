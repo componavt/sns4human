{
  "nbformat": 4,
  "nbformat_minor": 0,
  "metadata": {
    "colab": {
      "provenance": [],
      "include_colab_link": true
    },
    "kernelspec": {
      "name": "python3",
      "display_name": "Python 3"
    },
    "language_info": {
      "name": "python"
    }
  },
  "cells": [
    {
      "cell_type": "markdown",
      "metadata": {
        "id": "view-in-github",
        "colab_type": "text"
      },
      "source": [
        "<a href=\"https://colab.research.google.com/github/componavt/sns4human/blob/main/src/vk/vk_group_all_posts.ipynb\" target=\"_parent\"><img src=\"https://colab.research.google.com/assets/colab-badge.svg\" alt=\"Open In Colab\"/></a>"
      ]
    },
    {
      "cell_type": "markdown",
      "source": [
        "Getting all posts from a VK group by a given domain name.\n",
        "\n",
        "Получение всех постов из группы ВК по заданному доменному имени."
      ],
      "metadata": {
        "id": "fwBwNuNEWIGQ"
      }
    },
    {
      "cell_type": "code",
      "source": [
        "# List of names of VK groups\n",
        "# domains = ['stupeniorthodox', 'club103835710', 'club151359929', 'club221681617']\n",
        "# domains = ['rk_nationalmuseum','olonmus','museum_ptz', 'vepsmuseum', 'club226126304', 'etnodomrk']# museum_tokens.csv\n",
        "# domains = ['echo_association', 'domderevnivoknavolok', 'public187190729', 'elamakeskus', 'vienakostamus',\n",
        "#           'vienasaatio', 'kinnermaki', 'public41933338', 'id154043584', 'club67297564',\n",
        "#           'haikola_kyla', 'club65008088']                                         # ethnocultural_tokens.csv\n",
        "domains = ['karjalankielenkodi','mediacenter_periodika','karel_colorit','karjalanrahvahanliitto','club2562309', 'club_dk_padany', 'melnikpryazha']# multifunctional_tokens.csv"
      ],
      "metadata": {
        "id": "IPLnWpGApmO1"
      },
      "execution_count": null,
      "outputs": []
    },
    {
      "cell_type": "code",
      "source": [
        "import pandas as pd\n",
        "import requests\n",
        "import csv  # for quoting\n",
        "from config import TOKEN, VERSION"
      ],
      "metadata": {
        "id": "EHRRIkfQH08i"
      },
      "execution_count": null,
      "outputs": []
    },
    {
      "cell_type": "code",
      "source": [
        "def get_all_posts(token, version, domain):\n",
        "    offset = 0\n",
        "    all_posts = []\n",
        "\n",
        "    while True:\n",
        "        response = requests.get(\n",
        "            'https://api.vk.com/method/wall.get',\n",
        "            params={\n",
        "                'access_token': token,\n",
        "                'v': version,\n",
        "                'domain': domain,\n",
        "                'offset': offset,\n",
        "                'count': 100\n",
        "            }\n",
        "        )\n",
        "        data = response.json()\n",
        "\n",
        "        if 'response' in data:\n",
        "            posts = data['response']['items']\n",
        "            all_posts.extend(posts)\n",
        "            if len(posts) < 100:\n",
        "                return all_posts\n",
        "            offset += 100\n",
        "        elif 'error' in data:\n",
        "            print(f\"Error: {data['error']['error_msg']}\")\n",
        "            return []\n",
        "        else:\n",
        "            return []"
      ],
      "metadata": {
        "id": "-Eyg1hXjHmlD"
      },
      "execution_count": null,
      "outputs": []
    },
    {
      "cell_type": "code",
      "source": [
        "def create_all_posts_csv(token, version, domain):\n",
        "    posts = get_all_posts(token, version, domain)\n",
        "    if not posts:\n",
        "        print(\"No posts retrieved.\")\n",
        "        return\n",
        "\n",
        "    df = pd.DataFrame(posts)\n",
        "\n",
        "    # Process possible empty values in likes, reposts, views\n",
        "    df['likes'] = df['likes'].apply(lambda x: int(x['count']) if isinstance(x, dict) else 0)\n",
        "    df['reposts'] = df['reposts'].apply(lambda x: int(x['count']) if isinstance(x, dict) else 0)\n",
        "    df['views'] = df['views'].apply(lambda x: int(x['count']) if isinstance(x, dict) else 0)\n",
        "\n",
        "    df = df[['id', 'text', 'date', 'likes', 'reposts', 'views']].copy()\n",
        "\n",
        "    # Process date field\n",
        "    df['date'] = (\n",
        "      pd.to_datetime(df['date'], unit='s')\n",
        "      .dt.tz_localize('UTC')\n",
        "      .dt.tz_convert('Europe/Moscow')\n",
        "      .dt.strftime('%Y-%m-%d %H:%M:%S')\n",
        "    )\n",
        "\n",
        "    # Remove newline characters in text\n",
        "    df.loc[:, 'text'] = df['text'].str.replace('\\n', ' ', regex=False)\n",
        "\n",
        "    # Filtering empty posts from social networks (like 'sharing')\n",
        "    df = df[df['text'].str.strip().astype(bool)]  # Remove lines with empty text\n",
        "    if df.empty:\n",
        "        print(f\"No posts with text content found for {domain}\")\n",
        "        return\n",
        "\n",
        "    # Save CSV with quotes only for the 'text' column\n",
        "    name = domain + \".csv\"\n",
        "    df.to_csv(name, index=False, quoting=csv.QUOTE_MINIMAL, quotechar='\"',\n",
        "              columns=['id', 'text', 'date', 'likes', 'reposts', 'views'],\n",
        "              escapechar='\\\\')"
      ],
      "metadata": {
        "id": "m8Y7jip78Qe7"
      },
      "execution_count": null,
      "outputs": []
    },
    {
      "cell_type": "code",
      "source": [
        "for d in domains:\n",
        "    create_all_posts_csv(TOKEN, VERSION, d)"
      ],
      "metadata": {
        "id": "LcGt4Ygs-eqz"
      },
      "execution_count": null,
      "outputs": []
    }
  ]
}