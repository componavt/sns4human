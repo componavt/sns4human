{
  "nbformat": 4,
  "nbformat_minor": 0,
  "metadata": {
    "colab": {
      "provenance": [],
      "include_colab_link": true
    },
    "kernelspec": {
      "name": "python3",
      "display_name": "Python 3"
    },
    "language_info": {
      "name": "python"
    }
  },
  "cells": [
    {
      "cell_type": "markdown",
      "metadata": {
        "id": "view-in-github",
        "colab_type": "text"
      },
      "source": [
        "<a href=\"https://colab.research.google.com/github/componavt/sns4human/blob/main/src/vk/nlp/topic_model.ipynb\" target=\"_parent\"><img src=\"https://colab.research.google.com/assets/colab-badge.svg\" alt=\"Open In Colab\"/></a>"
      ]
    },
    {
      "cell_type": "markdown",
      "source": [
        "# Topic modelling for social network (VKontakte) posts\n",
        "\n",
        "Resources:\n",
        "*   [topic_model.ipynb](https://github.com/componavt/sns4human/blob/main/src/vk/nlp/topic_model.ipynb) (this file at GitHub sns4human)\n",
        "*   [News topic modeling.ipynb](https://colab.research.google.com/drive/1p7mGJ5UNV5fViHP6HGQ6kQsjDe2-d5fN?usp=sharing#scrollTo=Ol7_oSFgzrQq)\n",
        "*   [Пишем чат-бот на Python + PostgreSQL и Telegram](https://habr.com/ru/articles/593065/)\n",
        "*   Бартеньев О. В. [Программирование моделей текста на Python](http://www.100byte.ru/python/text_models/text_models.html)\n",
        "*   [Introduction to topic modeling.ipynb](https://colab.research.google.com/github/littlecolumns/ds4j-notebooks/blob/master/text-analysis/notebooks/Introduction%20to%20topic%20modeling.ipynb)\n",
        "*   [Topic Modeling on Research Papers](https://colab.research.google.com/github/dipanjanS/nlp_workshop_odsc19/blob/master/Module05%20-%20NLP%20Applications/Project04%20-%20Topic%20Modeling.ipynb)\n",
        "*   [pymorphy2 documentation](https://pymorphy2.readthedocs.io/en/0.2/user/index.html)\n",
        "*   Шаг. 1. 4. [Предварительный анализ коллекции](https://colab.research.google.com/github/king-menin/mipt-nlp2022/blob/master/seminars/sem1/sem1_basic_text_processing.ipynb#scrollTo=-_3tbIdivvY8) (и гистограмма). Это фрагмент курса [mipt-nlp2022](https://github.com/king-menin/mipt-nlp2022/tree/master).\n",
        "\n",
        "Our files (sns4human project):\n",
        "*   [lemma_tag_cloud.ipynb](https://colab.research.google.com/github/componavt/sns4human/blob/main/src/vk/nlp/lemma_tag_cloud.ipynb)\n",
        "*   [vk_subscribers_research.ipynb](https://github.com/componavt/sns4human/blob/main/src/vk/vk_subscribers_research.ipynb)"
      ],
      "metadata": {
        "id": "xK3LbGfjEjLF"
      }
    },
    {
      "cell_type": "code",
      "metadata": {
        "id": "kNN79mUUwal2",
        "collapsed": true,
        "outputId": "50050457-e658-4664-b715-eaf2b907d2a8",
        "colab": {
          "base_uri": "https://localhost:8080/",
          "height": 206
        }
      },
      "source": [
        "import pandas as pd\n",
        "\n",
        "csv_files = [\n",
        "#    \"https://raw.githubusercontent.com/componavt/sns4human/main/data/vk/posts/aparfenchikov_short.csv\",\n",
        "    \"https://raw.githubusercontent.com/componavt/sns4human/main/data/vk/posts/aparfenchikov_category_short.csv\",\n",
        "#    \"https://raw.githubusercontent.com/componavt/sns4human/main/data/vk/posts/aparfenchikov.csv\",\n",
        "]\n",
        "\n",
        "df = pd.concat([pd.read_csv(url) for url in csv_files], ignore_index=True)\n",
        "df = df.reset_index()  # make sure indexes pair with number of rows\n",
        "df.head()"
      ],
      "execution_count": 1,
      "outputs": [
        {
          "output_type": "execute_result",
          "data": {
            "text/plain": [
              "   index      id     category  \\\n",
              "0      0  787797  образование   \n",
              "1      1  787790     культура   \n",
              "2      2  787763    экономика   \n",
              "3      3  787753        война   \n",
              "4      4  787745    экономика   \n",
              "\n",
              "                                                text                 date  \\\n",
              "0  ⚡Компания [https://vk.com/ksm.company?from=sea...  2024-11-01 09:30:00   \n",
              "1  👋Доброе утро, друзья!    С удовольствием посмо...  2024-11-01 08:00:50   \n",
              "2  🧰 Бюджет Карелии в 2025 году останется ✔социал...  2024-10-31 20:30:17   \n",
              "3  🚛 Сегодня отправили в зону СВО подарки для наш...  2024-10-31 19:21:48   \n",
              "4  🖥 ✏Сегодня в режиме ВКС проведу заседание Прав...  2024-10-31 17:00:00   \n",
              "\n",
              "   likes  reposts    views  \n",
              "0  118.0     10.0   5146.0  \n",
              "1  272.0    119.0   8301.0  \n",
              "2   84.0     22.0   7163.0  \n",
              "3  214.0     36.0  11431.0  \n",
              "4   67.0      3.0   5220.0  "
            ],
            "text/html": [
              "\n",
              "  <div id=\"df-887160f9-55d6-4141-bbd6-111a67cb4ce4\" class=\"colab-df-container\">\n",
              "    <div>\n",
              "<style scoped>\n",
              "    .dataframe tbody tr th:only-of-type {\n",
              "        vertical-align: middle;\n",
              "    }\n",
              "\n",
              "    .dataframe tbody tr th {\n",
              "        vertical-align: top;\n",
              "    }\n",
              "\n",
              "    .dataframe thead th {\n",
              "        text-align: right;\n",
              "    }\n",
              "</style>\n",
              "<table border=\"1\" class=\"dataframe\">\n",
              "  <thead>\n",
              "    <tr style=\"text-align: right;\">\n",
              "      <th></th>\n",
              "      <th>index</th>\n",
              "      <th>id</th>\n",
              "      <th>category</th>\n",
              "      <th>text</th>\n",
              "      <th>date</th>\n",
              "      <th>likes</th>\n",
              "      <th>reposts</th>\n",
              "      <th>views</th>\n",
              "    </tr>\n",
              "  </thead>\n",
              "  <tbody>\n",
              "    <tr>\n",
              "      <th>0</th>\n",
              "      <td>0</td>\n",
              "      <td>787797</td>\n",
              "      <td>образование</td>\n",
              "      <td>⚡Компания [https://vk.com/ksm.company?from=sea...</td>\n",
              "      <td>2024-11-01 09:30:00</td>\n",
              "      <td>118.0</td>\n",
              "      <td>10.0</td>\n",
              "      <td>5146.0</td>\n",
              "    </tr>\n",
              "    <tr>\n",
              "      <th>1</th>\n",
              "      <td>1</td>\n",
              "      <td>787790</td>\n",
              "      <td>культура</td>\n",
              "      <td>👋Доброе утро, друзья!    С удовольствием посмо...</td>\n",
              "      <td>2024-11-01 08:00:50</td>\n",
              "      <td>272.0</td>\n",
              "      <td>119.0</td>\n",
              "      <td>8301.0</td>\n",
              "    </tr>\n",
              "    <tr>\n",
              "      <th>2</th>\n",
              "      <td>2</td>\n",
              "      <td>787763</td>\n",
              "      <td>экономика</td>\n",
              "      <td>🧰 Бюджет Карелии в 2025 году останется ✔социал...</td>\n",
              "      <td>2024-10-31 20:30:17</td>\n",
              "      <td>84.0</td>\n",
              "      <td>22.0</td>\n",
              "      <td>7163.0</td>\n",
              "    </tr>\n",
              "    <tr>\n",
              "      <th>3</th>\n",
              "      <td>3</td>\n",
              "      <td>787753</td>\n",
              "      <td>война</td>\n",
              "      <td>🚛 Сегодня отправили в зону СВО подарки для наш...</td>\n",
              "      <td>2024-10-31 19:21:48</td>\n",
              "      <td>214.0</td>\n",
              "      <td>36.0</td>\n",
              "      <td>11431.0</td>\n",
              "    </tr>\n",
              "    <tr>\n",
              "      <th>4</th>\n",
              "      <td>4</td>\n",
              "      <td>787745</td>\n",
              "      <td>экономика</td>\n",
              "      <td>🖥 ✏Сегодня в режиме ВКС проведу заседание Прав...</td>\n",
              "      <td>2024-10-31 17:00:00</td>\n",
              "      <td>67.0</td>\n",
              "      <td>3.0</td>\n",
              "      <td>5220.0</td>\n",
              "    </tr>\n",
              "  </tbody>\n",
              "</table>\n",
              "</div>\n",
              "    <div class=\"colab-df-buttons\">\n",
              "\n",
              "  <div class=\"colab-df-container\">\n",
              "    <button class=\"colab-df-convert\" onclick=\"convertToInteractive('df-887160f9-55d6-4141-bbd6-111a67cb4ce4')\"\n",
              "            title=\"Convert this dataframe to an interactive table.\"\n",
              "            style=\"display:none;\">\n",
              "\n",
              "  <svg xmlns=\"http://www.w3.org/2000/svg\" height=\"24px\" viewBox=\"0 -960 960 960\">\n",
              "    <path d=\"M120-120v-720h720v720H120Zm60-500h600v-160H180v160Zm220 220h160v-160H400v160Zm0 220h160v-160H400v160ZM180-400h160v-160H180v160Zm440 0h160v-160H620v160ZM180-180h160v-160H180v160Zm440 0h160v-160H620v160Z\"/>\n",
              "  </svg>\n",
              "    </button>\n",
              "\n",
              "  <style>\n",
              "    .colab-df-container {\n",
              "      display:flex;\n",
              "      gap: 12px;\n",
              "    }\n",
              "\n",
              "    .colab-df-convert {\n",
              "      background-color: #E8F0FE;\n",
              "      border: none;\n",
              "      border-radius: 50%;\n",
              "      cursor: pointer;\n",
              "      display: none;\n",
              "      fill: #1967D2;\n",
              "      height: 32px;\n",
              "      padding: 0 0 0 0;\n",
              "      width: 32px;\n",
              "    }\n",
              "\n",
              "    .colab-df-convert:hover {\n",
              "      background-color: #E2EBFA;\n",
              "      box-shadow: 0px 1px 2px rgba(60, 64, 67, 0.3), 0px 1px 3px 1px rgba(60, 64, 67, 0.15);\n",
              "      fill: #174EA6;\n",
              "    }\n",
              "\n",
              "    .colab-df-buttons div {\n",
              "      margin-bottom: 4px;\n",
              "    }\n",
              "\n",
              "    [theme=dark] .colab-df-convert {\n",
              "      background-color: #3B4455;\n",
              "      fill: #D2E3FC;\n",
              "    }\n",
              "\n",
              "    [theme=dark] .colab-df-convert:hover {\n",
              "      background-color: #434B5C;\n",
              "      box-shadow: 0px 1px 3px 1px rgba(0, 0, 0, 0.15);\n",
              "      filter: drop-shadow(0px 1px 2px rgba(0, 0, 0, 0.3));\n",
              "      fill: #FFFFFF;\n",
              "    }\n",
              "  </style>\n",
              "\n",
              "    <script>\n",
              "      const buttonEl =\n",
              "        document.querySelector('#df-887160f9-55d6-4141-bbd6-111a67cb4ce4 button.colab-df-convert');\n",
              "      buttonEl.style.display =\n",
              "        google.colab.kernel.accessAllowed ? 'block' : 'none';\n",
              "\n",
              "      async function convertToInteractive(key) {\n",
              "        const element = document.querySelector('#df-887160f9-55d6-4141-bbd6-111a67cb4ce4');\n",
              "        const dataTable =\n",
              "          await google.colab.kernel.invokeFunction('convertToInteractive',\n",
              "                                                    [key], {});\n",
              "        if (!dataTable) return;\n",
              "\n",
              "        const docLinkHtml = 'Like what you see? Visit the ' +\n",
              "          '<a target=\"_blank\" href=https://colab.research.google.com/notebooks/data_table.ipynb>data table notebook</a>'\n",
              "          + ' to learn more about interactive tables.';\n",
              "        element.innerHTML = '';\n",
              "        dataTable['output_type'] = 'display_data';\n",
              "        await google.colab.output.renderOutput(dataTable, element);\n",
              "        const docLink = document.createElement('div');\n",
              "        docLink.innerHTML = docLinkHtml;\n",
              "        element.appendChild(docLink);\n",
              "      }\n",
              "    </script>\n",
              "  </div>\n",
              "\n",
              "\n",
              "<div id=\"df-1741379e-2f0e-41aa-9cf3-0b71da1d7274\">\n",
              "  <button class=\"colab-df-quickchart\" onclick=\"quickchart('df-1741379e-2f0e-41aa-9cf3-0b71da1d7274')\"\n",
              "            title=\"Suggest charts\"\n",
              "            style=\"display:none;\">\n",
              "\n",
              "<svg xmlns=\"http://www.w3.org/2000/svg\" height=\"24px\"viewBox=\"0 0 24 24\"\n",
              "     width=\"24px\">\n",
              "    <g>\n",
              "        <path d=\"M19 3H5c-1.1 0-2 .9-2 2v14c0 1.1.9 2 2 2h14c1.1 0 2-.9 2-2V5c0-1.1-.9-2-2-2zM9 17H7v-7h2v7zm4 0h-2V7h2v10zm4 0h-2v-4h2v4z\"/>\n",
              "    </g>\n",
              "</svg>\n",
              "  </button>\n",
              "\n",
              "<style>\n",
              "  .colab-df-quickchart {\n",
              "      --bg-color: #E8F0FE;\n",
              "      --fill-color: #1967D2;\n",
              "      --hover-bg-color: #E2EBFA;\n",
              "      --hover-fill-color: #174EA6;\n",
              "      --disabled-fill-color: #AAA;\n",
              "      --disabled-bg-color: #DDD;\n",
              "  }\n",
              "\n",
              "  [theme=dark] .colab-df-quickchart {\n",
              "      --bg-color: #3B4455;\n",
              "      --fill-color: #D2E3FC;\n",
              "      --hover-bg-color: #434B5C;\n",
              "      --hover-fill-color: #FFFFFF;\n",
              "      --disabled-bg-color: #3B4455;\n",
              "      --disabled-fill-color: #666;\n",
              "  }\n",
              "\n",
              "  .colab-df-quickchart {\n",
              "    background-color: var(--bg-color);\n",
              "    border: none;\n",
              "    border-radius: 50%;\n",
              "    cursor: pointer;\n",
              "    display: none;\n",
              "    fill: var(--fill-color);\n",
              "    height: 32px;\n",
              "    padding: 0;\n",
              "    width: 32px;\n",
              "  }\n",
              "\n",
              "  .colab-df-quickchart:hover {\n",
              "    background-color: var(--hover-bg-color);\n",
              "    box-shadow: 0 1px 2px rgba(60, 64, 67, 0.3), 0 1px 3px 1px rgba(60, 64, 67, 0.15);\n",
              "    fill: var(--button-hover-fill-color);\n",
              "  }\n",
              "\n",
              "  .colab-df-quickchart-complete:disabled,\n",
              "  .colab-df-quickchart-complete:disabled:hover {\n",
              "    background-color: var(--disabled-bg-color);\n",
              "    fill: var(--disabled-fill-color);\n",
              "    box-shadow: none;\n",
              "  }\n",
              "\n",
              "  .colab-df-spinner {\n",
              "    border: 2px solid var(--fill-color);\n",
              "    border-color: transparent;\n",
              "    border-bottom-color: var(--fill-color);\n",
              "    animation:\n",
              "      spin 1s steps(1) infinite;\n",
              "  }\n",
              "\n",
              "  @keyframes spin {\n",
              "    0% {\n",
              "      border-color: transparent;\n",
              "      border-bottom-color: var(--fill-color);\n",
              "      border-left-color: var(--fill-color);\n",
              "    }\n",
              "    20% {\n",
              "      border-color: transparent;\n",
              "      border-left-color: var(--fill-color);\n",
              "      border-top-color: var(--fill-color);\n",
              "    }\n",
              "    30% {\n",
              "      border-color: transparent;\n",
              "      border-left-color: var(--fill-color);\n",
              "      border-top-color: var(--fill-color);\n",
              "      border-right-color: var(--fill-color);\n",
              "    }\n",
              "    40% {\n",
              "      border-color: transparent;\n",
              "      border-right-color: var(--fill-color);\n",
              "      border-top-color: var(--fill-color);\n",
              "    }\n",
              "    60% {\n",
              "      border-color: transparent;\n",
              "      border-right-color: var(--fill-color);\n",
              "    }\n",
              "    80% {\n",
              "      border-color: transparent;\n",
              "      border-right-color: var(--fill-color);\n",
              "      border-bottom-color: var(--fill-color);\n",
              "    }\n",
              "    90% {\n",
              "      border-color: transparent;\n",
              "      border-bottom-color: var(--fill-color);\n",
              "    }\n",
              "  }\n",
              "</style>\n",
              "\n",
              "  <script>\n",
              "    async function quickchart(key) {\n",
              "      const quickchartButtonEl =\n",
              "        document.querySelector('#' + key + ' button');\n",
              "      quickchartButtonEl.disabled = true;  // To prevent multiple clicks.\n",
              "      quickchartButtonEl.classList.add('colab-df-spinner');\n",
              "      try {\n",
              "        const charts = await google.colab.kernel.invokeFunction(\n",
              "            'suggestCharts', [key], {});\n",
              "      } catch (error) {\n",
              "        console.error('Error during call to suggestCharts:', error);\n",
              "      }\n",
              "      quickchartButtonEl.classList.remove('colab-df-spinner');\n",
              "      quickchartButtonEl.classList.add('colab-df-quickchart-complete');\n",
              "    }\n",
              "    (() => {\n",
              "      let quickchartButtonEl =\n",
              "        document.querySelector('#df-1741379e-2f0e-41aa-9cf3-0b71da1d7274 button');\n",
              "      quickchartButtonEl.style.display =\n",
              "        google.colab.kernel.accessAllowed ? 'block' : 'none';\n",
              "    })();\n",
              "  </script>\n",
              "</div>\n",
              "    </div>\n",
              "  </div>\n"
            ],
            "application/vnd.google.colaboratory.intrinsic+json": {
              "type": "dataframe",
              "variable_name": "df",
              "summary": "{\n  \"name\": \"df\",\n  \"rows\": 11,\n  \"fields\": [\n    {\n      \"column\": \"index\",\n      \"properties\": {\n        \"dtype\": \"number\",\n        \"std\": 3,\n        \"min\": 0,\n        \"max\": 10,\n        \"num_unique_values\": 11,\n        \"samples\": [\n          5,\n          0,\n          9\n        ],\n        \"semantic_type\": \"\",\n        \"description\": \"\"\n      }\n    },\n    {\n      \"column\": \"id\",\n      \"properties\": {\n        \"dtype\": \"number\",\n        \"std\": 4063,\n        \"min\": 787509,\n        \"max\": 798030,\n        \"num_unique_values\": 11,\n        \"samples\": [\n          787707,\n          787797,\n          798030\n        ],\n        \"semantic_type\": \"\",\n        \"description\": \"\"\n      }\n    },\n    {\n      \"column\": \"category\",\n      \"properties\": {\n        \"dtype\": \"category\",\n        \"num_unique_values\": 4,\n        \"samples\": [\n          \"\\u043a\\u0443\\u043b\\u044c\\u0442\\u0443\\u0440\\u0430\",\n          \"\\u0432\\u043e\\u0439\\u043d\\u0430\",\n          \"\\u043e\\u0431\\u0440\\u0430\\u0437\\u043e\\u0432\\u0430\\u043d\\u0438\\u0435\"\n        ],\n        \"semantic_type\": \"\",\n        \"description\": \"\"\n      }\n    },\n    {\n      \"column\": \"text\",\n      \"properties\": {\n        \"dtype\": \"string\",\n        \"num_unique_values\": 11,\n        \"samples\": [\n          \"\\ud83d\\udd11 \\u0421\\u0435\\u0433\\u043e\\u0434\\u043d\\u044f \\u0435\\u0449\\u0435 \\u043e\\u0434\\u043d\\u043e\\u0439 \\u0441\\u0435\\u043c\\u044c\\u0435 \\u0443\\u0447\\u0430\\u0441\\u0442\\u043d\\u0438\\u043a\\u0430 \\u0421\\u0412\\u041e \\u0432\\u0440\\u0443\\u0447\\u0438\\u043b\\u0438 \\u043a\\u043b\\u044e\\u0447\\u0438 \\u043e\\u0442 \\u0431\\u043b\\u0430\\u0433\\u043e\\u0443\\u0441\\u0442\\u0440\\u043e\\u0435\\u043d\\u043d\\u043e\\u0439 \\u043a\\u0432\\u0430\\u0440\\u0442\\u0438\\u0440\\u044b.    \\u0423 \\u0410\\u043d\\u0430\\u0441\\u0442\\u0430\\u0441\\u0438\\u0438 \\u0438 \\u0410\\u043b\\u0435\\u043a\\u0441\\u0435\\u044f \\u0438\\u0437 \\u043f\\u043e\\u0441\\u0435\\u043b\\u043a\\u0430 \\u041a\\u0443\\u0440\\u043a\\u0438\\u0451\\u043a\\u0438 \\u0442\\u0440\\u043e\\u0435 \\u0440\\u0435\\u0431\\u044f\\u0442\\u0438\\u0448\\u0435\\u043a: \\u0434\\u043e\\u0447\\u043a\\u0438 \\u0445\\u043e\\u0434\\u044f\\u0442 \\u0432 \\u0448\\u043a\\u043e\\u043b\\u0443, \\u0430 \\u0441\\u044b\\u043d \\u2013 \\u0432 \\u0434\\u0435\\u0442\\u0441\\u043a\\u0438\\u0439 \\u0441\\u0430\\u0434. \\u0410\\u043b\\u0435\\u043a\\u0441\\u0435\\u0439 \\u0441\\u0435\\u0439\\u0447\\u0430\\u0441 \\u043d\\u0430 \\u043f\\u0435\\u0440\\u0435\\u0434\\u043e\\u0432\\u043e\\u0439, \\u0432\\u044b\\u043f\\u043e\\u043b\\u043d\\u044f\\u0435\\u0442 \\u0432\\u043e\\u0438\\u043d\\u0441\\u043a\\u0438\\u0439 \\u0434\\u043e\\u043b\\u0433 \\u0432 \\u0445\\u043e\\u0434\\u0435 \\u0441\\u043f\\u0435\\u0446\\u043e\\u043f\\u0435\\u0440\\u0430\\u0446\\u0438\\u0438.    \\u0418\\u0445 \\u043f\\u0440\\u0435\\u0436\\u043d\\u0435\\u0435 \\u0436\\u0438\\u043b\\u044c\\u0435 \\u0431\\u044b\\u043b\\u043e \\u043f\\u0440\\u0438\\u0437\\u043d\\u0430\\u043d\\u043e \\u0430\\u0432\\u0430\\u0440\\u0438\\u0439\\u043d\\u044b\\u043c \\u043f\\u043e\\u0441\\u043b\\u0435 1 \\u044f\\u043d\\u0432\\u0430\\u0440\\u044f 2017 \\u0433\\u043e\\u0434\\u0430. \\u0411\\u043b\\u0430\\u0433\\u043e\\u0434\\u0430\\u0440\\u044f \\u0442\\u043e\\u043c\\u0443, \\u0447\\u0442\\u043e \\u041a\\u0430\\u0440\\u0435\\u043b\\u0438\\u044f \\u0434\\u043e\\u0441\\u0440\\u043e\\u0447\\u043d\\u043e \\u0437\\u0430\\u0432\\u0435\\u0440\\u0448\\u0438\\u043b\\u0430 \\u043f\\u0440\\u0435\\u0434\\u044b\\u0434\\u0443\\u0449\\u0438\\u0439 \\u044d\\u0442\\u0430\\u043f \\u0440\\u0430\\u0441\\u0441\\u0435\\u043b\\u0435\\u043d\\u0438\\u044f, \\u0444\\u0435\\u0434\\u0435\\u0440\\u0430\\u043b\\u044c\\u043d\\u044b\\u0439 \\u0446\\u0435\\u043d\\u0442\\u0440 \\u0432\\u0435\\u0440\\u043d\\u0443\\u043b \\u043d\\u0430\\u043c \\u043b\\u0438\\u043c\\u0438\\u0442\\u044b, \\u043a\\u043e\\u0442\\u043e\\u0440\\u044b\\u0435 \\u043c\\u044b \\u043d\\u0430\\u043f\\u0440\\u0430\\u0432\\u0438\\u043b\\u0438 \\u043d\\u0430 \\u043f\\u0435\\u0440\\u0435\\u0441\\u0435\\u043b\\u0435\\u043d\\u0438\\u0435 \\u0435\\u0449\\u0435 \\u043e\\u043a\\u043e\\u043b\\u043e 100 \\u0441\\u0435\\u043c\\u0435\\u0439 \\u2013 \\u043c\\u043d\\u043e\\u0433\\u043e\\u0434\\u0435\\u0442\\u043d\\u044b\\u0445, \\u0432\\u043e\\u0441\\u043f\\u0438\\u0442\\u044b\\u0432\\u0430\\u044e\\u0449\\u0438\\u0445 \\u0434\\u0435\\u0442\\u0435\\u0439 \\u0441 \\u0438\\u043d\\u0432\\u0430\\u043b\\u0438\\u0434\\u043d\\u043e\\u0441\\u0442\\u044c\\u044e \\u0438 \\u0441\\u0435\\u043c\\u0435\\u0439 \\u0443\\u0447\\u0430\\u0441\\u0442\\u043d\\u0438\\u043a\\u043e\\u0432 \\u0421\\u0412\\u041e.    \\u0412 \\u041b\\u0430\\u0445\\u0434\\u0435\\u043d\\u043f\\u043e\\u0445\\u0441\\u043a\\u043e\\u043c \\u0440\\u0430\\u0439\\u043e\\u043d\\u0435 \\u0434\\u043e \\u043a\\u043e\\u043d\\u0446\\u0430 \\u0433\\u043e\\u0434\\u0430 \\u0435\\u0449\\u0435 \\u0434\\u0432\\u0435 \\u0441\\u0435\\u043c\\u044c\\u0438 \\u043f\\u043e\\u043b\\u0443\\u0447\\u0430\\u0442 \\u043a\\u043b\\u044e\\u0447\\u0438 \\u043e\\u0442 \\u0431\\u043b\\u0430\\u0433\\u043e\\u0443\\u0441\\u0442\\u0440\\u043e\\u0435\\u043d\\u043d\\u043e\\u0433\\u043e \\u0436\\u0438\\u043b\\u044c\\u044f, \\u0438 \\u043e\\u0434\\u043d\\u0430 \\u2013 \\u0434\\u0435\\u043d\\u0435\\u0436\\u043d\\u0443\\u044e \\u043a\\u043e\\u043c\\u043f\\u0435\\u043d\\u0441\\u0430\\u0446\\u0438\\u044e. \\u041f\\u0435\\u0440\\u0435\\u0434\\u0430\\u0447\\u0430 \\u043a\\u0432\\u0430\\u0440\\u0442\\u0438\\u0440 \\u0438 \\u0432\\u044b\\u043f\\u043b\\u0430\\u0442\\u0430 \\u043a\\u043e\\u043c\\u043f\\u0435\\u043d\\u0441\\u0430\\u0446\\u0438\\u0439 \\u043f\\u0440\\u043e\\u0438\\u0441\\u0445\\u043e\\u0434\\u0438\\u0442 \\u0435\\u0436\\u0435\\u043d\\u0435\\u0434\\u0435\\u043b\\u044c\\u043d\\u043e. \\u0420\\u0430\\u0431\\u043e\\u0442\\u0430\\u0435\\u043c \\u0434\\u0430\\u043b\\u044c\\u0448\\u0435.  #\\u041d\\u0430\\u0448\\u0430\\u041a\\u0430\\u0440\\u0435\\u043b\\u0438\\u044f\",\n          \"\\u26a1\\u041a\\u043e\\u043c\\u043f\\u0430\\u043d\\u0438\\u044f [https://vk.com/ksm.company?from=search|\\u00ab\\u041a\\u0421\\u041c\\u00bb], \\u043a\\u043e\\u0442\\u043e\\u0440\\u0430\\u044f \\u043f\\u043e\\u0441\\u0442\\u0440\\u043e\\u0438\\u043b\\u0430 \\u0448\\u043a\\u043e\\u043b\\u0443 \\u0432 \\u0421\\u0443\\u043e\\u044f\\u0440\\u0432\\u0438, \\u043f\\u043e\\u043b\\u0443\\u0447\\u0438\\u043b\\u0430 \\u0440\\u0430\\u0437\\u0440\\u0435\\u0448\\u0435\\u043d\\u0438\\u0435 \\u043d\\u0430 \\u0432\\u0432\\u043e\\u0434 \\u0437\\u0434\\u0430\\u043d\\u0438\\u044f \\u0432 \\u044d\\u043a\\u0441\\u043f\\u043b\\u0443\\u0430\\u0442\\u0430\\u0446\\u0438\\u044e    \\u0421\\u0432\\u0435\\u0442\\u043b\\u044b\\u0435 \\u043a\\u043b\\u0430\\u0441\\u0441\\u044b, \\u043f\\u0440\\u043e\\u0441\\u0442\\u043e\\u0440\\u043d\\u044b\\u0435 \\u0440\\u0435\\u043a\\u0440\\u0435\\u0430\\u0446\\u0438\\u0438, \\u0441\\u043f\\u043e\\u0440\\u0442\\u0438\\u0432\\u043d\\u044b\\u0439 \\u0438 \\u0430\\u043a\\u0442\\u043e\\u0432\\u044b\\u0439 \\u0437\\u0430\\u043b\\u044b, \\u043b\\u0438\\u043d\\u0433\\u0430\\u0444\\u043e\\u043d\\u043d\\u044b\\u0435 \\u043a\\u0430\\u0431\\u0438\\u043d\\u0435\\u0442\\u044b, \\u043f\\u043e\\u043c\\u0435\\u0449\\u0435\\u043d\\u0438\\u044f \\u0434\\u043b\\u044f \\u00ab\\u043f\\u0440\\u043e\\u0434\\u043b\\u0435\\u043d\\u043a\\u0438\\u00bb \\u2013 \\u0437\\u0434\\u0435\\u0441\\u044c \\u0432\\u0441\\u0435 \\u0442\\u0430\\u043a, \\u043a\\u0430\\u043a \\u0438 \\u0434\\u043e\\u043b\\u0436\\u043d\\u043e \\u0431\\u044b\\u0442\\u044c \\u0432 \\u0441\\u043e\\u0432\\u0440\\u0435\\u043c\\u0435\\u043d\\u043d\\u043e\\u0439 \\u0448\\u043a\\u043e\\u043b\\u0435! \\u041f\\u043e\\u0441\\u0442\\u0440\\u043e\\u0438\\u043b\\u0438 \\u043c\\u044b \\u0435\\u0451 \\u043d\\u0430 \\u0441\\u0440\\u0435\\u0434\\u0441\\u0442\\u0432\\u0430 \\u043d\\u0430\\u0446\\u043f\\u0440\\u043e\\u0435\\u043a\\u0442\\u0430 \\u00ab\\u041e\\u0431\\u0440\\u0430\\u0437\\u043e\\u0432\\u0430\\u043d\\u0438\\u0435\\u00bb, \\u0442\\u0430\\u043a\\u0436\\u0435 \\u043a\\u0430\\u043a \\u0438 \\u0448\\u043a\\u043e\\u043b\\u044b \\u0432 \\u041f\\u0435\\u0442\\u0440\\u043e\\u0437\\u0430\\u0432\\u043e\\u0434\\u0441\\u043a\\u0435, \\u0414\\u0435\\u0440\\u0435\\u0432\\u044f\\u043d\\u043a\\u0435, \\u041a\\u0435\\u043c\\u0438 \\u0438 \\u041c\\u0435\\u0434\\u0432\\u0435\\u0436\\u044c\\u0435\\u0433\\u043e\\u0440\\u0441\\u043a\\u0435.    \\u0421\\u043b\\u0435\\u0434\\u0443\\u044e\\u0449\\u0438\\u0439 \\u0432\\u0430\\u0436\\u043d\\u044b\\u0439 \\u044d\\u0442\\u0430\\u043f \\u2013 \\u043b\\u0438\\u0446\\u0435\\u043d\\u0437\\u0438\\u0440\\u043e\\u0432\\u0430\\u043d\\u0438\\u0435. \\u041d\\u0430 \\u043d\\u0435\\u0433\\u043e \\u043f\\u043b\\u0430\\u043d\\u0438\\u0440\\u0443\\u0435\\u043c \\u0434\\u0432\\u0430 \\u043c\\u0435\\u0441\\u044f\\u0446\\u0430. \\u041f\\u043e\\u0441\\u043b\\u0435 \\u044d\\u0442\\u043e\\u0433\\u043e \\u0448\\u043a\\u043e\\u043b\\u0430 \\u0431\\u0443\\u0434\\u0435\\u0442 \\u0433\\u043e\\u0442\\u043e\\u0432\\u0430 \\u043d\\u0430\\u0447\\u0430\\u0442\\u044c \\u0443\\u0447\\u0435\\u0431\\u043d\\u044b\\u0439 \\u043f\\u0440\\u043e\\u0446\\u0435\\u0441\\u0441.    #\\u041d\\u0430\\u043f\\u0440\\u043e\\u0435\\u043a\\u0442 #\\u041e\\u0431\\u0440\\u0430\\u0437\\u043e\\u0432\\u0430\\u043d\\u0438\\u0435\\u041a\\u0430\\u0440\\u0435\\u043b\\u0438\\u0438\",\n          \"\\ud83d\\udcaa \\u041e\\u0431\\u0435\\u0449\\u0430\\u043b \\u2013 \\u0432\\u044b\\u043f\\u043e\\u043b\\u043d\\u044f\\u044e!  \\u041a\\u0430\\u043a \\u0438 \\u043f\\u043b\\u0430\\u043d\\u0438\\u0440\\u043e\\u0432\\u0430\\u043b\\u0438, \\u043f\\u043e\\u0441\\u043b\\u0435 \\u043a\\u0430\\u043f\\u0438\\u0442\\u0430\\u043b\\u044c\\u043d\\u043e\\u0433\\u043e \\u0440\\u0435\\u043c\\u043e\\u043d\\u0442\\u0430 \\u043e\\u0442\\u043a\\u0440\\u044b\\u043b\\u0438 \\u0434\\u0432\\u0435 \\u0448\\u043a\\u043e\\u043b\\u044b - \\u0432 \\u043f\\u043e\\u0441\\u0435\\u043b\\u043a\\u0430\\u0445 \\u042d\\u043b\\u0438\\u0441\\u0435\\u043d\\u0432\\u0430\\u0430\\u0440\\u0430 \\u0438 \\u0412\\u044f\\u0440\\u0442\\u0441\\u0438\\u043b\\u044f.  \\ud83d\\udd30 \\u042d\\u043b\\u0438\\u0441\\u0435\\u043d\\u0432\\u0430\\u0430\\u0440\\u0441\\u043a\\u0430\\u044f \\u0448\\u043a\\u043e\\u043b\\u0430 \\u041b\\u0430\\u0445\\u0434\\u0435\\u043d\\u043f\\u043e\\u0445\\u0441\\u043a\\u043e\\u0433\\u043e \\u0440\\u0430\\u0439\\u043e\\u043d\\u0430 \\u0431\\u044b\\u043b\\u0430 \\u043f\\u043e\\u0441\\u0442\\u0440\\u043e\\u0435\\u043d\\u0430 \\u0432 1934 \\u0433\\u043e\\u0434\\u0443. \\u0422\\u0435\\u043f\\u0435\\u0440\\u044c \\u0432 \\u043e\\u0431\\u0440\\u0430\\u0437\\u043e\\u0432\\u0430\\u0442\\u0435\\u043b\\u044c\\u043d\\u043e\\u0439 \\u043e\\u0440\\u0433\\u0430\\u043d\\u0438\\u0437\\u0430\\u0446\\u0438\\u0438 \\u0441\\u0432\\u0435\\u0442\\u043b\\u043e, \\u043a\\u0440\\u0430\\u0441\\u0438\\u0432\\u043e, \\u0431\\u0435\\u0437\\u043e\\u043f\\u0430\\u0441\\u043d\\u043e. 74 \\u0448\\u043a\\u043e\\u043b\\u044c\\u043d\\u0438\\u043a\\u0430 \\u0438\\u0437 \\u043f\\u043e\\u0441\\u0435\\u043b\\u043a\\u0430 \\u0438 \\u0431\\u043b\\u0438\\u0437\\u043b\\u0435\\u0436\\u0430\\u0449\\u0438\\u0445 \\u043d\\u0430\\u0441\\u0435\\u043b\\u0435\\u043d\\u043d\\u044b\\u0445 \\u043f\\u0443\\u043d\\u043a\\u0442\\u043e\\u0432 \\u0431\\u0443\\u0434\\u0443\\u0442 \\u0443\\u0447\\u0438\\u0442\\u044c\\u0441\\u044f \\u0432 \\u0441\\u043e\\u0432\\u0440\\u0435\\u043c\\u0435\\u043d\\u043d\\u043e\\u043c \\u0443\\u044e\\u0442\\u043d\\u043e\\u043c \\u043f\\u0440\\u043e\\u0441\\u0442\\u0440\\u0430\\u043d\\u0441\\u0442\\u0432\\u0435. \\u0417\\u0434\\u0435\\u0441\\u044c \\u0435\\u0441\\u0442\\u044c \\u0432\\u0441\\u0435 \\u043d\\u0435\\u043e\\u0431\\u0445\\u043e\\u0434\\u0438\\u043c\\u043e\\u0435 \\u0434\\u043b\\u044f \\u0442\\u043e\\u0433\\u043e, \\u0447\\u0442\\u043e\\u0431\\u044b \\u0443\\u0437\\u043d\\u0430\\u0432\\u0430\\u0442\\u044c \\u043d\\u043e\\u0432\\u043e\\u0435 \\u0438 \\u0434\\u0435\\u043b\\u0430\\u0442\\u044c \\u043f\\u0435\\u0440\\u0432\\u044b\\u0435 \\u043e\\u0442\\u043a\\u0440\\u044b\\u0442\\u0438\\u044f.  \\ud83d\\udd30 \\u041f\\u0440\\u043e\\u0433\\u0440\\u0430\\u043c\\u043c\\u0430 \\u043a\\u0430\\u043f\\u0438\\u0442\\u0430\\u043b\\u044c\\u043d\\u043e\\u0433\\u043e \\u0440\\u0435\\u043c\\u043e\\u043d\\u0442\\u0430 \\u0432 \\u0421\\u043e\\u0440\\u0442\\u0430\\u0432\\u0430\\u043b\\u044c\\u0441\\u043a\\u043e\\u043c \\u043e\\u043a\\u0440\\u0443\\u0433\\u0435 \\u0441\\u0442\\u0430\\u0440\\u0442\\u043e\\u0432\\u0430\\u043b\\u0430 \\u0441 \\u043e\\u0431\\u043d\\u043e\\u0432\\u043b\\u0435\\u043d\\u0438\\u044f \\u0412\\u044f\\u0440\\u0442\\u0441\\u0438\\u043b\\u044c\\u0441\\u043a\\u043e\\u0439 \\u0448\\u043a\\u043e\\u043b\\u044b. \\u0417\\u0434\\u0435\\u0441\\u044c \\u0437\\u0430\\u0432\\u0435\\u0440\\u0448\\u0435\\u043d \\u043e\\u0441\\u043d\\u043e\\u0432\\u043d\\u043e\\u0439 \\u044d\\u0442\\u0430\\u043f \\u043a\\u0430\\u043f\\u0440\\u0435\\u043c\\u043e\\u043d\\u0442\\u0430. \\u041a \\u0432\\u0435\\u0441\\u043d\\u0435 \\u0437\\u0430 \\u0441\\u0447\\u0435\\u0442 \\u0440\\u0435\\u0441\\u043f\\u0443\\u0431\\u043b\\u0438\\u043a\\u0430\\u043d\\u0441\\u043a\\u0438\\u0445 \\u0441\\u0440\\u0435\\u0434\\u0441\\u0442\\u0432 \\u043f\\u043e\\u043b\\u043d\\u043e\\u0441\\u0442\\u044c\\u044e \\u043e\\u0431\\u043d\\u043e\\u0432\\u0438\\u043c \\u0444\\u0430\\u0441\\u0430\\u0434 \\u0437\\u0434\\u0430\\u043d\\u0438\\u044f. \\u0422\\u0435\\u043f\\u0435\\u0440\\u044c \\u043e\\u0442\\u043b\\u0438\\u0447\\u043d\\u044b\\u0435 \\u0443\\u0441\\u043b\\u043e\\u0432\\u0438\\u044f \\u0441\\u043e\\u0437\\u0434\\u0430\\u043d\\u044b \\u0434\\u043b\\u044f 250 \\u0443\\u0447\\u0435\\u043d\\u0438\\u043a\\u043e\\u0432 \\u0438 \\u0438\\u0445 \\u043f\\u0435\\u0434\\u0430\\u0433\\u043e\\u0433\\u043e\\u0432.  \\ud83e\\udd1d \\u0411\\u043b\\u0430\\u0433\\u043e\\u0434\\u0430\\u0440\\u044e \\u0440\\u043e\\u0434\\u0438\\u0442\\u0435\\u043b\\u0435\\u0439, \\u0443\\u0447\\u0438\\u0442\\u0435\\u043b\\u0435\\u0439 \\u0438 \\u0434\\u0435\\u0442\\u0435\\u0439 \\u0437\\u0430 \\u0442\\u0435\\u0440\\u043f\\u0435\\u043d\\u0438\\u0435. \\u041c\\u044b \\u0432\\u0441\\u0435 \\u043f\\u0440\\u043e\\u0434\\u0435\\u043b\\u0430\\u043b\\u0438 \\u043e\\u0433\\u0440\\u043e\\u043c\\u043d\\u0443\\u044e \\u0440\\u0430\\u0431\\u043e\\u0442\\u0443, \\u0441\\u043f\\u0440\\u0430\\u0432\\u0438\\u043b\\u0438\\u0441\\u044c \\u0441 \\u043d\\u0435\\u043f\\u0440\\u043e\\u0441\\u0442\\u044b\\u043c \\u0432\\u0440\\u0435\\u043c\\u0435\\u043d\\u0435\\u043c \\u0440\\u0435\\u043c\\u043e\\u043d\\u0442\\u0430. \\u041f\\u0443\\u0441\\u0442\\u044c \\u0432\\u043f\\u0435\\u0440\\u0435\\u0434\\u0438 \\u0443 \\u0448\\u043a\\u043e\\u043b\\u044c\\u043d\\u0438\\u043a\\u043e\\u0432 \\u0431\\u0443\\u0434\\u0443\\u0442 \\u043f\\u043e\\u0431\\u0435\\u0434\\u044b, \\u0438\\u043d\\u0442\\u0435\\u0440\\u0435\\u0441\\u043d\\u044b\\u0435 \\u0443\\u0440\\u043e\\u043a\\u0438 \\u0438, \\u043a\\u043e\\u043d\\u0435\\u0447\\u043d\\u043e, \\u0445\\u043e\\u0440\\u043e\\u0448\\u0438\\u0435 \\u043e\\u0446\\u0435\\u043d\\u043a\\u0438!   \\ud83d\\udcc8 \\u041d\\u0430 \\u0441\\u0435\\u0433\\u043e\\u0434\\u043d\\u044f\\u0448\\u043d\\u0438\\u0439 \\u0434\\u0435\\u043d\\u044c \\u043a\\u0430\\u043f\\u0438\\u0442\\u0430\\u043b\\u044c\\u043d\\u044b\\u0439 \\u0440\\u0435\\u043c\\u043e\\u043d\\u0442 \\u043e\\u0445\\u0432\\u0430\\u0442\\u0438\\u043b \\u0443\\u0436\\u0435 48 \\u0448\\u043a\\u043e\\u043b \\u0432 15 \\u043c\\u0443\\u043d\\u0438\\u0446\\u0438\\u043f\\u0430\\u043b\\u044c\\u043d\\u044b\\u0445 \\u043e\\u0431\\u0440\\u0430\\u0437\\u043e\\u0432\\u0430\\u043d\\u0438\\u044f\\u0445 \\u0440\\u0435\\u0441\\u043f\\u0443\\u0431\\u043b\\u0438\\u043a\\u0438. \\u0412 2025 \\u0433\\u043e\\u0434\\u0443 \\u043f\\u043b\\u0430\\u043d\\u0438\\u0440\\u0443\\u0435\\u0442\\u0441\\u044f \\u043e\\u0431\\u043d\\u043e\\u0432\\u043b\\u0435\\u043d\\u0438\\u0435 \\u0432\\u043e\\u0441\\u044c\\u043c\\u0438 \\u0448\\u043a\\u043e\\u043b \\u0432 \\u0440\\u0430\\u0437\\u043b\\u0438\\u0447\\u043d\\u044b\\u0445 \\u0440\\u0430\\u0439\\u043e\\u043d\\u0430\\u0445 \\u041a\\u0430\\u0440\\u0435\\u043b\\u0438\\u0438, \\u0434\\u0432\\u0443\\u0445 \\u043a\\u043e\\u043b\\u043b\\u0435\\u0434\\u0436\\u0435\\u0439, \\u0442\\u0430\\u043a\\u0436\\u0435 \\u043d\\u0430\\u0447\\u043d\\u0435\\u0442\\u0441\\u044f \\u0440\\u0435\\u043c\\u043e\\u043d\\u0442 \\u0434\\u0432\\u0443\\u0445 \\u0434\\u0435\\u0442\\u0441\\u043a\\u0438\\u0445 \\u0441\\u0430\\u0434\\u043e\\u0432.  #\\u041e\\u0431\\u0440\\u0430\\u0437\\u043e\\u0432\\u0430\\u043d\\u0438\\u0435\\u041a\\u0430\\u0440\\u0435\\u043b\\u0438\\u0438 #\\u041e\\u0431\\u0435\\u0449\\u0430\\u043b\\u0412\\u044b\\u043f\\u043e\\u043b\\u043d\\u0438\\u043b\"\n        ],\n        \"semantic_type\": \"\",\n        \"description\": \"\"\n      }\n    },\n    {\n      \"column\": \"date\",\n      \"properties\": {\n        \"dtype\": \"object\",\n        \"num_unique_values\": 9,\n        \"samples\": [\n          \"2024-10-30 15:51:32\",\n          \"2024-11-01 08:00:50\",\n          \"2024-10-31 13:18:46\"\n        ],\n        \"semantic_type\": \"\",\n        \"description\": \"\"\n      }\n    },\n    {\n      \"column\": \"likes\",\n      \"properties\": {\n        \"dtype\": \"number\",\n        \"std\": 87.91441545301001,\n        \"min\": 67.0,\n        \"max\": 309.0,\n        \"num_unique_values\": 9,\n        \"samples\": [\n          309.0,\n          272.0,\n          205.0\n        ],\n        \"semantic_type\": \"\",\n        \"description\": \"\"\n      }\n    },\n    {\n      \"column\": \"reposts\",\n      \"properties\": {\n        \"dtype\": \"number\",\n        \"std\": 34.410915580831485,\n        \"min\": 3.0,\n        \"max\": 119.0,\n        \"num_unique_values\": 9,\n        \"samples\": [\n          35.0,\n          119.0,\n          21.0\n        ],\n        \"semantic_type\": \"\",\n        \"description\": \"\"\n      }\n    },\n    {\n      \"column\": \"views\",\n      \"properties\": {\n        \"dtype\": \"number\",\n        \"std\": 5795.8681067732305,\n        \"min\": 5146.0,\n        \"max\": 21883.0,\n        \"num_unique_values\": 9,\n        \"samples\": [\n          18624.0,\n          8301.0,\n          12352.0\n        ],\n        \"semantic_type\": \"\",\n        \"description\": \"\"\n      }\n    }\n  ]\n}"
            }
          },
          "metadata": {},
          "execution_count": 1
        }
      ]
    },
    {
      "cell_type": "code",
      "source": [
        "import nltk\n",
        "from nltk.tokenize import word_tokenize\n",
        "nltk.download('stopwords')\n",
        "nltk.download('punkt')\n",
        "\n",
        "\n",
        "# import string\n",
        "from nltk.corpus import stopwords\n",
        "stop_words = stopwords.words(\"russian\")"
      ],
      "metadata": {
        "id": "qgVjfC74AkII",
        "outputId": "b220cc64-ceb0-4018-d8a0-ccc21e2539d5",
        "colab": {
          "base_uri": "https://localhost:8080/"
        }
      },
      "execution_count": 2,
      "outputs": [
        {
          "output_type": "stream",
          "name": "stderr",
          "text": [
            "[nltk_data] Downloading package stopwords to /root/nltk_data...\n",
            "[nltk_data]   Unzipping corpora/stopwords.zip.\n",
            "[nltk_data] Downloading package punkt to /root/nltk_data...\n",
            "[nltk_data]   Unzipping tokenizers/punkt.zip.\n"
          ]
        }
      ]
    },
    {
      "cell_type": "code",
      "metadata": {
        "id": "Ol7_oSFgzrQq",
        "colab": {
          "base_uri": "https://localhost:8080/"
        },
        "outputId": "a39de5ae-d49c-4955-9527-0b567ed8ec7b",
        "collapsed": true
      },
      "source": [
        "!pip install pymorphy3\n",
        "import pymorphy3\n",
        "morph = pymorphy3.MorphAnalyzer(lang='ru')\n",
        "\n",
        "for index, row in df.iterrows():\n",
        "    # print(index, row['text'])\n",
        "    text = row['text'].lower()\n",
        "    # print(\"lower text = \", text)\n",
        "    tokens = nltk.word_tokenize(text, language='russian', preserve_line=True)\n",
        "\n",
        "    normal_words=[]\n",
        "    for word in tokens: # tokens in one line (one post)\n",
        "      # no num and comma\n",
        "      if (word.isalpha()) and (not word in stop_words):\n",
        "        lemma = morph.parse(word)[0].normal_form\n",
        "        # print(\"lemma = \", lemma)\n",
        "        normal_words.append(lemma)\n",
        "    n_title = ' '.join(normal_words)\n",
        "    df.loc[index, 'normalized'] =n_title\n",
        "    #print(\"normalized post = \", n_title)\n",
        "print(df.loc[0, 'normalized'])"
      ],
      "execution_count": 3,
      "outputs": [
        {
          "output_type": "stream",
          "name": "stdout",
          "text": [
            "Collecting pymorphy3\n",
            "  Downloading pymorphy3-2.0.2-py3-none-any.whl.metadata (1.8 kB)\n",
            "Collecting dawg-python>=0.7.1 (from pymorphy3)\n",
            "  Downloading DAWG_Python-0.7.2-py2.py3-none-any.whl.metadata (7.0 kB)\n",
            "Collecting pymorphy3-dicts-ru (from pymorphy3)\n",
            "  Downloading pymorphy3_dicts_ru-2.4.417150.4580142-py2.py3-none-any.whl.metadata (2.0 kB)\n",
            "Downloading pymorphy3-2.0.2-py3-none-any.whl (53 kB)\n",
            "\u001b[2K   \u001b[90m━━━━━━━━━━━━━━━━━━━━━━━━━━━━━━━━━━━━━━━━\u001b[0m \u001b[32m53.8/53.8 kB\u001b[0m \u001b[31m3.4 MB/s\u001b[0m eta \u001b[36m0:00:00\u001b[0m\n",
            "\u001b[?25hDownloading DAWG_Python-0.7.2-py2.py3-none-any.whl (11 kB)\n",
            "Downloading pymorphy3_dicts_ru-2.4.417150.4580142-py2.py3-none-any.whl (8.4 MB)\n",
            "\u001b[2K   \u001b[90m━━━━━━━━━━━━━━━━━━━━━━━━━━━━━━━━━━━━━━━━\u001b[0m \u001b[32m8.4/8.4 MB\u001b[0m \u001b[31m21.4 MB/s\u001b[0m eta \u001b[36m0:00:00\u001b[0m\n",
            "\u001b[?25hInstalling collected packages: pymorphy3-dicts-ru, dawg-python, pymorphy3\n",
            "Successfully installed dawg-python-0.7.2 pymorphy3-2.0.2 pymorphy3-dicts-ru-2.4.417150.4580142\n",
            "https ксм который построить школа суоярви получить разрешение ввод здание эксплуатация светлый класс просторный рекреация спортивный актовый зала лингафонный кабинет помещение продленка должный современный школа построить её средство нацпроект образование также школа петрозаводск деревянка кемь следующий важный этап планировать школа готовый начать учебный напроект образованиекарелия\n"
          ]
        }
      ]
    },
    {
      "cell_type": "code",
      "metadata": {
        "id": "8psD53Nr1h-U",
        "colab": {
          "base_uri": "https://localhost:8080/"
        },
        "outputId": "5cdca95b-ca16-483b-ddfb-c2b3f31abe9d"
      },
      "source": [
        "# df[\"category\"] = \"\" # let's empty column \"category\" to be filled\n",
        "# df[\"category\"] = [\"политика\", \"медицина\", \"образование\", \"наука\", \"война\", \"спорт\", \"экономика\", \"история\", \"экология\"]\n",
        "# + Мир Общество События\n",
        "print(df.columns)\n",
        "\n",
        "# split the data into training and testing samples\n",
        "from sklearn.model_selection import train_test_split\n",
        "train_docs, test_docs = train_test_split(df, stratify=df.category, test_size=5, random_state=108, shuffle=True)"
      ],
      "execution_count": 4,
      "outputs": [
        {
          "output_type": "stream",
          "name": "stdout",
          "text": [
            "Index(['index', 'id', 'category', 'text', 'date', 'likes', 'reposts', 'views',\n",
            "       'normalized'],\n",
            "      dtype='object')\n"
          ]
        }
      ]
    },
    {
      "cell_type": "code",
      "metadata": {
        "id": "EOJg95yg1xHF",
        "colab": {
          "base_uri": "https://localhost:8080/"
        },
        "outputId": "4710bd26-4069-42d4-d0e7-c5266cb07810"
      },
      "source": [
        "train_docs.shape, test_docs.shape"
      ],
      "execution_count": 5,
      "outputs": [
        {
          "output_type": "execute_result",
          "data": {
            "text/plain": [
              "((6, 9), (5, 9))"
            ]
          },
          "metadata": {},
          "execution_count": 5
        }
      ]
    },
    {
      "cell_type": "code",
      "metadata": {
        "id": "hi2eOVcC2xB5",
        "colab": {
          "base_uri": "https://localhost:8080/",
          "height": 241
        },
        "outputId": "cb89f824-49a8-4091-cb2f-830c26e2b51b"
      },
      "source": [
        "pd.Series(test_docs.category).value_counts()"
      ],
      "execution_count": 6,
      "outputs": [
        {
          "output_type": "execute_result",
          "data": {
            "text/plain": [
              "category\n",
              "экономика      2\n",
              "образование    1\n",
              "война          1\n",
              "культура       1\n",
              "Name: count, dtype: int64"
            ],
            "text/html": [
              "<div>\n",
              "<style scoped>\n",
              "    .dataframe tbody tr th:only-of-type {\n",
              "        vertical-align: middle;\n",
              "    }\n",
              "\n",
              "    .dataframe tbody tr th {\n",
              "        vertical-align: top;\n",
              "    }\n",
              "\n",
              "    .dataframe thead th {\n",
              "        text-align: right;\n",
              "    }\n",
              "</style>\n",
              "<table border=\"1\" class=\"dataframe\">\n",
              "  <thead>\n",
              "    <tr style=\"text-align: right;\">\n",
              "      <th></th>\n",
              "      <th>count</th>\n",
              "    </tr>\n",
              "    <tr>\n",
              "      <th>category</th>\n",
              "      <th></th>\n",
              "    </tr>\n",
              "  </thead>\n",
              "  <tbody>\n",
              "    <tr>\n",
              "      <th>экономика</th>\n",
              "      <td>2</td>\n",
              "    </tr>\n",
              "    <tr>\n",
              "      <th>образование</th>\n",
              "      <td>1</td>\n",
              "    </tr>\n",
              "    <tr>\n",
              "      <th>война</th>\n",
              "      <td>1</td>\n",
              "    </tr>\n",
              "    <tr>\n",
              "      <th>культура</th>\n",
              "      <td>1</td>\n",
              "    </tr>\n",
              "  </tbody>\n",
              "</table>\n",
              "</div><br><label><b>dtype:</b> int64</label>"
            ]
          },
          "metadata": {},
          "execution_count": 6
        }
      ]
    },
    {
      "cell_type": "code",
      "metadata": {
        "id": "k2JtY4VE3mO9",
        "colab": {
          "base_uri": "https://localhost:8080/",
          "height": 362
        },
        "outputId": "fdd6cf65-9212-4323-910b-b3c0d2477bf7"
      },
      "source": [
        "from sklearn.feature_extraction.text import TfidfVectorizer\n",
        "vectorizer = TfidfVectorizer(max_df=.2, min_df=3, max_features=2000)\n",
        "doc_train_matrix = vectorizer.fit_transform(train_docs['normalized'])\n",
        "words = vectorizer.get_feature_names()\n",
        "doc_train_matrix"
      ],
      "execution_count": 7,
      "outputs": [
        {
          "output_type": "error",
          "ename": "ValueError",
          "evalue": "max_df corresponds to < documents than min_df",
          "traceback": [
            "\u001b[0;31m---------------------------------------------------------------------------\u001b[0m",
            "\u001b[0;31mValueError\u001b[0m                                Traceback (most recent call last)",
            "\u001b[0;32m<ipython-input-7-b16fe10d6549>\u001b[0m in \u001b[0;36m<cell line: 0>\u001b[0;34m()\u001b[0m\n\u001b[1;32m      1\u001b[0m \u001b[0;32mfrom\u001b[0m \u001b[0msklearn\u001b[0m\u001b[0;34m.\u001b[0m\u001b[0mfeature_extraction\u001b[0m\u001b[0;34m.\u001b[0m\u001b[0mtext\u001b[0m \u001b[0;32mimport\u001b[0m \u001b[0mTfidfVectorizer\u001b[0m\u001b[0;34m\u001b[0m\u001b[0;34m\u001b[0m\u001b[0m\n\u001b[1;32m      2\u001b[0m \u001b[0mvectorizer\u001b[0m \u001b[0;34m=\u001b[0m \u001b[0mTfidfVectorizer\u001b[0m\u001b[0;34m(\u001b[0m\u001b[0mmax_df\u001b[0m\u001b[0;34m=\u001b[0m\u001b[0;36m.2\u001b[0m\u001b[0;34m,\u001b[0m \u001b[0mmin_df\u001b[0m\u001b[0;34m=\u001b[0m\u001b[0;36m3\u001b[0m\u001b[0;34m,\u001b[0m \u001b[0mmax_features\u001b[0m\u001b[0;34m=\u001b[0m\u001b[0;36m2000\u001b[0m\u001b[0;34m)\u001b[0m\u001b[0;34m\u001b[0m\u001b[0;34m\u001b[0m\u001b[0m\n\u001b[0;32m----> 3\u001b[0;31m \u001b[0mdoc_train_matrix\u001b[0m \u001b[0;34m=\u001b[0m \u001b[0mvectorizer\u001b[0m\u001b[0;34m.\u001b[0m\u001b[0mfit_transform\u001b[0m\u001b[0;34m(\u001b[0m\u001b[0mtrain_docs\u001b[0m\u001b[0;34m[\u001b[0m\u001b[0;34m'normalized'\u001b[0m\u001b[0;34m]\u001b[0m\u001b[0;34m)\u001b[0m\u001b[0;34m\u001b[0m\u001b[0;34m\u001b[0m\u001b[0m\n\u001b[0m\u001b[1;32m      4\u001b[0m \u001b[0mwords\u001b[0m \u001b[0;34m=\u001b[0m \u001b[0mvectorizer\u001b[0m\u001b[0;34m.\u001b[0m\u001b[0mget_feature_names\u001b[0m\u001b[0;34m(\u001b[0m\u001b[0;34m)\u001b[0m\u001b[0;34m\u001b[0m\u001b[0;34m\u001b[0m\u001b[0m\n\u001b[1;32m      5\u001b[0m \u001b[0mdoc_train_matrix\u001b[0m\u001b[0;34m\u001b[0m\u001b[0;34m\u001b[0m\u001b[0m\n",
            "\u001b[0;32m/usr/local/lib/python3.11/dist-packages/sklearn/feature_extraction/text.py\u001b[0m in \u001b[0;36mfit_transform\u001b[0;34m(self, raw_documents, y)\u001b[0m\n\u001b[1;32m   2102\u001b[0m             \u001b[0msublinear_tf\u001b[0m\u001b[0;34m=\u001b[0m\u001b[0mself\u001b[0m\u001b[0;34m.\u001b[0m\u001b[0msublinear_tf\u001b[0m\u001b[0;34m,\u001b[0m\u001b[0;34m\u001b[0m\u001b[0;34m\u001b[0m\u001b[0m\n\u001b[1;32m   2103\u001b[0m         )\n\u001b[0;32m-> 2104\u001b[0;31m         \u001b[0mX\u001b[0m \u001b[0;34m=\u001b[0m \u001b[0msuper\u001b[0m\u001b[0;34m(\u001b[0m\u001b[0;34m)\u001b[0m\u001b[0;34m.\u001b[0m\u001b[0mfit_transform\u001b[0m\u001b[0;34m(\u001b[0m\u001b[0mraw_documents\u001b[0m\u001b[0;34m)\u001b[0m\u001b[0;34m\u001b[0m\u001b[0;34m\u001b[0m\u001b[0m\n\u001b[0m\u001b[1;32m   2105\u001b[0m         \u001b[0mself\u001b[0m\u001b[0;34m.\u001b[0m\u001b[0m_tfidf\u001b[0m\u001b[0;34m.\u001b[0m\u001b[0mfit\u001b[0m\u001b[0;34m(\u001b[0m\u001b[0mX\u001b[0m\u001b[0;34m)\u001b[0m\u001b[0;34m\u001b[0m\u001b[0;34m\u001b[0m\u001b[0m\n\u001b[1;32m   2106\u001b[0m         \u001b[0;31m# X is already a transformed view of raw_documents so\u001b[0m\u001b[0;34m\u001b[0m\u001b[0;34m\u001b[0m\u001b[0m\n",
            "\u001b[0;32m/usr/local/lib/python3.11/dist-packages/sklearn/base.py\u001b[0m in \u001b[0;36mwrapper\u001b[0;34m(estimator, *args, **kwargs)\u001b[0m\n\u001b[1;32m   1387\u001b[0m                 )\n\u001b[1;32m   1388\u001b[0m             ):\n\u001b[0;32m-> 1389\u001b[0;31m                 \u001b[0;32mreturn\u001b[0m \u001b[0mfit_method\u001b[0m\u001b[0;34m(\u001b[0m\u001b[0mestimator\u001b[0m\u001b[0;34m,\u001b[0m \u001b[0;34m*\u001b[0m\u001b[0margs\u001b[0m\u001b[0;34m,\u001b[0m \u001b[0;34m**\u001b[0m\u001b[0mkwargs\u001b[0m\u001b[0;34m)\u001b[0m\u001b[0;34m\u001b[0m\u001b[0;34m\u001b[0m\u001b[0m\n\u001b[0m\u001b[1;32m   1390\u001b[0m \u001b[0;34m\u001b[0m\u001b[0m\n\u001b[1;32m   1391\u001b[0m         \u001b[0;32mreturn\u001b[0m \u001b[0mwrapper\u001b[0m\u001b[0;34m\u001b[0m\u001b[0;34m\u001b[0m\u001b[0m\n",
            "\u001b[0;32m/usr/local/lib/python3.11/dist-packages/sklearn/feature_extraction/text.py\u001b[0m in \u001b[0;36mfit_transform\u001b[0;34m(self, raw_documents, y)\u001b[0m\n\u001b[1;32m   1384\u001b[0m             \u001b[0mmin_doc_count\u001b[0m \u001b[0;34m=\u001b[0m \u001b[0mmin_df\u001b[0m \u001b[0;32mif\u001b[0m \u001b[0misinstance\u001b[0m\u001b[0;34m(\u001b[0m\u001b[0mmin_df\u001b[0m\u001b[0;34m,\u001b[0m \u001b[0mIntegral\u001b[0m\u001b[0;34m)\u001b[0m \u001b[0;32melse\u001b[0m \u001b[0mmin_df\u001b[0m \u001b[0;34m*\u001b[0m \u001b[0mn_doc\u001b[0m\u001b[0;34m\u001b[0m\u001b[0;34m\u001b[0m\u001b[0m\n\u001b[1;32m   1385\u001b[0m             \u001b[0;32mif\u001b[0m \u001b[0mmax_doc_count\u001b[0m \u001b[0;34m<\u001b[0m \u001b[0mmin_doc_count\u001b[0m\u001b[0;34m:\u001b[0m\u001b[0;34m\u001b[0m\u001b[0;34m\u001b[0m\u001b[0m\n\u001b[0;32m-> 1386\u001b[0;31m                 \u001b[0;32mraise\u001b[0m \u001b[0mValueError\u001b[0m\u001b[0;34m(\u001b[0m\u001b[0;34m\"max_df corresponds to < documents than min_df\"\u001b[0m\u001b[0;34m)\u001b[0m\u001b[0;34m\u001b[0m\u001b[0;34m\u001b[0m\u001b[0m\n\u001b[0m\u001b[1;32m   1387\u001b[0m             \u001b[0;32mif\u001b[0m \u001b[0mmax_features\u001b[0m \u001b[0;32mis\u001b[0m \u001b[0;32mnot\u001b[0m \u001b[0;32mNone\u001b[0m\u001b[0;34m:\u001b[0m\u001b[0;34m\u001b[0m\u001b[0;34m\u001b[0m\u001b[0m\n\u001b[1;32m   1388\u001b[0m                 \u001b[0mX\u001b[0m \u001b[0;34m=\u001b[0m \u001b[0mself\u001b[0m\u001b[0;34m.\u001b[0m\u001b[0m_sort_features\u001b[0m\u001b[0;34m(\u001b[0m\u001b[0mX\u001b[0m\u001b[0;34m,\u001b[0m \u001b[0mvocabulary\u001b[0m\u001b[0;34m)\u001b[0m\u001b[0;34m\u001b[0m\u001b[0;34m\u001b[0m\u001b[0m\n",
            "\u001b[0;31mValueError\u001b[0m: max_df corresponds to < documents than min_df"
          ]
        }
      ]
    },
    {
      "cell_type": "code",
      "metadata": {
        "id": "ZAWUA_v25zgx"
      },
      "source": [
        "doc_test_matrix = vectorizer.transform(test_docs['normalized'])\n",
        "doc_test_matrix"
      ],
      "execution_count": null,
      "outputs": []
    },
    {
      "cell_type": "code",
      "metadata": {
        "id": "VTJPrcq_6fFF"
      },
      "source": [
        "topic_labels = ['Тема {}'.format(i) for i in range(1, 9)]\n"
      ],
      "execution_count": null,
      "outputs": []
    },
    {
      "cell_type": "code",
      "metadata": {
        "id": "y1eMf_SJ6t9H"
      },
      "source": [
        "from sklearn.decomposition import LatentDirichletAllocation\n",
        "lda = LatentDirichletAllocation(n_components=8, n_jobs=-1, max_iter=500,\n",
        "                                learning_method='batch', evaluate_every=5,\n",
        "                                verbose=1, random_state=42)\n",
        "lda.fit(doc_train_matrix)"
      ],
      "execution_count": null,
      "outputs": []
    },
    {
      "cell_type": "code",
      "metadata": {
        "id": "nxTs168c7As-"
      },
      "source": [
        "from sklearn.externals import joblib\n",
        "joblib.dump(lda, 'lda_500_iter.pkl')\n",
        "lda = joblib.load('lda_500_iter.pkl')"
      ],
      "execution_count": null,
      "outputs": []
    },
    {
      "cell_type": "markdown",
      "metadata": {
        "id": "ZsY7fztQfkRx"
      },
      "source": []
    },
    {
      "cell_type": "code",
      "metadata": {
        "id": "TsvDZMeV8YTs"
      },
      "source": [
        "#Досліджуйте теми та розподіл слів\n",
        "topics_count = lda.components_\n",
        "print(topics_count.shape)\n",
        "topics_count[:8]"
      ],
      "execution_count": null,
      "outputs": []
    },
    {
      "cell_type": "code",
      "metadata": {
        "id": "qaJCNo7U9aRH"
      },
      "source": [
        "topics_prob = topics_count / topics_count.sum(axis=1).reshape(-1, 1)\n",
        "topics = pd.DataFrame(topics_prob.T,\n",
        "                      index=words,\n",
        "                      columns=topic_labels)\n",
        "topics.head()"
      ],
      "execution_count": null,
      "outputs": []
    },
    {
      "cell_type": "code",
      "metadata": {
        "id": "n5WJPhI4fqn3"
      },
      "source": [
        "from wordcloud import WordCloud\n",
        "import matplotlib.pyplot as plt\n",
        "w = WordCloud(background_color='white',max_font_size = 50)\n",
        "fig, axes = plt.subplots(ncols=2, nrows=4, figsize=(12, 12))\n",
        "axes = axes.flatten()\n",
        "for t, (topic, freq) in enumerate(topics.items()):\n",
        "    w.generate_from_frequencies(freq.to_dict())\n",
        "    axes[t].imshow(w, interpolation='bilinear')\n",
        "    axes[t].set_title(topic, fontsize=12)\n",
        "    axes[t].axis('off')\n",
        "axes[5].set_visible(False)\n",
        "plt.tight_layout()"
      ],
      "execution_count": null,
      "outputs": []
    },
    {
      "cell_type": "code",
      "metadata": {
        "id": "DKPf3Qr597nN"
      },
      "source": [
        "# всі слова мають позитивну ймовірність для всіх тем\n",
        "topics[topics.gt(0).all(1)].shape[0] == topics.shape[0]"
      ],
      "execution_count": null,
      "outputs": []
    },
    {
      "cell_type": "code",
      "metadata": {
        "id": "5w9a_7_i-4rq"
      },
      "source": [
        "n_words = 12\n",
        "top_words = {}\n",
        "for topic, words_ in topics.items():\n",
        "    top_words[topic] = words_.nlargest(n_words).index.tolist()\n",
        "pd.DataFrame(top_words)"
      ],
      "execution_count": null,
      "outputs": []
    },
    {
      "cell_type": "code",
      "metadata": {
        "id": "_COZM1eE-oxy"
      },
      "source": [
        "import seaborn as sns\n",
        "sns.heatmap(topics, cmap='Blues')"
      ],
      "execution_count": null,
      "outputs": []
    },
    {
      "cell_type": "code",
      "metadata": {
        "id": "NMMer80cBBJs"
      },
      "source": [
        "train_preds = lda.transform(doc_train_matrix)\n",
        "train_preds.shape"
      ],
      "execution_count": null,
      "outputs": []
    },
    {
      "cell_type": "code",
      "metadata": {
        "id": "Y5UnKkpEBFFC"
      },
      "source": [
        "train_eval = pd.DataFrame(train_preds, columns=topic_labels, index=train_docs.category)\n",
        "train_eval.head()"
      ],
      "execution_count": null,
      "outputs": []
    },
    {
      "cell_type": "code",
      "metadata": {
        "id": "vE4T5H4oBTLU"
      },
      "source": [
        "train_eval.groupby(level='category').mean().plot.bar(title='Сер. Тема ймовірностей', figsize=(20,10));"
      ],
      "execution_count": null,
      "outputs": []
    },
    {
      "cell_type": "code",
      "metadata": {
        "id": "rzYQ2_WfFlIa"
      },
      "source": [
        "df = train_eval.groupby(level='category').idxmax(\n",
        "    axis=1).reset_index(-1, drop=True)\n",
        "plt.figure(figsize=(12, 12))\n",
        "sns.heatmap(df.groupby(level='category').value_counts(normalize=True)\n",
        "            .unstack(-1), annot=True, fmt='.1%', cmap='Blues', square=True)\n",
        "plt.title('Дані навчання: Тематичні завдання')\n",
        "\n"
      ],
      "execution_count": null,
      "outputs": []
    },
    {
      "cell_type": "code",
      "metadata": {
        "id": "Yax-bgZdbOTR"
      },
      "source": [
        "train_eval = pd.DataFrame(data=lda.transform(doc_train_matrix),\n",
        "                          columns=topic_labels,\n",
        "                          index=train_docs.category)\n",
        "test_eval = pd.DataFrame(data=lda.transform(doc_test_matrix),\n",
        "                         columns=topic_labels,\n",
        "                         index=test_docs.category)"
      ],
      "execution_count": null,
      "outputs": []
    },
    {
      "cell_type": "code",
      "metadata": {
        "id": "1i0n0b9Ukllk"
      },
      "source": [
        "import seaborn as sns\n",
        "\n",
        "fig, axes = plt.subplots(ncols=2, figsize=(16,10))\n",
        "source = ['Навчання', 'Тест']\n",
        "for i, df in enumerate([train_eval, test_eval]):\n",
        "    df = df.groupby(level='category').idxmax(\n",
        "    axis=1).reset_index(-1, drop=True)\n",
        "    sns.heatmap(df.groupby(level='category').value_counts(normalize=True)\n",
        "            .unstack(-1), annot=True, fmt='.1%', cmap='Blues', square=True, ax=axes[i])\n",
        "    axes[i].set_title('{} Дані: Тематичні завдання'.format(source[i]));"
      ],
      "execution_count": null,
      "outputs": []
    },
    {
      "cell_type": "code",
      "metadata": {
        "id": "f4-D9Ya9mc6X"
      },
      "source": [
        "#Перегляньте неправильно класифіковані статті\n",
        "test_assignments = test_eval.groupby(level='category').idxmax(\n",
        "    axis=1).reset_index(-1, drop=True).to_frame('predicted').reset_index()\n",
        "test_assignments['title'] = test_docs.title.values\n",
        "test_assignments.head()"
      ],
      "execution_count": null,
      "outputs": []
    },
    {
      "cell_type": "code",
      "metadata": {
        "id": "fEPLfJ_knT5w"
      },
      "source": [
        "misclassified = test_assignments[(test_assignments.category == 'Політика') & (\n",
        "    test_assignments.predicted == 'Тема 1')]\n",
        "misclassified.title"
      ],
      "execution_count": null,
      "outputs": []
    },
    {
      "cell_type": "code",
      "metadata": {
        "id": "OIDriODdns0K"
      },
      "source": [
        "misclassified.title.tolist()"
      ],
      "execution_count": null,
      "outputs": []
    },
    {
      "cell_type": "code",
      "metadata": {
        "id": "X2K8whLyGVIx"
      },
      "source": [
        "!pip install pyLDAvis\n",
        "import pyLDAvis.sklearn\n"
      ],
      "execution_count": null,
      "outputs": []
    },
    {
      "cell_type": "code",
      "metadata": {
        "id": "Z4bptvFFHBZM"
      },
      "source": [
        "lda_viz = pyLDAvis.sklearn.prepare(lda, doc_train_matrix, vectorizer, mds='tsne')\n",
        "pyLDAvis.display(lda_viz)"
      ],
      "execution_count": null,
      "outputs": []
    },
    {
      "cell_type": "code",
      "metadata": {
        "id": "NxW2cxRmJn9j"
      },
      "source": [],
      "execution_count": null,
      "outputs": []
    }
  ]
}