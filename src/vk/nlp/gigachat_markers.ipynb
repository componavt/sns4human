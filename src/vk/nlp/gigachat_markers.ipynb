{
  "cells": [
    {
      "cell_type": "markdown",
      "metadata": {
        "id": "view-in-github",
        "colab_type": "text"
      },
      "source": [
        "<a href=\"https://colab.research.google.com/github/componavt/sns4human/blob/main/src/vk/nlp/ai_markers.ipynb\" target=\"_parent\"><img src=\"https://colab.research.google.com/assets/colab-badge.svg\" alt=\"Open In Colab\"/></a>"
      ]
    },
    {
      "cell_type": "markdown",
      "source": [
        "This script sends a prompt to the GigaChat model, gets the topic tags and the keyword phrase.\n",
        "\n",
        "Этот скрипт отправляет  промпт в модель GigaChat, получает тематические метки и ключевое словосочетание."
      ],
      "metadata": {
        "id": "DOgikg3TgbSK"
      }
    },
    {
      "cell_type": "code",
      "execution_count": null,
      "metadata": {
        "id": "Khpbqchooo9r"
      },
      "outputs": [],
      "source": [
        "!pip install -q GigaChat\n",
        "from ast import main\n",
        "from gigachat import GigaChat\n"
      ]
    },
    {
      "cell_type": "code",
      "source": [
        "prompts = ['блюдо, кухня, калитка, рецепт, вкусный, пирог, ягода, вкус, рыба']\n",
        "\n",
        "\n",
        "topics = []\n",
        "markers = []\n",
        "main_word = []\n",
        "for prompt in prompts:\n",
        "  giga = GigaChat(credentials=\"ВАШ КЛЮЧ\", verify_ssl_certs=False)\n",
        "  response = giga.chat(f\"Для списка слов:  \\\"{prompt}\\\", обозначь метки, характеризующие этот набор слов, выдели главное наиболее подходящее словосочетание среди них\")\n",
        "  print(response.choices[0].message.content)\n",
        "  topics.append(prompt)\n",
        "  markers.append(response.choices[0].message.content)\n",
        "  main_word.append(markers[-1].split('\\n')[0])"
      ],
      "metadata": {
        "id": "xNhO665He_xW",
        "outputId": "aefa5fdf-873f-4723-895f-540d7e01d615",
        "colab": {
          "base_uri": "https://localhost:8080/"
        }
      },
      "execution_count": 14,
      "outputs": [
        {
          "output_type": "stream",
          "name": "stdout",
          "text": [
            "Метки для этого списка слов могут быть следующими:\n",
            "\n",
            "1. **Кулинария**: блюдо, кухня, рецепт, вкусный, пирог, ягода, вкус\n",
            "2. **Продукты питания**: блюдо, кухня, рецепт, вкусный, пирог, ягода, вкус\n",
            "3. **Рыба**: рыба\n",
            "4. **Финская кухня**: калитка\n",
            "\n",
            "Наиболее подходящее словосочетание – **\"кухня и блюда\"**, так как оно охватывает большую часть слов в списке (блюдо, кухня, рецепт, пирог, ягода).\n"
          ]
        }
      ]
    },
    {
      "cell_type": "code",
      "source": [
        "prompts = ['блюдо, кухня, калитка, рецепт, вкусный, пирог, ягода, вкус, рыба']\n",
        "\n",
        "\n",
        "topics = []\n",
        "markers = []\n",
        "main_word = []\n",
        "for prompt in prompts:\n",
        "  giga = GigaChat(credentials=\"ВАШ КЛЮЧ\", verify_ssl_certs=False)\n",
        "  response = giga.chat(f\"Для  набора слов: '{prompt}' — определи несколько тематических меток, которые лучше всего характеризуют этот список. Также выдели наиболее подходящее ключевое словосочетание, обобщающее основную тему\")\n",
        "  print(response.choices[0].message.content)\n",
        "  topics.append(prompt)\n",
        "  markers.append(response.choices[0].message.content)\n",
        "  main_word.append(markers[-1].split('\\n')[0])"
      ],
      "metadata": {
        "id": "4ZhGPKFsf4ii",
        "outputId": "c952fbb4-84f1-45fc-838e-b58619ac5b5b",
        "colab": {
          "base_uri": "https://localhost:8080/"
        }
      },
      "execution_count": 15,
      "outputs": [
        {
          "output_type": "stream",
          "name": "stdout",
          "text": [
            "Для данного списка слов можно выделить следующие тематические метки:\n",
            "\n",
            "1. **Кулинария** – основной домен, охватывающий все остальные слова.\n",
            "2. **Рецепты и приготовление пищи** – включает такие слова как «рецепт», «вкусный», «пирог».\n",
            "3. **Блюда русской кухни** – упоминаются «калитка» (финский пирожок) и «рыба», что может указывать на региональные особенности.\n",
            "4. **Ягоды** – поскольку одно из ключевых слов это «ягода», которое ассоциируется с десертами и выпечкой.\n",
            "5. **Вкусовые характеристики** – слова «вкус», «вкусно» также отражают эту сторону темы.\n",
            "\n",
            "Наиболее подходящее ключевое словосочетание для обобщения основной темы будет:\n",
            "\n",
            "**\"Русская кухня: блюда, рецепты и вкусы\"**\n"
          ]
        }
      ]
    }
  ],
  "metadata": {
    "colab": {
      "provenance": [],
      "authorship_tag": "ABX9TyN5pevhk/jW3kOHwYXR4970",
      "include_colab_link": true
    },
    "kernelspec": {
      "display_name": "Python 3",
      "name": "python3"
    },
    "language_info": {
      "name": "python"
    }
  },
  "nbformat": 4,
  "nbformat_minor": 0
}
