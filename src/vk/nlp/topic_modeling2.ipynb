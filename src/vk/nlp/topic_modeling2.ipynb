{
  "cells": [
    {
      "cell_type": "markdown",
      "metadata": {
        "id": "view-in-github",
        "colab_type": "text"
      },
      "source": [
        "<a href=\"https://colab.research.google.com/github/componavt/sns4human/blob/main/src/vk/nlp/topic_modeling2.ipynb\" target=\"_parent\"><img src=\"https://colab.research.google.com/assets/colab-badge.svg\" alt=\"Open In Colab\"/></a>"
      ]
    },
    {
      "cell_type": "code",
      "execution_count": 1,
      "metadata": {
        "id": "YPnmnSkjhNZO"
      },
      "outputs": [],
      "source": [
        "import pandas as pd\n",
        "import nltk\n",
        "from nltk.tokenize import word_tokenize\n",
        "nltk.download('stopwords', quiet=True)\n",
        "nltk.download('punkt', quiet=True)\n",
        "nltk.download('punkt_tab', quiet=True)\n",
        "\n",
        "from nltk.corpus import stopwords\n",
        "stop_words = stopwords.words(\"russian\")\n",
        "csv_files = [\n",
        "        'https://raw.githubusercontent.com/componavt/sns4human/refs/heads/main/data/vk/posts/aparfenchikov.csv',\n",
        "        'https://raw.githubusercontent.com/componavt/sns4human/refs/heads/main/data/vk/posts/minnazrk.csv'\n",
        "    ]\n",
        "df = pd.concat([pd.read_csv(url, usecols = ['text']) for url in csv_files], ignore_index=True)\n",
        "df = df[df['text'].apply(lambda x: isinstance(x, str))]\n",
        "df = df.reset_index()\n",
        "df = df.drop(columns=['index'])\n",
        "\n",
        "#df"
      ]
    },
    {
      "cell_type": "code",
      "execution_count": 2,
      "metadata": {
        "id": "hZim8ev2nppo",
        "colab": {
          "base_uri": "https://localhost:8080/"
        },
        "outputId": "331e4a85-ea5d-4efd-81d4-4ce8ecc55dd0"
      },
      "outputs": [
        {
          "output_type": "stream",
          "name": "stdout",
          "text": [
            "Collecting pymorphy2==0.9.1\n",
            "  Downloading pymorphy2-0.9.1-py3-none-any.whl.metadata (3.6 kB)\n",
            "Collecting dawg-python>=0.7.1 (from pymorphy2==0.9.1)\n",
            "  Downloading DAWG_Python-0.7.2-py2.py3-none-any.whl.metadata (7.0 kB)\n",
            "Collecting pymorphy2-dicts-ru<3.0,>=2.4 (from pymorphy2==0.9.1)\n",
            "  Downloading pymorphy2_dicts_ru-2.4.417127.4579844-py2.py3-none-any.whl.metadata (2.1 kB)\n",
            "Collecting docopt>=0.6 (from pymorphy2==0.9.1)\n",
            "  Downloading docopt-0.6.2.tar.gz (25 kB)\n",
            "  Preparing metadata (setup.py) ... \u001b[?25l\u001b[?25hdone\n",
            "Downloading pymorphy2-0.9.1-py3-none-any.whl (55 kB)\n",
            "\u001b[2K   \u001b[90m━━━━━━━━━━━━━━━━━━━━━━━━━━━━━━━━━━━━━━━━\u001b[0m \u001b[32m55.5/55.5 kB\u001b[0m \u001b[31m944.5 kB/s\u001b[0m eta \u001b[36m0:00:00\u001b[0m\n",
            "\u001b[?25hDownloading DAWG_Python-0.7.2-py2.py3-none-any.whl (11 kB)\n",
            "Downloading pymorphy2_dicts_ru-2.4.417127.4579844-py2.py3-none-any.whl (8.2 MB)\n",
            "\u001b[2K   \u001b[90m━━━━━━━━━━━━━━━━━━━━━━━━━━━━━━━━━━━━━━━━\u001b[0m \u001b[32m8.2/8.2 MB\u001b[0m \u001b[31m11.4 MB/s\u001b[0m eta \u001b[36m0:00:00\u001b[0m\n",
            "\u001b[?25hBuilding wheels for collected packages: docopt\n",
            "  Building wheel for docopt (setup.py) ... \u001b[?25l\u001b[?25hdone\n",
            "  Created wheel for docopt: filename=docopt-0.6.2-py2.py3-none-any.whl size=13706 sha256=68317182d2a0990bff20b9be3356a1a8c32956d30b1548a36e0762386e6d43d6\n",
            "  Stored in directory: /root/.cache/pip/wheels/fc/ab/d4/5da2067ac95b36618c629a5f93f809425700506f72c9732fac\n",
            "Successfully built docopt\n",
            "Installing collected packages: pymorphy2-dicts-ru, docopt, dawg-python, pymorphy2\n",
            "Successfully installed dawg-python-0.7.2 docopt-0.6.2 pymorphy2-0.9.1 pymorphy2-dicts-ru-2.4.417127.4579844\n"
          ]
        }
      ],
      "source": [
        "!pip install -U pymorphy2==0.9.1\n",
        "import pymorphy2\n",
        "import gensim\n",
        "import gensim.corpora as corpora\n",
        "from gensim.utils import simple_preprocess\n",
        "from gensim.models import CoherenceModel\n",
        "morph = pymorphy2.MorphAnalyzer(lang='ru')\n",
        "alphabet = set('абвгдеёжзийклмнопрстуфхцчшщъыьэюя-')"
      ]
    },
    {
      "cell_type": "code",
      "execution_count": 3,
      "metadata": {
        "id": "3GQK_eJ--_ON"
      },
      "outputs": [],
      "source": [
        "def process_text(text):\n",
        "    check_hash = False\n",
        "    processed_parts = []\n",
        "    for w in nltk.word_tokenize(text):\n",
        "      if len(w) == 1:\n",
        "        continue\n",
        "      if w == '#':\n",
        "          check_hash = True\n",
        "          continue\n",
        "      if check_hash:\n",
        "          check_hash = False\n",
        "          continue\n",
        "      w_tag = morph.parse(w.strip())[0].tag\n",
        "      if   'Surn' in w_tag or 'Name' in w_tag or 'Patr' in w_tag:\n",
        "         continue\n",
        "      if set(w.lower()).issubset(alphabet):\n",
        "        if w.isalpha() and w.lower():\n",
        "          if w.isupper() and len(w) <= 3:\n",
        "              processed_parts.append(w)\n",
        "          else:\n",
        "              res = morph.parse(w.lower())[0].normal_form\n",
        "              if res not in stop_words:\n",
        "                  processed_parts.append(res)\n",
        "    result = ' '.join(processed_parts)\n",
        "    return str(result)\n",
        "\n",
        "df['tokens'] = df['text'].apply(lambda x: process_text(x))\n",
        "# Сохраняем обработанные данные\n",
        "df.to_excel('df_tokens.xlsx', index=False)\n",
        "#df"
      ]
    },
    {
      "cell_type": "code",
      "source": [
        "data = pd.read_excel('df_tokens.xlsx')['tokens'].to_string(index=False)\n"
      ],
      "metadata": {
        "id": "F6az6DZeXftM"
      },
      "execution_count": 4,
      "outputs": []
    },
    {
      "cell_type": "code",
      "source": [
        "data = [[ doc ] for doc in data.split('\\n')]"
      ],
      "metadata": {
        "id": "mXKjJcdtZUjf"
      },
      "execution_count": 5,
      "outputs": []
    },
    {
      "cell_type": "code",
      "source": [
        "data"
      ],
      "metadata": {
        "id": "ylu6fXPbZTPq"
      },
      "execution_count": null,
      "outputs": []
    },
    {
      "cell_type": "code",
      "source": [
        "new_data = [[word for word in sent[0].split()] for sent in data]"
      ],
      "metadata": {
        "id": "Q__DzmWIf-ci"
      },
      "execution_count": 7,
      "outputs": []
    },
    {
      "cell_type": "code",
      "source": [
        "from gensim import corpora\n",
        "\n",
        "# Пример документов\n",
        "documents = [\n",
        "    ['apple', 'banana', 'apple'],\n",
        "    ['banana', 'orange', 'fruit'],\n",
        "    ['fruit', 'apple', 'fruit']\n",
        "]\n",
        "\n",
        "# Создание словаря\n",
        "dictionary = corpora.Dictionary(documents)\n",
        "\n",
        "# Просмотр содержимого словаря\n",
        "print(dictionary.token2id)  # Словарь, где ключи - слова, а значения - уникальные идентификаторы\n"
      ],
      "metadata": {
        "colab": {
          "base_uri": "https://localhost:8080/"
        },
        "id": "4g1OsZhGhnyn",
        "outputId": "61fe2eef-5fcd-4ded-852d-44e8367b18df"
      },
      "execution_count": 8,
      "outputs": [
        {
          "output_type": "stream",
          "name": "stdout",
          "text": [
            "{'apple': 0, 'banana': 1, 'fruit': 2, 'orange': 3}\n"
          ]
        }
      ]
    },
    {
      "cell_type": "code",
      "source": [
        "for sent in new_data:\n",
        "    for word in sent:\n",
        "      if len(word) == 1:\n",
        "        print(word)"
      ],
      "metadata": {
        "id": "JuCt19dahrQ_"
      },
      "execution_count": 9,
      "outputs": []
    },
    {
      "cell_type": "code",
      "execution_count": 10,
      "metadata": {
        "id": "SBF4pMd8ObIK"
      },
      "outputs": [],
      "source": [
        "bigram = gensim.models.Phrases(data, min_count=5, threshold=100)\n",
        "trigram = gensim.models.Phrases(bigram[data], threshold=100)\n",
        "\n",
        "bigram_mod = gensim.models.phrases.Phraser(bigram)\n",
        "trigram_mod = gensim.models.phrases.Phraser(trigram)\n",
        "\n",
        "def make_trigrams(texts):\n",
        "    return [trigram_mod[bigram_mod[doc]] for doc in texts]\n",
        "\n",
        "data_words_trigrams = make_trigrams(data)\n",
        "\n",
        "dictionary = corpora.Dictionary(data_words_trigrams)\n",
        "dictionary.filter_extremes(no_below=20, no_above=0.6)"
      ]
    },
    {
      "cell_type": "markdown",
      "source": [
        "в этом моменте, одинаковые значения выводятся и между ними нет связей, по какой то причине к словам добавляются троеточие и непонятно по какой причине"
      ],
      "metadata": {
        "id": "SCNx49rQg_d5"
      }
    },
    {
      "cell_type": "code",
      "source": [
        "from gensim.models import LdaModel\n",
        "\n",
        "dictionary = corpora.Dictionary(new_data)\n",
        "corpus = [dictionary.doc2bow(text) for text in data]\n",
        "# Обучение модели LDA\n",
        "num_topics = 10\n",
        "\n",
        "lda_model = LdaModel(corpus, num_topics=num_topics, id2word=dictionary, passes=15)\n",
        "\n",
        "# Вывод тем и связанных с ними слов\n",
        "for idx, topic in lda_model.print_topics(-1):\n",
        "    print(f\"Тема {idx + 1}: {topic}\")"
      ],
      "metadata": {
        "colab": {
          "base_uri": "https://localhost:8080/"
        },
        "id": "7UTfnjmrUcr1",
        "outputId": "f81e9fca-646f-41fb-8774-92b8e6178340"
      },
      "execution_count": 11,
      "outputs": [
        {
          "output_type": "stream",
          "name": "stderr",
          "text": [
            "/usr/local/lib/python3.10/dist-packages/gensim/models/ldamodel.py:847: RuntimeWarning: invalid value encountered in scalar divide\n",
            "  perwordbound = self.bound(chunk, subsample_ratio=subsample_ratio) / (subsample_ratio * corpus_words)\n"
          ]
        },
        {
          "output_type": "stream",
          "name": "stdout",
          "text": [
            "Тема 1: 0.000*\"режим...\" + 0.000*\"автономный\" + 0.000*\"рассмотрение\" + 0.000*\"ассоциация\" + 0.000*\"диалог...\" + 0.000*\"ведение\" + 0.000*\"средний...\" + 0.000*\"казначейство\" + 0.000*\"положител...\" + 0.000*\"консерв...\"\n",
            "Тема 2: 0.000*\"режим...\" + 0.000*\"автономный\" + 0.000*\"рассмотрение\" + 0.000*\"ассоциация\" + 0.000*\"диалог...\" + 0.000*\"ведение\" + 0.000*\"средний...\" + 0.000*\"казначейство\" + 0.000*\"положител...\" + 0.000*\"консерв...\"\n",
            "Тема 3: 0.000*\"режим...\" + 0.000*\"автономный\" + 0.000*\"рассмотрение\" + 0.000*\"ассоциация\" + 0.000*\"диалог...\" + 0.000*\"ведение\" + 0.000*\"средний...\" + 0.000*\"казначейство\" + 0.000*\"положител...\" + 0.000*\"консерв...\"\n",
            "Тема 4: 0.000*\"режим...\" + 0.000*\"автономный\" + 0.000*\"рассмотрение\" + 0.000*\"ассоциация\" + 0.000*\"диалог...\" + 0.000*\"ведение\" + 0.000*\"средний...\" + 0.000*\"казначейство\" + 0.000*\"положител...\" + 0.000*\"консерв...\"\n",
            "Тема 5: 0.000*\"режим...\" + 0.000*\"автономный\" + 0.000*\"рассмотрение\" + 0.000*\"ассоциация\" + 0.000*\"диалог...\" + 0.000*\"ведение\" + 0.000*\"средний...\" + 0.000*\"казначейство\" + 0.000*\"положител...\" + 0.000*\"консерв...\"\n",
            "Тема 6: 0.000*\"режим...\" + 0.000*\"автономный\" + 0.000*\"рассмотрение\" + 0.000*\"ассоциация\" + 0.000*\"диалог...\" + 0.000*\"ведение\" + 0.000*\"средний...\" + 0.000*\"казначейство\" + 0.000*\"положител...\" + 0.000*\"консерв...\"\n",
            "Тема 7: 0.000*\"режим...\" + 0.000*\"автономный\" + 0.000*\"рассмотрение\" + 0.000*\"ассоциация\" + 0.000*\"диалог...\" + 0.000*\"ведение\" + 0.000*\"средний...\" + 0.000*\"казначейство\" + 0.000*\"положител...\" + 0.000*\"консерв...\"\n",
            "Тема 8: 0.000*\"режим...\" + 0.000*\"автономный\" + 0.000*\"рассмотрение\" + 0.000*\"ассоциация\" + 0.000*\"диалог...\" + 0.000*\"ведение\" + 0.000*\"средний...\" + 0.000*\"казначейство\" + 0.000*\"положител...\" + 0.000*\"консерв...\"\n",
            "Тема 9: 0.000*\"режим...\" + 0.000*\"автономный\" + 0.000*\"рассмотрение\" + 0.000*\"ассоциация\" + 0.000*\"диалог...\" + 0.000*\"ведение\" + 0.000*\"средний...\" + 0.000*\"казначейство\" + 0.000*\"положител...\" + 0.000*\"консерв...\"\n",
            "Тема 10: 0.000*\"режим...\" + 0.000*\"автономный\" + 0.000*\"рассмотрение\" + 0.000*\"ассоциация\" + 0.000*\"диалог...\" + 0.000*\"ведение\" + 0.000*\"средний...\" + 0.000*\"казначейство\" + 0.000*\"положител...\" + 0.000*\"консерв...\"\n"
          ]
        }
      ]
    },
    {
      "cell_type": "code",
      "source": [
        "topics = []\n",
        "for i in range(1, num_topics + 1):\n",
        "    topics.append(f\"Тема {i}\")\n",
        "data = {'Слова': []}"
      ],
      "metadata": {
        "id": "impm8T1byjJi"
      },
      "execution_count": 104,
      "outputs": []
    },
    {
      "cell_type": "code",
      "source": [
        "print(lda_model.show_topics(formatted=False))"
      ],
      "metadata": {
        "colab": {
          "base_uri": "https://localhost:8080/"
        },
        "id": "ikVtnQKLdYeG",
        "outputId": "00815b8d-81e7-434d-aff0-06a835fd54ec"
      },
      "execution_count": 14,
      "outputs": [
        {
          "output_type": "stream",
          "name": "stdout",
          "text": [
            "[(0, [('режим...', 8.461667e-05), ('автономный', 8.461667e-05), ('рассмотрение', 8.461667e-05), ('ассоциация', 8.461667e-05), ('диалог...', 8.461667e-05), ('ведение', 8.461667e-05), ('средний...', 8.461667e-05), ('казначейство', 8.461667e-05), ('положител...', 8.461667e-05), ('консерв...', 8.461667e-05)]), (1, [('режим...', 8.461667e-05), ('автономный', 8.461667e-05), ('рассмотрение', 8.461667e-05), ('ассоциация', 8.461667e-05), ('диалог...', 8.461667e-05), ('ведение', 8.461667e-05), ('средний...', 8.461667e-05), ('казначейство', 8.461667e-05), ('положител...', 8.461667e-05), ('консерв...', 8.461667e-05)]), (2, [('режим...', 8.461667e-05), ('автономный', 8.461667e-05), ('рассмотрение', 8.461667e-05), ('ассоциация', 8.461667e-05), ('диалог...', 8.461667e-05), ('ведение', 8.461667e-05), ('средний...', 8.461667e-05), ('казначейство', 8.461667e-05), ('положител...', 8.461667e-05), ('консерв...', 8.461667e-05)]), (3, [('режим...', 8.461667e-05), ('автономный', 8.461667e-05), ('рассмотрение', 8.461667e-05), ('ассоциация', 8.461667e-05), ('диалог...', 8.461667e-05), ('ведение', 8.461667e-05), ('средний...', 8.461667e-05), ('казначейство', 8.461667e-05), ('положител...', 8.461667e-05), ('консерв...', 8.461667e-05)]), (4, [('режим...', 8.461667e-05), ('автономный', 8.461667e-05), ('рассмотрение', 8.461667e-05), ('ассоциация', 8.461667e-05), ('диалог...', 8.461667e-05), ('ведение', 8.461667e-05), ('средний...', 8.461667e-05), ('казначейство', 8.461667e-05), ('положител...', 8.461667e-05), ('консерв...', 8.461667e-05)]), (5, [('режим...', 8.461667e-05), ('автономный', 8.461667e-05), ('рассмотрение', 8.461667e-05), ('ассоциация', 8.461667e-05), ('диалог...', 8.461667e-05), ('ведение', 8.461667e-05), ('средний...', 8.461667e-05), ('казначейство', 8.461667e-05), ('положител...', 8.461667e-05), ('консерв...', 8.461667e-05)]), (6, [('режим...', 8.461667e-05), ('автономный', 8.461667e-05), ('рассмотрение', 8.461667e-05), ('ассоциация', 8.461667e-05), ('диалог...', 8.461667e-05), ('ведение', 8.461667e-05), ('средний...', 8.461667e-05), ('казначейство', 8.461667e-05), ('положител...', 8.461667e-05), ('консерв...', 8.461667e-05)]), (7, [('режим...', 8.461667e-05), ('автономный', 8.461667e-05), ('рассмотрение', 8.461667e-05), ('ассоциация', 8.461667e-05), ('диалог...', 8.461667e-05), ('ведение', 8.461667e-05), ('средний...', 8.461667e-05), ('казначейство', 8.461667e-05), ('положител...', 8.461667e-05), ('консерв...', 8.461667e-05)]), (8, [('режим...', 8.461667e-05), ('автономный', 8.461667e-05), ('рассмотрение', 8.461667e-05), ('ассоциация', 8.461667e-05), ('диалог...', 8.461667e-05), ('ведение', 8.461667e-05), ('средний...', 8.461667e-05), ('казначейство', 8.461667e-05), ('положител...', 8.461667e-05), ('консерв...', 8.461667e-05)]), (9, [('режим...', 8.461667e-05), ('автономный', 8.461667e-05), ('рассмотрение', 8.461667e-05), ('ассоциация', 8.461667e-05), ('диалог...', 8.461667e-05), ('ведение', 8.461667e-05), ('средний...', 8.461667e-05), ('казначейство', 8.461667e-05), ('положител...', 8.461667e-05), ('консерв...', 8.461667e-05)])]\n"
          ]
        }
      ]
    },
    {
      "cell_type": "code",
      "execution_count": 15,
      "metadata": {
        "colab": {
          "base_uri": "https://localhost:8080/",
          "height": 112
        },
        "id": "fTF0hlXauLgP",
        "outputId": "0446a258-2fb8-4534-feae-fbc26e1536a0"
      },
      "outputs": [
        {
          "output_type": "execute_result",
          "data": {
            "text/plain": [
              "          Topic 1     Topic 2     Topic 3     Topic 4     Topic 5     Topic 6  \\\n",
              "Term1    режим...    режим...    режим...    режим...    режим...    режим...   \n",
              "Term2  автономный  автономный  автономный  автономный  автономный  автономный   \n",
              "\n",
              "          Topic 7     Topic 8     Topic 9    Topic 10  \n",
              "Term1    режим...    режим...    режим...    режим...  \n",
              "Term2  автономный  автономный  автономный  автономный  "
            ],
            "text/html": [
              "\n",
              "  <div id=\"df-04c9dea6-9716-4b08-8969-c04721967adc\" class=\"colab-df-container\">\n",
              "    <div>\n",
              "<style scoped>\n",
              "    .dataframe tbody tr th:only-of-type {\n",
              "        vertical-align: middle;\n",
              "    }\n",
              "\n",
              "    .dataframe tbody tr th {\n",
              "        vertical-align: top;\n",
              "    }\n",
              "\n",
              "    .dataframe thead th {\n",
              "        text-align: right;\n",
              "    }\n",
              "</style>\n",
              "<table border=\"1\" class=\"dataframe\">\n",
              "  <thead>\n",
              "    <tr style=\"text-align: right;\">\n",
              "      <th></th>\n",
              "      <th>Topic 1</th>\n",
              "      <th>Topic 2</th>\n",
              "      <th>Topic 3</th>\n",
              "      <th>Topic 4</th>\n",
              "      <th>Topic 5</th>\n",
              "      <th>Topic 6</th>\n",
              "      <th>Topic 7</th>\n",
              "      <th>Topic 8</th>\n",
              "      <th>Topic 9</th>\n",
              "      <th>Topic 10</th>\n",
              "    </tr>\n",
              "  </thead>\n",
              "  <tbody>\n",
              "    <tr>\n",
              "      <th>Term1</th>\n",
              "      <td>режим...</td>\n",
              "      <td>режим...</td>\n",
              "      <td>режим...</td>\n",
              "      <td>режим...</td>\n",
              "      <td>режим...</td>\n",
              "      <td>режим...</td>\n",
              "      <td>режим...</td>\n",
              "      <td>режим...</td>\n",
              "      <td>режим...</td>\n",
              "      <td>режим...</td>\n",
              "    </tr>\n",
              "    <tr>\n",
              "      <th>Term2</th>\n",
              "      <td>автономный</td>\n",
              "      <td>автономный</td>\n",
              "      <td>автономный</td>\n",
              "      <td>автономный</td>\n",
              "      <td>автономный</td>\n",
              "      <td>автономный</td>\n",
              "      <td>автономный</td>\n",
              "      <td>автономный</td>\n",
              "      <td>автономный</td>\n",
              "      <td>автономный</td>\n",
              "    </tr>\n",
              "  </tbody>\n",
              "</table>\n",
              "</div>\n",
              "    <div class=\"colab-df-buttons\">\n",
              "\n",
              "  <div class=\"colab-df-container\">\n",
              "    <button class=\"colab-df-convert\" onclick=\"convertToInteractive('df-04c9dea6-9716-4b08-8969-c04721967adc')\"\n",
              "            title=\"Convert this dataframe to an interactive table.\"\n",
              "            style=\"display:none;\">\n",
              "\n",
              "  <svg xmlns=\"http://www.w3.org/2000/svg\" height=\"24px\" viewBox=\"0 -960 960 960\">\n",
              "    <path d=\"M120-120v-720h720v720H120Zm60-500h600v-160H180v160Zm220 220h160v-160H400v160Zm0 220h160v-160H400v160ZM180-400h160v-160H180v160Zm440 0h160v-160H620v160ZM180-180h160v-160H180v160Zm440 0h160v-160H620v160Z\"/>\n",
              "  </svg>\n",
              "    </button>\n",
              "\n",
              "  <style>\n",
              "    .colab-df-container {\n",
              "      display:flex;\n",
              "      gap: 12px;\n",
              "    }\n",
              "\n",
              "    .colab-df-convert {\n",
              "      background-color: #E8F0FE;\n",
              "      border: none;\n",
              "      border-radius: 50%;\n",
              "      cursor: pointer;\n",
              "      display: none;\n",
              "      fill: #1967D2;\n",
              "      height: 32px;\n",
              "      padding: 0 0 0 0;\n",
              "      width: 32px;\n",
              "    }\n",
              "\n",
              "    .colab-df-convert:hover {\n",
              "      background-color: #E2EBFA;\n",
              "      box-shadow: 0px 1px 2px rgba(60, 64, 67, 0.3), 0px 1px 3px 1px rgba(60, 64, 67, 0.15);\n",
              "      fill: #174EA6;\n",
              "    }\n",
              "\n",
              "    .colab-df-buttons div {\n",
              "      margin-bottom: 4px;\n",
              "    }\n",
              "\n",
              "    [theme=dark] .colab-df-convert {\n",
              "      background-color: #3B4455;\n",
              "      fill: #D2E3FC;\n",
              "    }\n",
              "\n",
              "    [theme=dark] .colab-df-convert:hover {\n",
              "      background-color: #434B5C;\n",
              "      box-shadow: 0px 1px 3px 1px rgba(0, 0, 0, 0.15);\n",
              "      filter: drop-shadow(0px 1px 2px rgba(0, 0, 0, 0.3));\n",
              "      fill: #FFFFFF;\n",
              "    }\n",
              "  </style>\n",
              "\n",
              "    <script>\n",
              "      const buttonEl =\n",
              "        document.querySelector('#df-04c9dea6-9716-4b08-8969-c04721967adc button.colab-df-convert');\n",
              "      buttonEl.style.display =\n",
              "        google.colab.kernel.accessAllowed ? 'block' : 'none';\n",
              "\n",
              "      async function convertToInteractive(key) {\n",
              "        const element = document.querySelector('#df-04c9dea6-9716-4b08-8969-c04721967adc');\n",
              "        const dataTable =\n",
              "          await google.colab.kernel.invokeFunction('convertToInteractive',\n",
              "                                                    [key], {});\n",
              "        if (!dataTable) return;\n",
              "\n",
              "        const docLinkHtml = 'Like what you see? Visit the ' +\n",
              "          '<a target=\"_blank\" href=https://colab.research.google.com/notebooks/data_table.ipynb>data table notebook</a>'\n",
              "          + ' to learn more about interactive tables.';\n",
              "        element.innerHTML = '';\n",
              "        dataTable['output_type'] = 'display_data';\n",
              "        await google.colab.output.renderOutput(dataTable, element);\n",
              "        const docLink = document.createElement('div');\n",
              "        docLink.innerHTML = docLinkHtml;\n",
              "        element.appendChild(docLink);\n",
              "      }\n",
              "    </script>\n",
              "  </div>\n",
              "\n",
              "\n",
              "<div id=\"df-7c3aecfc-00d3-4f6d-9040-e22ae35c3d73\">\n",
              "  <button class=\"colab-df-quickchart\" onclick=\"quickchart('df-7c3aecfc-00d3-4f6d-9040-e22ae35c3d73')\"\n",
              "            title=\"Suggest charts\"\n",
              "            style=\"display:none;\">\n",
              "\n",
              "<svg xmlns=\"http://www.w3.org/2000/svg\" height=\"24px\"viewBox=\"0 0 24 24\"\n",
              "     width=\"24px\">\n",
              "    <g>\n",
              "        <path d=\"M19 3H5c-1.1 0-2 .9-2 2v14c0 1.1.9 2 2 2h14c1.1 0 2-.9 2-2V5c0-1.1-.9-2-2-2zM9 17H7v-7h2v7zm4 0h-2V7h2v10zm4 0h-2v-4h2v4z\"/>\n",
              "    </g>\n",
              "</svg>\n",
              "  </button>\n",
              "\n",
              "<style>\n",
              "  .colab-df-quickchart {\n",
              "      --bg-color: #E8F0FE;\n",
              "      --fill-color: #1967D2;\n",
              "      --hover-bg-color: #E2EBFA;\n",
              "      --hover-fill-color: #174EA6;\n",
              "      --disabled-fill-color: #AAA;\n",
              "      --disabled-bg-color: #DDD;\n",
              "  }\n",
              "\n",
              "  [theme=dark] .colab-df-quickchart {\n",
              "      --bg-color: #3B4455;\n",
              "      --fill-color: #D2E3FC;\n",
              "      --hover-bg-color: #434B5C;\n",
              "      --hover-fill-color: #FFFFFF;\n",
              "      --disabled-bg-color: #3B4455;\n",
              "      --disabled-fill-color: #666;\n",
              "  }\n",
              "\n",
              "  .colab-df-quickchart {\n",
              "    background-color: var(--bg-color);\n",
              "    border: none;\n",
              "    border-radius: 50%;\n",
              "    cursor: pointer;\n",
              "    display: none;\n",
              "    fill: var(--fill-color);\n",
              "    height: 32px;\n",
              "    padding: 0;\n",
              "    width: 32px;\n",
              "  }\n",
              "\n",
              "  .colab-df-quickchart:hover {\n",
              "    background-color: var(--hover-bg-color);\n",
              "    box-shadow: 0 1px 2px rgba(60, 64, 67, 0.3), 0 1px 3px 1px rgba(60, 64, 67, 0.15);\n",
              "    fill: var(--button-hover-fill-color);\n",
              "  }\n",
              "\n",
              "  .colab-df-quickchart-complete:disabled,\n",
              "  .colab-df-quickchart-complete:disabled:hover {\n",
              "    background-color: var(--disabled-bg-color);\n",
              "    fill: var(--disabled-fill-color);\n",
              "    box-shadow: none;\n",
              "  }\n",
              "\n",
              "  .colab-df-spinner {\n",
              "    border: 2px solid var(--fill-color);\n",
              "    border-color: transparent;\n",
              "    border-bottom-color: var(--fill-color);\n",
              "    animation:\n",
              "      spin 1s steps(1) infinite;\n",
              "  }\n",
              "\n",
              "  @keyframes spin {\n",
              "    0% {\n",
              "      border-color: transparent;\n",
              "      border-bottom-color: var(--fill-color);\n",
              "      border-left-color: var(--fill-color);\n",
              "    }\n",
              "    20% {\n",
              "      border-color: transparent;\n",
              "      border-left-color: var(--fill-color);\n",
              "      border-top-color: var(--fill-color);\n",
              "    }\n",
              "    30% {\n",
              "      border-color: transparent;\n",
              "      border-left-color: var(--fill-color);\n",
              "      border-top-color: var(--fill-color);\n",
              "      border-right-color: var(--fill-color);\n",
              "    }\n",
              "    40% {\n",
              "      border-color: transparent;\n",
              "      border-right-color: var(--fill-color);\n",
              "      border-top-color: var(--fill-color);\n",
              "    }\n",
              "    60% {\n",
              "      border-color: transparent;\n",
              "      border-right-color: var(--fill-color);\n",
              "    }\n",
              "    80% {\n",
              "      border-color: transparent;\n",
              "      border-right-color: var(--fill-color);\n",
              "      border-bottom-color: var(--fill-color);\n",
              "    }\n",
              "    90% {\n",
              "      border-color: transparent;\n",
              "      border-bottom-color: var(--fill-color);\n",
              "    }\n",
              "  }\n",
              "</style>\n",
              "\n",
              "  <script>\n",
              "    async function quickchart(key) {\n",
              "      const quickchartButtonEl =\n",
              "        document.querySelector('#' + key + ' button');\n",
              "      quickchartButtonEl.disabled = true;  // To prevent multiple clicks.\n",
              "      quickchartButtonEl.classList.add('colab-df-spinner');\n",
              "      try {\n",
              "        const charts = await google.colab.kernel.invokeFunction(\n",
              "            'suggestCharts', [key], {});\n",
              "      } catch (error) {\n",
              "        console.error('Error during call to suggestCharts:', error);\n",
              "      }\n",
              "      quickchartButtonEl.classList.remove('colab-df-spinner');\n",
              "      quickchartButtonEl.classList.add('colab-df-quickchart-complete');\n",
              "    }\n",
              "    (() => {\n",
              "      let quickchartButtonEl =\n",
              "        document.querySelector('#df-7c3aecfc-00d3-4f6d-9040-e22ae35c3d73 button');\n",
              "      quickchartButtonEl.style.display =\n",
              "        google.colab.kernel.accessAllowed ? 'block' : 'none';\n",
              "    })();\n",
              "  </script>\n",
              "</div>\n",
              "\n",
              "    </div>\n",
              "  </div>\n"
            ],
            "application/vnd.google.colaboratory.intrinsic+json": {
              "type": "dataframe",
              "summary": "{\n  \"name\": \"topics_df[:2]\",\n  \"rows\": 2,\n  \"fields\": [\n    {\n      \"column\": \"Topic 1\",\n      \"properties\": {\n        \"dtype\": \"string\",\n        \"num_unique_values\": 2,\n        \"samples\": [\n          \"\\u0430\\u0432\\u0442\\u043e\\u043d\\u043e\\u043c\\u043d\\u044b\\u0439\",\n          \"\\u0440\\u0435\\u0436\\u0438\\u043c...\"\n        ],\n        \"semantic_type\": \"\",\n        \"description\": \"\"\n      }\n    },\n    {\n      \"column\": \"Topic 2\",\n      \"properties\": {\n        \"dtype\": \"string\",\n        \"num_unique_values\": 2,\n        \"samples\": [\n          \"\\u0430\\u0432\\u0442\\u043e\\u043d\\u043e\\u043c\\u043d\\u044b\\u0439\",\n          \"\\u0440\\u0435\\u0436\\u0438\\u043c...\"\n        ],\n        \"semantic_type\": \"\",\n        \"description\": \"\"\n      }\n    },\n    {\n      \"column\": \"Topic 3\",\n      \"properties\": {\n        \"dtype\": \"string\",\n        \"num_unique_values\": 2,\n        \"samples\": [\n          \"\\u0430\\u0432\\u0442\\u043e\\u043d\\u043e\\u043c\\u043d\\u044b\\u0439\",\n          \"\\u0440\\u0435\\u0436\\u0438\\u043c...\"\n        ],\n        \"semantic_type\": \"\",\n        \"description\": \"\"\n      }\n    },\n    {\n      \"column\": \"Topic 4\",\n      \"properties\": {\n        \"dtype\": \"string\",\n        \"num_unique_values\": 2,\n        \"samples\": [\n          \"\\u0430\\u0432\\u0442\\u043e\\u043d\\u043e\\u043c\\u043d\\u044b\\u0439\",\n          \"\\u0440\\u0435\\u0436\\u0438\\u043c...\"\n        ],\n        \"semantic_type\": \"\",\n        \"description\": \"\"\n      }\n    },\n    {\n      \"column\": \"Topic 5\",\n      \"properties\": {\n        \"dtype\": \"string\",\n        \"num_unique_values\": 2,\n        \"samples\": [\n          \"\\u0430\\u0432\\u0442\\u043e\\u043d\\u043e\\u043c\\u043d\\u044b\\u0439\",\n          \"\\u0440\\u0435\\u0436\\u0438\\u043c...\"\n        ],\n        \"semantic_type\": \"\",\n        \"description\": \"\"\n      }\n    },\n    {\n      \"column\": \"Topic 6\",\n      \"properties\": {\n        \"dtype\": \"string\",\n        \"num_unique_values\": 2,\n        \"samples\": [\n          \"\\u0430\\u0432\\u0442\\u043e\\u043d\\u043e\\u043c\\u043d\\u044b\\u0439\",\n          \"\\u0440\\u0435\\u0436\\u0438\\u043c...\"\n        ],\n        \"semantic_type\": \"\",\n        \"description\": \"\"\n      }\n    },\n    {\n      \"column\": \"Topic 7\",\n      \"properties\": {\n        \"dtype\": \"string\",\n        \"num_unique_values\": 2,\n        \"samples\": [\n          \"\\u0430\\u0432\\u0442\\u043e\\u043d\\u043e\\u043c\\u043d\\u044b\\u0439\",\n          \"\\u0440\\u0435\\u0436\\u0438\\u043c...\"\n        ],\n        \"semantic_type\": \"\",\n        \"description\": \"\"\n      }\n    },\n    {\n      \"column\": \"Topic 8\",\n      \"properties\": {\n        \"dtype\": \"string\",\n        \"num_unique_values\": 2,\n        \"samples\": [\n          \"\\u0430\\u0432\\u0442\\u043e\\u043d\\u043e\\u043c\\u043d\\u044b\\u0439\",\n          \"\\u0440\\u0435\\u0436\\u0438\\u043c...\"\n        ],\n        \"semantic_type\": \"\",\n        \"description\": \"\"\n      }\n    },\n    {\n      \"column\": \"Topic 9\",\n      \"properties\": {\n        \"dtype\": \"string\",\n        \"num_unique_values\": 2,\n        \"samples\": [\n          \"\\u0430\\u0432\\u0442\\u043e\\u043d\\u043e\\u043c\\u043d\\u044b\\u0439\",\n          \"\\u0440\\u0435\\u0436\\u0438\\u043c...\"\n        ],\n        \"semantic_type\": \"\",\n        \"description\": \"\"\n      }\n    },\n    {\n      \"column\": \"Topic 10\",\n      \"properties\": {\n        \"dtype\": \"string\",\n        \"num_unique_values\": 2,\n        \"samples\": [\n          \"\\u0430\\u0432\\u0442\\u043e\\u043d\\u043e\\u043c\\u043d\\u044b\\u0439\",\n          \"\\u0440\\u0435\\u0436\\u0438\\u043c...\"\n        ],\n        \"semantic_type\": \"\",\n        \"description\": \"\"\n      }\n    }\n  ]\n}"
            }
          },
          "metadata": {},
          "execution_count": 15
        }
      ],
      "source": [
        "topics = [[(term, round(wt, 3))\n",
        "               for term, wt in lda_model.show_topic(n)]\n",
        "                   for n in range(0, lda_model.num_topics)]\n",
        "topics_df = pd.DataFrame([[term for term, wt in topic]\n",
        "                              for topic in topics],\n",
        "                         columns = ['Term'+str(i) for i in range(1, 11)],\n",
        "                         index=['Topic '+str(t) for t in range(1, lda_model.num_topics+1)]).T\n",
        "topics_df[:2]"
      ]
    },
    {
      "cell_type": "code",
      "execution_count": null,
      "metadata": {
        "colab": {
          "background_save": true
        },
        "id": "fIaC9lyyUBEl"
      },
      "outputs": [],
      "source": [
        "from sklearn.feature_extraction.text import CountVectorizer\n",
        "\n",
        "corpus = df_state['Частотные слова'].tolist()\n",
        "print(corpus)\n",
        "count_vect = CountVectorizer(binary=True)\n",
        "dataset = count_vect.fit_transform(corpus)"
      ]
    },
    {
      "cell_type": "code",
      "execution_count": null,
      "metadata": {
        "colab": {
          "background_save": true
        },
        "id": "nCK6Qs4FW_jS"
      },
      "outputs": [],
      "source": [
        "from sklearn.decomposition import LatentDirichletAllocation\n",
        "n_topics = 5\n",
        "topic_labels = ['Тема {}'.format(i) for i in range(1, n_topics + 1)]\n",
        "lda = LatentDirichletAllocation(n_components=n_topics, n_jobs=-1, max_iter=500,\n",
        "                                learning_method='batch', evaluate_every=5,\n",
        "                                verbose=1, random_state=42)\n",
        "lda.fit(dataset)"
      ]
    },
    {
      "cell_type": "code",
      "execution_count": null,
      "metadata": {
        "colab": {
          "background_save": true
        },
        "id": "seoQahA2ZWf0"
      },
      "outputs": [],
      "source": [
        "# Печать тем\n",
        "for idx, topic in enumerate(lda.components_):\n",
        "    print(f\"Topic {idx}:\")\n",
        "    print([count_vect.get_feature_names_out()[i] for i in topic.argsort()[-5:]])"
      ]
    },
    {
      "cell_type": "code",
      "execution_count": null,
      "metadata": {
        "colab": {
          "background_save": true
        },
        "id": "Ev28lGb3SrX4"
      },
      "outputs": [],
      "source": [
        "topics_count = lda.components_\n",
        "topics_prob = topics_count / topics_count.sum(axis=1).reshape(-1, 1)\n",
        "topics = pd.DataFrame(topics_prob.T,\n",
        "                      index=words,\n",
        "                      columns=topic_labels)\n",
        "topics[topics.gt(0).all(1)].shape[0] == topics.shape[0]\n",
        "n_words = 12\n",
        "top_words = {}\n",
        "for topic, words_ in topics.items():\n",
        "    top_words[topic] = words_.nlargest(n_words).index.tolist()\n",
        "pd.DataFrame(top_words)"
      ]
    },
    {
      "cell_type": "code",
      "execution_count": null,
      "metadata": {
        "colab": {
          "background_save": true
        },
        "collapsed": true,
        "id": "abySm8GV2Qtq"
      },
      "outputs": [],
      "source": [
        "import pandas as pd\n",
        "import nltk\n",
        "from nltk.tokenize import word_tokenize\n",
        "nltk.download('stopwords')\n",
        "nltk.download('punkt')\n",
        "nltk.download('punkt_tab')\n",
        "\n",
        "from nltk.corpus import stopwords\n",
        "stop_words = stopwords.words(\"russian\")\n",
        "\n",
        "df_state = pd.read_csv('https://raw.githubusercontent.com/componavt/sns4human/refs/heads/main/data/vk/statistics/frequency_state_groups.csv')\n",
        "df_state = df_state.reset_index()\n",
        "\n",
        "df_museum = pd.read_csv('https://raw.githubusercontent.com/componavt/sns4human/refs/heads/main/data/vk/statistics/frequency_museum_groups.csv')\n",
        "df_museum = df_museum.reset_index()"
      ]
    },
    {
      "cell_type": "code",
      "execution_count": null,
      "metadata": {
        "colab": {
          "background_save": true
        },
        "id": "W39N841WVKQc"
      },
      "outputs": [],
      "source": []
    }
  ],
  "metadata": {
    "colab": {
      "provenance": [],
      "authorship_tag": "ABX9TyOmzXkv0hh76/jwXwd+9ZDQ",
      "include_colab_link": true
    },
    "kernelspec": {
      "display_name": "Python 3",
      "name": "python3"
    },
    "language_info": {
      "name": "python"
    }
  },
  "nbformat": 4,
  "nbformat_minor": 0
}