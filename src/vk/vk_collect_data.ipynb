{
  "nbformat": 4,
  "nbformat_minor": 0,
  "metadata": {
    "colab": {
      "provenance": [],
      "authorship_tag": "ABX9TyPRPANrpMSkDsxrRzLH8kxs",
      "include_colab_link": true
    },
    "kernelspec": {
      "name": "python3",
      "display_name": "Python 3"
    },
    "language_info": {
      "name": "python"
    }
  },
  "cells": [
    {
      "cell_type": "markdown",
      "metadata": {
        "id": "view-in-github",
        "colab_type": "text"
      },
      "source": [
        "<a href=\"https://colab.research.google.com/github/componavt/sns4human/blob/main/src/vk/vk_collect_data.ipynb\" target=\"_parent\"><img src=\"https://colab.research.google.com/assets/colab-badge.svg\" alt=\"Open In Colab\"/></a>"
      ]
    },
    {
      "cell_type": "code",
      "source": [
        "!pip install vk_api"
      ],
      "metadata": {
        "colab": {
          "base_uri": "https://localhost:8080/"
        },
        "id": "CiQyNplUD_Ln",
        "outputId": "c0a61901-f008-4ec5-9601-d8c0ab68ca93"
      },
      "execution_count": 1,
      "outputs": [
        {
          "output_type": "stream",
          "name": "stdout",
          "text": [
            "Requirement already satisfied: vk_api in /usr/local/lib/python3.10/dist-packages (11.9.9)\n",
            "Requirement already satisfied: requests in /usr/local/lib/python3.10/dist-packages (from vk_api) (2.32.3)\n",
            "Requirement already satisfied: charset-normalizer<4,>=2 in /usr/local/lib/python3.10/dist-packages (from requests->vk_api) (2.1.1)\n",
            "Requirement already satisfied: idna<4,>=2.5 in /usr/local/lib/python3.10/dist-packages (from requests->vk_api) (3.10)\n",
            "Requirement already satisfied: urllib3<3,>=1.21.1 in /usr/local/lib/python3.10/dist-packages (from requests->vk_api) (2.2.3)\n",
            "Requirement already satisfied: certifi>=2017.4.17 in /usr/local/lib/python3.10/dist-packages (from requests->vk_api) (2024.8.30)\n"
          ]
        }
      ]
    },
    {
      "cell_type": "code",
      "source": [
        "!pip install PyGithub"
      ],
      "metadata": {
        "colab": {
          "base_uri": "https://localhost:8080/"
        },
        "id": "tspk90GAEg4q",
        "outputId": "22f32598-ad36-4f07-bfb1-15a2a43ff96e"
      },
      "execution_count": 2,
      "outputs": [
        {
          "output_type": "stream",
          "name": "stdout",
          "text": [
            "Requirement already satisfied: PyGithub in /usr/local/lib/python3.10/dist-packages (2.4.0)\n",
            "Requirement already satisfied: pynacl>=1.4.0 in /usr/local/lib/python3.10/dist-packages (from PyGithub) (1.5.0)\n",
            "Requirement already satisfied: requests>=2.14.0 in /usr/local/lib/python3.10/dist-packages (from PyGithub) (2.32.3)\n",
            "Requirement already satisfied: pyjwt>=2.4.0 in /usr/local/lib/python3.10/dist-packages (from pyjwt[crypto]>=2.4.0->PyGithub) (2.9.0)\n",
            "Requirement already satisfied: typing-extensions>=4.0.0 in /usr/local/lib/python3.10/dist-packages (from PyGithub) (4.12.2)\n",
            "Requirement already satisfied: urllib3>=1.26.0 in /usr/local/lib/python3.10/dist-packages (from PyGithub) (2.2.3)\n",
            "Requirement already satisfied: Deprecated in /usr/local/lib/python3.10/dist-packages (from PyGithub) (1.2.14)\n",
            "Requirement already satisfied: cryptography>=3.4.0 in /usr/local/lib/python3.10/dist-packages (from pyjwt[crypto]>=2.4.0->PyGithub) (43.0.3)\n",
            "Requirement already satisfied: cffi>=1.4.1 in /usr/local/lib/python3.10/dist-packages (from pynacl>=1.4.0->PyGithub) (1.17.1)\n",
            "Requirement already satisfied: charset-normalizer<4,>=2 in /usr/local/lib/python3.10/dist-packages (from requests>=2.14.0->PyGithub) (2.1.1)\n",
            "Requirement already satisfied: idna<4,>=2.5 in /usr/local/lib/python3.10/dist-packages (from requests>=2.14.0->PyGithub) (3.10)\n",
            "Requirement already satisfied: certifi>=2017.4.17 in /usr/local/lib/python3.10/dist-packages (from requests>=2.14.0->PyGithub) (2024.8.30)\n",
            "Requirement already satisfied: wrapt<2,>=1.10 in /usr/local/lib/python3.10/dist-packages (from Deprecated->PyGithub) (1.16.0)\n",
            "Requirement already satisfied: pycparser in /usr/local/lib/python3.10/dist-packages (from cffi>=1.4.1->pynacl>=1.4.0->PyGithub) (2.22)\n"
          ]
        }
      ]
    },
    {
      "cell_type": "code",
      "execution_count": 3,
      "metadata": {
        "id": "4LHSeUeHYxsa"
      },
      "outputs": [],
      "source": [
        "import os\n",
        "import getpass\n",
        "import csv\n",
        "import pandas as pd\n",
        "import vk_api\n",
        "from github import Github"
      ]
    },
    {
      "cell_type": "code",
      "source": [
        "os.environ[\"VK_API_TOKEN\"] = getpass.getpass(\"Введите VK API Token:\")"
      ],
      "metadata": {
        "id": "KpUoqAYKZeZH",
        "colab": {
          "base_uri": "https://localhost:8080/"
        },
        "outputId": "3ec5bea7-e129-4056-a340-8ea804d1050a"
      },
      "execution_count": 20,
      "outputs": [
        {
          "name": "stdout",
          "output_type": "stream",
          "text": [
            "Введите VK API Token:··········\n"
          ]
        }
      ]
    },
    {
      "cell_type": "code",
      "source": [
        "os.environ[\"GITHUB_TOKEN\"] = getpass.getpass(\"Введите Github Token:\")"
      ],
      "metadata": {
        "colab": {
          "base_uri": "https://localhost:8080/"
        },
        "id": "HWTRIc82GZIO",
        "outputId": "278dd2b3-f170-489a-c3ca-a95714e67766"
      },
      "execution_count": 9,
      "outputs": [
        {
          "name": "stdout",
          "output_type": "stream",
          "text": [
            "Введите Github Token:··········\n"
          ]
        }
      ]
    },
    {
      "cell_type": "code",
      "source": [
        "def get_vk_api(token):\n",
        "    \"\"\"Создает объект API для работы с VK.\"\"\"\n",
        "    vk_session = vk_api.VkApi(token=token)\n",
        "    return vk_session.get_api()\n",
        "\n",
        "def get_group_posts(group_id):\n",
        "    \"\"\"Получает все посты группы по domain или owner_id.\"\"\"\n",
        "    vk = get_vk_api(os.getenv(\"VK_API_TOKEN\"))\n",
        "    posts = []\n",
        "\n",
        "    try:\n",
        "        if group_id.isdigit():\n",
        "            owner_id = f\"-{group_id}\"\n",
        "        else:\n",
        "            group_info = vk.groups.getById(group_id=group_id)\n",
        "            owner_id = f\"-{group_info[0]['id']}\"\n",
        "\n",
        "        response = vk.wall.get(owner_id=owner_id, count=100)\n",
        "        posts.extend(response['items'])\n",
        "\n",
        "        while 'next_from' in response:\n",
        "            response = vk.wall.get(owner_id=owner_id, count=100, offset=len(posts))\n",
        "            posts.extend(response['items'])\n",
        "\n",
        "    except Exception as e:\n",
        "        print(f\"Error retrieving posts: {e}\")\n",
        "\n",
        "    return posts\n",
        "\n",
        "def get_group_posts_with_comments(group_id):\n",
        "    \"\"\"Получает все посты группы с комментариями к ним.\"\"\"\n",
        "    vk = get_vk_api(os.getenv(\"VK_API_TOKEN\"))\n",
        "    posts_with_comments = []\n",
        "\n",
        "    try:\n",
        "        if group_id.isdigit():\n",
        "            owner_id = f\"-{group_id}\"\n",
        "        else:\n",
        "            group_info = vk.groups.getById(group_id=group_id)\n",
        "            owner_id = f\"-{group_info[0]['id']}\"\n",
        "\n",
        "        response = vk.wall.get(owner_id=owner_id, count=100)\n",
        "\n",
        "        for post in response['items']:\n",
        "            comments = vk.wall.getComments(owner_id=owner_id, post_id=post['id'], count=100)\n",
        "            posts_with_comments.append({\n",
        "                'post': post,\n",
        "                'comments': comments['items']\n",
        "            })\n",
        "\n",
        "        while 'next_from' in response:\n",
        "            response = vk.wall.get(owner_id=owner_id, count=100, offset=len(posts_with_comments))\n",
        "            for post in response['items']:\n",
        "                comments = vk.wall.getComments(owner_id=owner_id, post_id=post['id'], count=100)\n",
        "                posts_with_comments.append({\n",
        "                    'post': post,\n",
        "                    'comments': comments['items']\n",
        "                })\n",
        "\n",
        "    except Exception as e:\n",
        "        print(f\"Error retrieving posts with comments: {e}\")\n",
        "\n",
        "    return posts_with_comments\n",
        "\n",
        "def get_group_subscribers(group_id):\n",
        "    \"\"\"Получает информацию о подписчиках группы.\"\"\"\n",
        "    vk = get_vk_api(os.getenv(\"VK_API_TOKEN\"))\n",
        "    subscribers = []\n",
        "\n",
        "    try:\n",
        "        print('Работаем')\n",
        "        if group_id.isdigit():\n",
        "            print('owner_id')\n",
        "            owner_id = f\"-{group_id}\"\n",
        "        else:\n",
        "            print('donain')\n",
        "            group_info = vk.groups.getById(group_id=group_id)\n",
        "            owner_id = f\"{group_info[0]['id']}\"\n",
        "            print(owner_id)\n",
        "\n",
        "        subscribers_info = vk.groups.getMembers(group_id=owner_id, fields=\"id, first_name, last_name, sex, bdate, city, country\")\n",
        "        subscribers.extend(subscribers_info['items'])\n",
        "\n",
        "    except Exception as e:\n",
        "        print(f\"Error retrieving subscribers: {e}\")\n",
        "\n",
        "    return subscribers\n",
        "\n",
        "def save_to_csv(data, filename):\n",
        "    \"\"\"Сохраняет данные в CSV файл.\"\"\"\n",
        "    df = pd.DataFrame(data)\n",
        "    df.to_csv(filename, index=False)\n",
        "\n",
        "def upload_to_github(file_path):\n",
        "    \"\"\"Загружает CSV файл в репозиторий на GitHub в папку data/vk.\"\"\"\n",
        "    g = Github(os.getenv(\"GITHUB_TOKEN\"))\n",
        "    repo = g.get_repo(\"componavt/sns4human\")\n",
        "\n",
        "\n",
        "    filename = os.path.basename(file_path)\n",
        "    target_path = f\"data/vk/{filename}\"\n",
        "\n",
        "    with open(file_path, \"rb\") as file:\n",
        "        content = file.read()\n",
        "\n",
        "    try:\n",
        "        # Проверяем, существует ли файл по целевому пути\n",
        "        repo.get_contents(target_path)\n",
        "        # Если существует, обновляем его\n",
        "        repo.update_file(target_path, \"Update \" + target_path, content, repo.get_contents(target_path).sha)\n",
        "        print(f\"Файл {target_path} успешно обновлен.\")\n",
        "    except Exception as e:\n",
        "        # Если не существует, создаем новый файл\n",
        "        repo.create_file(target_path, \"Add \" + target_path, content)\n",
        "        print(f\"Файл {target_path} успешно добавлен.\")\n",
        "\n",
        "\n",
        "def get_group_name(group_id_or_domain):\n",
        "    \"\"\"\n",
        "    Получает название группы ВКонтакте по ID или домену.\n",
        "\n",
        "    :param group_id_or_domain: ID группы или её домен (например, 'mygroup').\n",
        "    :return: Название группы или None, если группа не найдена.\n",
        "    \"\"\"\n",
        "\n",
        "    vk = get_vk_api(os.getenv(\"VK_API_TOKEN\"))\n",
        "\n",
        "    try:\n",
        "        # Запрос информации о группе\n",
        "        group_info = vk.groups.getById(group_id=group_id_or_domain)\n",
        "        return group_info[0]['name']\n",
        "    except Exception as e:\n",
        "        print(f\"Ошибка: {e}\")\n",
        "        return None"
      ],
      "metadata": {
        "id": "4cyIz_vxZi2_"
      },
      "execution_count": 30,
      "outputs": []
    },
    {
      "cell_type": "code",
      "source": [
        "group_id = input(\"Введите ID или domain группы: \")\n",
        "group_name = get_group_name(group_id)\n",
        "\n",
        "safe_group_name = ''.join(c for c in group_name if c.isalnum() or c in (' ', '_')).rstrip()\n",
        "    # Получаем посты группы\n",
        "#posts = get_group_posts(group_id)\n",
        "#save_to_csv(posts, f\"{safe_group_name}_get_group_posts.csv\")\n",
        "\n",
        "    # Получаем посты с комментариями\n",
        "#posts_with_comments = get_group_posts_with_comments(group_id)\n",
        "#save_to_csv(posts_with_comments, f\"{safe_group_name}_get_group_posts_with_comments.csv\")\n",
        "\n",
        "    # Получаем подписчиков группы\n",
        "subscribers = get_group_subscribers(group_id)\n",
        "save_to_csv(subscribers, f\"{safe_group_name}_group_subscribers.csv\")\n",
        "\n",
        "# Загружаем файлы на GitHub\n",
        "#upload_to_github(f\"{group_id}_get_group_posts.csv\")\n",
        "#upload_to_github(f\"{group_id}_get_group_posts_with_comments.csv\")\n",
        "upload_to_github(f\"{safe_group_name}_group_subscribers.csv\")"
      ],
      "metadata": {
        "id": "NaUWg-87bJtK",
        "colab": {
          "base_uri": "https://localhost:8080/"
        },
        "outputId": "ffd003a2-02dc-4068-8035-1092e893c0cf"
      },
      "execution_count": 33,
      "outputs": [
        {
          "output_type": "stream",
          "name": "stdout",
          "text": [
            "Введите ID или domain группы: pravkarelia\n",
            "Работаем\n",
            "donain\n",
            "187624263\n",
            "Файл data/vk/Православие в Карелии_group_subscribers.csv успешно добавлен.\n"
          ]
        }
      ]
    },
    {
      "cell_type": "code",
      "source": [],
      "metadata": {
        "id": "X5w8mL4sJNvA"
      },
      "execution_count": null,
      "outputs": []
    }
  ]
}