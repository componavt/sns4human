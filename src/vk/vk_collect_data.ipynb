{
  "nbformat": 4,
  "nbformat_minor": 0,
  "metadata": {
    "colab": {
      "provenance": [],
      "authorship_tag": "ABX9TyOvwp7UqoZGoKFiOuMKxgmY",
      "include_colab_link": true
    },
    "kernelspec": {
      "name": "python3",
      "display_name": "Python 3"
    },
    "language_info": {
      "name": "python"
    }
  },
  "cells": [
    {
      "cell_type": "markdown",
      "metadata": {
        "id": "view-in-github",
        "colab_type": "text"
      },
      "source": [
        "<a href=\"https://colab.research.google.com/github/componavt/sns4human/blob/main/src/vk/vk_collect_data.ipynb\" target=\"_parent\"><img src=\"https://colab.research.google.com/assets/colab-badge.svg\" alt=\"Open In Colab\"/></a>"
      ]
    },
    {
      "cell_type": "code",
      "source": [
        "!pip install vk_api"
      ],
      "metadata": {
        "colab": {
          "base_uri": "https://localhost:8080/"
        },
        "id": "CiQyNplUD_Ln",
        "outputId": "6f21022c-3437-463e-da06-9f2c2e9f2c53"
      },
      "execution_count": null,
      "outputs": [
        {
          "output_type": "stream",
          "name": "stdout",
          "text": [
            "Collecting vk_api\n",
            "  Downloading vk_api-11.9.9-py3-none-any.whl.metadata (2.0 kB)\n",
            "Requirement already satisfied: requests in /usr/local/lib/python3.10/dist-packages (from vk_api) (2.32.3)\n",
            "Requirement already satisfied: charset-normalizer<4,>=2 in /usr/local/lib/python3.10/dist-packages (from requests->vk_api) (3.4.0)\n",
            "Requirement already satisfied: idna<4,>=2.5 in /usr/local/lib/python3.10/dist-packages (from requests->vk_api) (3.10)\n",
            "Requirement already satisfied: urllib3<3,>=1.21.1 in /usr/local/lib/python3.10/dist-packages (from requests->vk_api) (2.2.3)\n",
            "Requirement already satisfied: certifi>=2017.4.17 in /usr/local/lib/python3.10/dist-packages (from requests->vk_api) (2024.8.30)\n",
            "Downloading vk_api-11.9.9-py3-none-any.whl (48 kB)\n",
            "\u001b[?25l   \u001b[90m━━━━━━━━━━━━━━━━━━━━━━━━━━━━━━━━━━━━━━━━\u001b[0m \u001b[32m0.0/48.6 kB\u001b[0m \u001b[31m?\u001b[0m eta \u001b[36m-:--:--\u001b[0m\r\u001b[2K   \u001b[90m━━━━━━━━━━━━━━━━━━━━━━━━━━━━━━━━━━━━━━━━\u001b[0m \u001b[32m48.6/48.6 kB\u001b[0m \u001b[31m3.3 MB/s\u001b[0m eta \u001b[36m0:00:00\u001b[0m\n",
            "\u001b[?25hInstalling collected packages: vk_api\n",
            "Successfully installed vk_api-11.9.9\n"
          ]
        }
      ]
    },
    {
      "cell_type": "code",
      "source": [
        "!pip install PyGithub"
      ],
      "metadata": {
        "colab": {
          "base_uri": "https://localhost:8080/"
        },
        "id": "tspk90GAEg4q",
        "outputId": "12489358-887c-4b2b-8aa7-5e6d8901c19c"
      },
      "execution_count": null,
      "outputs": [
        {
          "output_type": "stream",
          "name": "stdout",
          "text": [
            "Collecting PyGithub\n",
            "  Downloading PyGithub-2.5.0-py3-none-any.whl.metadata (3.9 kB)\n",
            "Collecting pynacl>=1.4.0 (from PyGithub)\n",
            "  Downloading PyNaCl-1.5.0-cp36-abi3-manylinux_2_17_x86_64.manylinux2014_x86_64.manylinux_2_24_x86_64.whl.metadata (8.6 kB)\n",
            "Requirement already satisfied: requests>=2.14.0 in /usr/local/lib/python3.10/dist-packages (from PyGithub) (2.32.3)\n",
            "Requirement already satisfied: pyjwt>=2.4.0 in /usr/local/lib/python3.10/dist-packages (from pyjwt[crypto]>=2.4.0->PyGithub) (2.10.0)\n",
            "Requirement already satisfied: typing-extensions>=4.0.0 in /usr/local/lib/python3.10/dist-packages (from PyGithub) (4.12.2)\n",
            "Requirement already satisfied: urllib3>=1.26.0 in /usr/local/lib/python3.10/dist-packages (from PyGithub) (2.2.3)\n",
            "Requirement already satisfied: Deprecated in /usr/local/lib/python3.10/dist-packages (from PyGithub) (1.2.15)\n",
            "Requirement already satisfied: cryptography>=3.4.0 in /usr/local/lib/python3.10/dist-packages (from pyjwt[crypto]>=2.4.0->PyGithub) (43.0.3)\n",
            "Requirement already satisfied: cffi>=1.4.1 in /usr/local/lib/python3.10/dist-packages (from pynacl>=1.4.0->PyGithub) (1.17.1)\n",
            "Requirement already satisfied: charset-normalizer<4,>=2 in /usr/local/lib/python3.10/dist-packages (from requests>=2.14.0->PyGithub) (3.4.0)\n",
            "Requirement already satisfied: idna<4,>=2.5 in /usr/local/lib/python3.10/dist-packages (from requests>=2.14.0->PyGithub) (3.10)\n",
            "Requirement already satisfied: certifi>=2017.4.17 in /usr/local/lib/python3.10/dist-packages (from requests>=2.14.0->PyGithub) (2024.8.30)\n",
            "Requirement already satisfied: wrapt<2,>=1.10 in /usr/local/lib/python3.10/dist-packages (from Deprecated->PyGithub) (1.16.0)\n",
            "Requirement already satisfied: pycparser in /usr/local/lib/python3.10/dist-packages (from cffi>=1.4.1->pynacl>=1.4.0->PyGithub) (2.22)\n",
            "Downloading PyGithub-2.5.0-py3-none-any.whl (375 kB)\n",
            "\u001b[2K   \u001b[90m━━━━━━━━━━━━━━━━━━━━━━━━━━━━━━━━━━━━━━━━\u001b[0m \u001b[32m375.9/375.9 kB\u001b[0m \u001b[31m10.2 MB/s\u001b[0m eta \u001b[36m0:00:00\u001b[0m\n",
            "\u001b[?25hDownloading PyNaCl-1.5.0-cp36-abi3-manylinux_2_17_x86_64.manylinux2014_x86_64.manylinux_2_24_x86_64.whl (856 kB)\n",
            "\u001b[2K   \u001b[90m━━━━━━━━━━━━━━━━━━━━━━━━━━━━━━━━━━━━━━━━\u001b[0m \u001b[32m856.7/856.7 kB\u001b[0m \u001b[31m44.7 MB/s\u001b[0m eta \u001b[36m0:00:00\u001b[0m\n",
            "\u001b[?25hInstalling collected packages: pynacl, PyGithub\n",
            "Successfully installed PyGithub-2.5.0 pynacl-1.5.0\n"
          ]
        }
      ]
    },
    {
      "cell_type": "code",
      "execution_count": null,
      "metadata": {
        "id": "4LHSeUeHYxsa"
      },
      "outputs": [],
      "source": [
        "import os\n",
        "import getpass\n",
        "import csv\n",
        "import pandas as pd\n",
        "import vk_api\n",
        "from github import Github"
      ]
    },
    {
      "cell_type": "code",
      "source": [
        "os.environ[\"VK_API_TOKEN\"] = getpass.getpass(\"Введите VK API Token:\")"
      ],
      "metadata": {
        "id": "KpUoqAYKZeZH",
        "colab": {
          "base_uri": "https://localhost:8080/"
        },
        "outputId": "08d1a651-91e1-449f-f16c-862a2408ab19"
      },
      "execution_count": null,
      "outputs": [
        {
          "name": "stdout",
          "output_type": "stream",
          "text": [
            "Введите VK API Token:··········\n"
          ]
        }
      ]
    },
    {
      "cell_type": "code",
      "source": [
        "os.environ[\"GITHUB_TOKEN\"] = getpass.getpass(\"Введите Github Token:\")"
      ],
      "metadata": {
        "colab": {
          "base_uri": "https://localhost:8080/"
        },
        "id": "HWTRIc82GZIO",
        "outputId": "fd9f004b-92d1-4d33-f2c8-93a7dc326b5d"
      },
      "execution_count": null,
      "outputs": [
        {
          "name": "stdout",
          "output_type": "stream",
          "text": [
            "Введите Github Token:··········\n"
          ]
        }
      ]
    },
    {
      "cell_type": "code",
      "source": [
        "def get_vk_api(token):\n",
        "    \"\"\"Создает объект API для работы с VK.\"\"\"\n",
        "    vk_session = vk_api.VkApi(token=token)\n",
        "    return vk_session.get_api()\n",
        "\n",
        "def get_group_posts(group_id):\n",
        "    \"\"\"Получает все посты группы по domain или owner_id.\"\"\"\n",
        "    vk = get_vk_api(os.getenv(\"VK_API_TOKEN\"))\n",
        "    posts = []\n",
        "\n",
        "    try:\n",
        "        if group_id.isdigit():\n",
        "            owner_id = f\"-{group_id}\"\n",
        "        else:\n",
        "            group_info = vk.groups.getById(group_id=group_id)\n",
        "            owner_id = f\"-{group_info[0]['id']}\"\n",
        "\n",
        "        response = vk.wall.get(owner_id=owner_id, count=100)\n",
        "        posts.extend(response['items'])\n",
        "\n",
        "        while 'next_from' in response:\n",
        "            response = vk.wall.get(owner_id=owner_id, count=100, offset=len(posts))\n",
        "            posts.extend(response['items'])\n",
        "\n",
        "    except Exception as e:\n",
        "        print(f\"Error retrieving posts: {e}\")\n",
        "\n",
        "    return posts\n",
        "\n",
        "def get_group_posts_with_comments(group_id):\n",
        "    \"\"\"Получает все посты группы с комментариями к ним.\"\"\"\n",
        "    vk = get_vk_api(os.getenv(\"VK_API_TOKEN\"))\n",
        "    posts_with_comments = []\n",
        "\n",
        "    try:\n",
        "        if group_id.isdigit():\n",
        "            owner_id = f\"-{group_id}\"\n",
        "        else:\n",
        "            group_info = vk.groups.getById(group_id=group_id)\n",
        "            owner_id = f\"-{group_info[0]['id']}\"\n",
        "\n",
        "        response = vk.wall.get(owner_id=owner_id, count=100)\n",
        "\n",
        "        for post in response['items']:\n",
        "            comments = vk.wall.getComments(owner_id=owner_id, post_id=post['id'], count=100)\n",
        "            posts_with_comments.append({\n",
        "                'post': post,\n",
        "                'comments': comments['items']\n",
        "            })\n",
        "\n",
        "        while 'next_from' in response:\n",
        "            response = vk.wall.get(owner_id=owner_id, count=100, offset=len(posts_with_comments))\n",
        "            for post in response['items']:\n",
        "                comments = vk.wall.getComments(owner_id=owner_id, post_id=post['id'], count=100)\n",
        "                posts_with_comments.append({\n",
        "                    'post': post,\n",
        "                    'comments': comments['items']\n",
        "                })\n",
        "\n",
        "    except Exception as e:\n",
        "        print(f\"Error retrieving posts with comments: {e}\")\n",
        "\n",
        "    return posts_with_comments\n",
        "\n",
        "def get_group_subscribers(group_id):\n",
        "    \"\"\"Получает информацию о подписчиках группы.\"\"\"\n",
        "    vk = get_vk_api(os.getenv(\"VK_API_TOKEN\"))\n",
        "    subscribers = []\n",
        "\n",
        "    try:\n",
        "        if group_id.isdigit():\n",
        "            owner_id = f\"-{group_id}\"\n",
        "        else:\n",
        "            group_info = vk.groups.getById(group_id=group_id)\n",
        "            owner_id = f\"{group_info[0]['id']}\"\n",
        "\n",
        "        subscribers_info = vk.groups.getMembers(group_id=owner_id, fields=\"id, first_name, last_name, sex, bdate, city, country\")\n",
        "        subscribers.extend(subscribers_info['items'])\n",
        "\n",
        "    except Exception as e:\n",
        "        print(f\"Error retrieving subscribers: {e}\")\n",
        "\n",
        "    return subscribers\n",
        "\n",
        "def save_to_csv(data, filename):\n",
        "    \"\"\"Сохраняет данные в CSV файл.\"\"\"\n",
        "    df = pd.DataFrame(data)\n",
        "    df.to_csv(filename, index=False)\n",
        "\n",
        "def upload_to_github(file_path, func):\n",
        "    \"\"\"Загружает CSV файл в репозиторий на GitHub в папку data/vk.\"\"\"\n",
        "    g = Github(os.getenv(\"GITHUB_TOKEN\"))\n",
        "    repo = g.get_repo(\"componavt/sns4human\")\n",
        "\n",
        "    if func == \"post\":\n",
        "      filename = os.path.basename(file_path)\n",
        "      target_path = f\"data/vk/posts/{filename}\"\n",
        "\n",
        "    if func == \"sub\":\n",
        "      filename = os.path.basename(file_path)\n",
        "      target_path = f\"data/vk/followers/{filename}\"\n",
        "\n",
        "    with open(file_path, \"rb\") as file:\n",
        "        content = file.read()\n",
        "\n",
        "    try:\n",
        "        # Проверяем, существует ли файл по целевому пути\n",
        "        repo.get_contents(target_path)\n",
        "        # Если существует, обновляем его\n",
        "        repo.update_file(target_path, \"Update \" + target_path, content, repo.get_contents(target_path).sha)\n",
        "        print(f\"Файл {target_path} успешно обновлен.\")\n",
        "    except Exception as e:\n",
        "        # Если не существует, создаем новый файл\n",
        "        repo.create_file(target_path, \"Add \" + target_path, content)\n",
        "        print(f\"Файл {target_path} успешно добавлен.\")\n",
        "\n",
        "\n",
        "def get_group_name(group_id_or_domain):\n",
        "    \"\"\"\n",
        "    Получает название группы ВКонтакте по ID или домену.\n",
        "\n",
        "    :param group_id_or_domain: ID группы или её домен (например, 'mygroup').\n",
        "    :return: Название группы или None, если группа не найдена.\n",
        "    \"\"\"\n",
        "\n",
        "    vk = get_vk_api(os.getenv(\"VK_API_TOKEN\"))\n",
        "\n",
        "    try:\n",
        "        # Запрос информации о группе\n",
        "        group_info = vk.groups.getById(group_id=group_id_or_domain)\n",
        "        return group_info[0]['name']\n",
        "    except Exception as e:\n",
        "        print(f\"Ошибка: {e}\")\n",
        "        return None\n",
        "\n",
        "def transliterate_russian_to_english(text):\n",
        "    # Словарь для замены русских букв на английские\n",
        "    transliteration_dict = {\n",
        "        'а': 'a', 'б': 'b', 'в': 'v', 'г': 'g', 'д': 'd',\n",
        "        'е': 'e', 'ё': 'yo', 'ж': 'zh', 'з': 'z', 'и': 'i',\n",
        "        'й': 'y', 'к': 'k', 'л': 'l', 'м': 'm', 'н': 'n',\n",
        "        'о': 'o', 'п': 'p', 'р': 'r', 'с': 's', 'т': 't',\n",
        "        'у': 'u', 'ф': 'f', 'х': 'kh', 'ц': 'ts', 'ч': 'ch',\n",
        "        'ш': 'sh', 'щ': 'shch', 'ъ': '', 'ы': 'y', 'ь': '',\n",
        "        'э': 'e', 'ю': 'yu', 'я': 'ya'\n",
        "    }\n",
        "\n",
        "    # Заменяем русские буквы на английские\n",
        "    transliterated_text = ''.join(transliteration_dict.get(c, c) for c in text.lower())\n",
        "\n",
        "    # Заменяем пробелы на подчеркивания\n",
        "    safe_text = transliterated_text.replace(' ', '_')\n",
        "\n",
        "    return safe_text"
      ],
      "metadata": {
        "id": "4cyIz_vxZi2_"
      },
      "execution_count": null,
      "outputs": []
    },
    {
      "cell_type": "markdown",
      "source": [
        "**Группы и их домены:**\n",
        "\n",
        "Православие в Карелии: pravkarelia\n",
        "\n",
        "Православные Карелии: club2975745\n",
        "\n",
        "Прихожане Крестовоздвиженского собора: krest_sobor\n",
        "\n",
        "Александро-Невский собор г.Петрозаводска: nevsoborptz\n",
        "\n",
        "Приход церкви св.вмц Екатерины: ekaterinahram\n",
        "\n",
        "Прихожане Сретенского храма: club19347481\n",
        "\n",
        "Монастырь Александра Свирского: svirskiymonastery\n",
        "\n",
        "Подворье Соловецкого монастыря в Кеми (п.Раб-ск): kemskoepodvorie\n",
        "\n",
        "Лютеране России — Церковь Ингрии: infoinkeri\n",
        "\n",
        "Кемский лютеранский приход: kemskij_prihod\n",
        "\n",
        "Кондопожский евангелическо-лютеранский приход: club18959947\n"
      ],
      "metadata": {
        "id": "kDfN4duZVVJ7"
      }
    },
    {
      "cell_type": "code",
      "source": [
        "group_id = input(\"Введите ID или domain группы: \")\n",
        "group_name = get_group_name(group_id)\n",
        "safe_group_name = ''.join(c for c in group_name if c.isalnum() or c in (' ', '_')).rstrip()\n",
        "safe_group_name = transliterate_russian_to_english(safe_group_name)\n",
        "\n",
        "    # Получаем посты группы\n",
        "posts = get_group_posts(group_id)\n",
        "save_to_csv(posts, f\"{safe_group_name}.csv\")\n",
        "\n",
        "    # Получаем посты с комментариями\n",
        "#posts_with_comments = get_group_posts_with_comments(group_id)\n",
        "#save_to_csv(posts_with_comments, f\"{safe_group_name}_group_posts_with_comments.csv\")\n",
        "\n",
        "    # Получаем подписчиков группы\n",
        "#subscribers = get_group_subscribers(group_id)\n",
        "#save_to_csv(subscribers, f\"{safe_group_name}_group_subscribers.csv\")\n",
        "\n",
        "# Загружаем файлы на GitHub\n",
        "upload_to_github(f\"{safe_group_name}.csv\", \"post\")\n",
        "#upload_to_github(f\"{safe_group_name}_group_posts_with_comments.csv\")\n",
        "#upload_to_github(f\"{safe_group_name}_group_subscribers.csv\")"
      ],
      "metadata": {
        "id": "NaUWg-87bJtK",
        "colab": {
          "base_uri": "https://localhost:8080/"
        },
        "outputId": "5a0a33d4-1d69-4668-a757-4d5ce38ab55a"
      },
      "execution_count": null,
      "outputs": [
        {
          "output_type": "stream",
          "name": "stdout",
          "text": [
            "Введите ID или domain группы: pravkarelia\n",
            "Файл data/vk/posts/pravoslavie_v_karelii.csv успешно добавлен.\n"
          ]
        }
      ]
    },
    {
      "cell_type": "markdown",
      "source": [
        "Получение постов группы"
      ],
      "metadata": {
        "id": "sHpR9gCJh9KJ"
      }
    },
    {
      "cell_type": "code",
      "source": [
        "group_id = input(\"Введите ID или domain группы: \")\n",
        "group_name = get_group_name(group_id)\n",
        "safe_group_name = ''.join(c for c in group_name if c.isalnum() or c in (' ', '_')).rstrip()\n",
        "safe_group_name = transliterate_russian_to_english(safe_group_name)\n",
        "posts = get_group_posts(group_id)\n",
        "save_to_csv(posts, f\"{safe_group_name}.csv\")\n",
        "upload_to_github(f\"{safe_group_name}.csv\", \"post\")"
      ],
      "metadata": {
        "id": "gF5mqLs2h384"
      },
      "execution_count": null,
      "outputs": []
    },
    {
      "cell_type": "markdown",
      "source": [
        "Получение информации о подписчиках группы"
      ],
      "metadata": {
        "id": "HPex0nUpiDcl"
      }
    },
    {
      "cell_type": "code",
      "source": [
        "group_id = input(\"Введите ID или domain группы: \")\n",
        "group_name = get_group_name(group_id)\n",
        "safe_group_name = ''.join(c for c in group_name if c.isalnum() or c in (' ', '_')).rstrip()\n",
        "safe_group_name = transliterate_russian_to_english(safe_group_name)\n",
        "subscribers = get_group_subscribers(group_id)\n",
        "save_to_csv(subscribers, f\"{safe_group_name}.csv\")\n",
        "upload_to_github(f\"{safe_group_name}.csv\", \"sub\")"
      ],
      "metadata": {
        "id": "PxNGruUKiH2i"
      },
      "execution_count": null,
      "outputs": []
    }
  ]
}