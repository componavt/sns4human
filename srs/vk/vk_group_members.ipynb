{
  "nbformat": 4,
  "nbformat_minor": 0,
  "metadata": {
    "colab": {
      "provenance": [],
      "authorship_tag": "ABX9TyMfTWjd4pv0/GwDWu5X5Jg1",
      "include_colab_link": true
    },
    "kernelspec": {
      "name": "python3",
      "display_name": "Python 3"
    },
    "language_info": {
      "name": "python"
    }
  },
  "cells": [
    {
      "cell_type": "markdown",
      "metadata": {
        "id": "view-in-github",
        "colab_type": "text"
      },
      "source": [
        "<a href=\"https://colab.research.google.com/github/componavt/sns4human/blob/main/srs/vk/vk_group_members.ipynb\" target=\"_parent\"><img src=\"https://colab.research.google.com/assets/colab-badge.svg\" alt=\"Open In Colab\"/></a>"
      ]
    },
    {
      "cell_type": "code",
      "source": [
        "!pip install vk-api"
      ],
      "metadata": {
        "colab": {
          "base_uri": "https://localhost:8080/"
        },
        "id": "u2ft46DLFqJI",
        "outputId": "c91e2e4a-5dcb-480a-84b7-d320a832769c"
      },
      "execution_count": 1,
      "outputs": [
        {
          "output_type": "stream",
          "name": "stdout",
          "text": [
            "Collecting vk-api\n",
            "  Downloading vk_api-11.9.9-py3-none-any.whl.metadata (2.0 kB)\n",
            "Requirement already satisfied: requests in /usr/local/lib/python3.10/dist-packages (from vk-api) (2.32.3)\n",
            "Requirement already satisfied: charset-normalizer<4,>=2 in /usr/local/lib/python3.10/dist-packages (from requests->vk-api) (3.4.0)\n",
            "Requirement already satisfied: idna<4,>=2.5 in /usr/local/lib/python3.10/dist-packages (from requests->vk-api) (3.10)\n",
            "Requirement already satisfied: urllib3<3,>=1.21.1 in /usr/local/lib/python3.10/dist-packages (from requests->vk-api) (2.2.3)\n",
            "Requirement already satisfied: certifi>=2017.4.17 in /usr/local/lib/python3.10/dist-packages (from requests->vk-api) (2024.8.30)\n",
            "Downloading vk_api-11.9.9-py3-none-any.whl (48 kB)\n",
            "\u001b[?25l   \u001b[90m━━━━━━━━━━━━━━━━━━━━━━━━━━━━━━━━━━━━━━━━\u001b[0m \u001b[32m0.0/48.6 kB\u001b[0m \u001b[31m?\u001b[0m eta \u001b[36m-:--:--\u001b[0m\r\u001b[2K   \u001b[90m━━━━━━━━━━━━━━━━━━━━━━━━━━━━━━━━━━━━━━━━\u001b[0m \u001b[32m48.6/48.6 kB\u001b[0m \u001b[31m1.2 MB/s\u001b[0m eta \u001b[36m0:00:00\u001b[0m\n",
            "\u001b[?25hInstalling collected packages: vk-api\n",
            "Successfully installed vk-api-11.9.9\n"
          ]
        }
      ]
    },
    {
      "cell_type": "code",
      "source": [
        "import vk_api\n",
        "from config import TOKEN"
      ],
      "metadata": {
        "id": "AZook0fyF3Z1"
      },
      "execution_count": 2,
      "outputs": []
    },
    {
      "cell_type": "code",
      "source": [
        "def get_group_subscribers(owner_id, access_token):\n",
        "    vk_session = vk_api.VkApi(token=access_token)\n",
        "    vk = vk_session.get_api()\n",
        "\n",
        "    subscribers = []\n",
        "    offset = 0\n",
        "    count = 1000\n",
        "\n",
        "    while True:\n",
        "        try:\n",
        "            response = vk.groups.getMembers(group_id=owner_id, offset=offset, count=count)\n",
        "            if not response['items']:\n",
        "                break\n",
        "\n",
        "            user_ids = response['items']\n",
        "            users_info = vk.users.get(user_ids=user_ids, fields='city')\n",
        "\n",
        "            for user in users_info:\n",
        "                city = user.get('city', {}).get('title', 'Не указан')\n",
        "                subscribers.append({\n",
        "                    'id': user['id'],\n",
        "                    'first_name': user['first_name'],\n",
        "                    'last_name': user['last_name'],\n",
        "                    'city': city\n",
        "                })\n",
        "\n",
        "            offset += count\n",
        "\n",
        "        except vk_api.exceptions.VkApiError as e:\n",
        "            print(f\"Ошибка: {e}\")\n",
        "            break\n",
        "\n",
        "    return subscribers"
      ],
      "metadata": {
        "id": "69XDy59cGDPH"
      },
      "execution_count": 3,
      "outputs": []
    },
    {
      "cell_type": "code",
      "source": [
        "owner_id = 2975745\n",
        "subscribers = get_group_subscribers(owner_id, TOKEN)"
      ],
      "metadata": {
        "id": "fIyoeKO6GI7H"
      },
      "execution_count": 4,
      "outputs": []
    },
    {
      "cell_type": "code",
      "source": [
        "print(subscribers)"
      ],
      "metadata": {
        "colab": {
          "base_uri": "https://localhost:8080/"
        },
        "id": "esWPo63qGSqc",
        "outputId": "15ba4fca-1809-4e32-c52d-9178e2f3a78b"
      },
      "execution_count": 5,
      "outputs": [
        {
          "output_type": "stream",
          "name": "stdout",
          "text": [
            "[{'id': 468689, 'first_name': 'Ekaterina', 'last_name': 'Terekhina', 'city': 'Lyon'}, {'id': 544360, 'first_name': 'Irina', 'last_name': 'Poliektova', 'city': 'Tegucigalpa'}, {'id': 671449, 'first_name': 'Alexey', 'last_name': 'Tsykarev', 'city': 'Petrozavodsk'}, {'id': 773377, 'first_name': 'Vladimir', 'last_name': 'Flavyanov', 'city': 'Saint Petersburg'}, {'id': 1239081, 'first_name': 'Nina', 'last_name': 'Zaytseva', 'city': 'Vologda'}, {'id': 1359539, 'first_name': 'Alexandra', 'last_name': 'Timoshilova', 'city': 'Moscow'}, {'id': 1540889, 'first_name': 'Svetlana', 'last_name': 'Alexeeva', 'city': 'Saint Petersburg'}, {'id': 1640466, 'first_name': 'Igor', 'last_name': 'Alexeev', 'city': 'Saint Petersburg'}, {'id': 2445152, 'first_name': 'Olga', 'last_name': 'Ignatenko', 'city': 'Petrozavodsk'}, {'id': 2595443, 'first_name': 'Veronika', 'last_name': 'Mikkonen', 'city': 'Не указан'}, {'id': 3119895, 'first_name': 'Olexandr', 'last_name': 'Baruev', 'city': 'Belomorsk'}, {'id': 3255351, 'first_name': 'Irina', 'last_name': 'Usikova', 'city': 'Saint Petersburg'}, {'id': 3306529, 'first_name': 'Tatyana', 'last_name': 'Panyukova', 'city': 'Не указан'}, {'id': 3715777, 'first_name': 'Svetlana', 'last_name': 'Zakharchenko', 'city': 'Petrozavodsk'}, {'id': 4950501, 'first_name': 'Andrey', 'last_name': 'Anisimov', 'city': 'Petrozavodsk'}, {'id': 5097682, 'first_name': 'DELETED', 'last_name': '', 'city': 'Saint Petersburg'}, {'id': 5750512, 'first_name': 'Denis', 'last_name': 'Ranskalainen', 'city': 'Saint Petersburg'}, {'id': 5872461, 'first_name': 'Miikkul', 'last_name': 'Lopakov', 'city': 'Dzerzhinsky'}, {'id': 6081389, 'first_name': 'Tatyana', 'last_name': 'Kalinicheva', 'city': 'Petrozavodsk'}, {'id': 6471856, 'first_name': 'Anastasia', 'last_name': 'Kiryaynen', 'city': 'Petrozavodsk'}, {'id': 6823463, 'first_name': 'Antti', 'last_name': 'Tuhkanen', 'city': 'Не указан'}, {'id': 7031692, 'first_name': 'Svetlana', 'last_name': 'Romanchuk', 'city': 'Petrozavodsk'}, {'id': 7218003, 'first_name': 'Anechka', 'last_name': 'Pukkonen', 'city': 'Saint Petersburg'}, {'id': 7258817, 'first_name': 'Yulia', 'last_name': 'Babenko', 'city': 'Saint Petersburg'}, {'id': 7513945, 'first_name': 'Valentina', 'last_name': 'Savenkova', 'city': 'Saint Petersburg'}, {'id': 8048772, 'first_name': 'DELETED', 'last_name': '', 'city': 'Petrozavodsk'}, {'id': 9688324, 'first_name': 'Milan', 'last_name': 'Mrenovich', 'city': 'Kruševac'}, {'id': 10051689, 'first_name': 'Alexander', 'last_name': 'Zilotov', 'city': 'Saint Petersburg'}, {'id': 10162828, 'first_name': 'Andrey', 'last_name': 'Russkov', 'city': 'Moscow'}, {'id': 10449536, 'first_name': 'Yulia', 'last_name': 'Veronovskaya-Ptashinskaya', 'city': 'Moscow'}, {'id': 10599595, 'first_name': 'DELETED', 'last_name': '', 'city': 'Petrozavodsk'}, {'id': 11454210, 'first_name': 'Viktoria', 'last_name': 'Ivanova', 'city': 'Petrozavodsk'}, {'id': 12574135, 'first_name': 'Tatyana', 'last_name': 'Litova', 'city': 'Petrozavodsk'}, {'id': 12599118, 'first_name': 'Sergey', 'last_name': 'Vinogradov', 'city': 'Saint Petersburg'}, {'id': 12964777, 'first_name': 'Konstantin', 'last_name': 'Savander', 'city': 'Petrozavodsk'}, {'id': 13264670, 'first_name': 'Elena', 'last_name': 'Matrosova', 'city': 'Petrozavodsk'}, {'id': 14898872, 'first_name': 'Andrey', 'last_name': 'Grishin', 'city': 'Petrozavodsk'}, {'id': 15128568, 'first_name': 'DELETED', 'last_name': '', 'city': 'Moscow'}, {'id': 15225242, 'first_name': 'Kristina', 'last_name': 'Kireeva', 'city': 'Tallinn'}, {'id': 15619217, 'first_name': 'Nikita', 'last_name': 'Dobronravov', 'city': 'Turku'}, {'id': 17269346, 'first_name': 'Yulia', 'last_name': 'Kaptur', 'city': 'Не указан'}, {'id': 19879608, 'first_name': 'Fargat', 'last_name': 'Khadiev', 'city': 'Kazan'}, {'id': 21420554, 'first_name': 'Alexander', 'last_name': 'Shesterikov', 'city': 'Не указан'}, {'id': 22061640, 'first_name': 'Lenchik', 'last_name': 'Zinina', 'city': 'Kostomuksha'}, {'id': 25964179, 'first_name': 'DELETED', 'last_name': '', 'city': 'Petrozavodsk'}, {'id': 27967440, 'first_name': 'Sergey', 'last_name': 'Melnichenko', 'city': 'Ledmozero'}, {'id': 29371532, 'first_name': 'DELETED', 'last_name': '', 'city': 'Kostomuksha'}, {'id': 29948134, 'first_name': 'Sampo', 'last_name': 'Ilya', 'city': 'Petrozavodsk'}, {'id': 30295976, 'first_name': 'Maxim', 'last_name': 'Repichev', 'city': 'Turku'}, {'id': 30296804, 'first_name': 'Annya', 'last_name': 'Razoryonova', 'city': 'Saint Petersburg'}, {'id': 30875993, 'first_name': 'Marina', 'last_name': 'Terekhina', 'city': 'Saint Petersburg'}, {'id': 31187627, 'first_name': 'Alexey', 'last_name': 'Igolkin', 'city': 'Tikhvin'}, {'id': 31789038, 'first_name': 'Alexander', 'last_name': 'Yaskelyaynen', 'city': 'Kostomuksha'}, {'id': 33129188, 'first_name': 'Tatyana', 'last_name': 'Malinkina', 'city': 'Petrozavodsk'}, {'id': 33152408, 'first_name': 'DELETED', 'last_name': '', 'city': 'Petrozavodsk'}, {'id': 36292653, 'first_name': 'Galina', 'last_name': 'Kryuchkova', 'city': 'Kondopoga'}, {'id': 37418078, 'first_name': 'Viktor', 'last_name': 'Lindunen', 'city': 'Saint Petersburg'}, {'id': 41584140, 'first_name': 'Sergey', 'last_name': 'Petrov', 'city': 'Petrozavodsk'}, {'id': 41910773, 'first_name': 'Vladimir', 'last_name': 'Sobolev', 'city': 'Не указан'}, {'id': 42233069, 'first_name': 'Ivan', 'last_name': 'Ivanov', 'city': 'Petrozavodsk'}, {'id': 42756810, 'first_name': 'Nastenka', 'last_name': 'Mm', 'city': 'Petrozavodsk'}, {'id': 44146378, 'first_name': 'Dmitry', 'last_name': 'Plyusnin', 'city': 'Saint Petersburg'}, {'id': 45152544, 'first_name': 'Alexander', 'last_name': 'Boyarov', 'city': 'Petrozavodsk'}, {'id': 46030815, 'first_name': 'DELETED', 'last_name': '', 'city': 'Petrozavodsk'}, {'id': 46301769, 'first_name': 'Alexander', 'last_name': 'Sugakov', 'city': 'Aktau'}, {'id': 46714846, 'first_name': 'Alho', 'last_name': 'Virolainen', 'city': 'Novosibirsk'}, {'id': 46853892, 'first_name': 'Anton', 'last_name': 'Smirnov', 'city': 'Saint Petersburg'}, {'id': 50084486, 'first_name': 'Olga', 'last_name': 'Lysko', 'city': 'Vyborg'}, {'id': 54373506, 'first_name': 'Ivan', 'last_name': 'Dolgoborodov', 'city': 'Brest'}, {'id': 57051475, 'first_name': 'Ekaterina', 'last_name': 'Kudinova', 'city': 'Petrozavodsk'}, {'id': 58086504, 'first_name': 'Yury', 'last_name': 'Kievsky', 'city': 'Arkhangelsk'}, {'id': 59586725, 'first_name': 'Tatyana', 'last_name': 'Popova', 'city': 'Kondopoga'}, {'id': 60499209, 'first_name': 'Laura', 'last_name': 'Siraguza', 'city': 'Columbus'}, {'id': 60990128, 'first_name': 'DELETED', 'last_name': '', 'city': 'Не указан'}, {'id': 63461923, 'first_name': 'Vlad', 'last_name': 'Bolkhovich', 'city': 'Bolkhov'}, {'id': 67781302, 'first_name': 'Anya', 'last_name': 'Kariauli', 'city': 'Vladikavkaz'}, {'id': 70738201, 'first_name': 'Olga', 'last_name': 'Karonen', 'city': 'Petrozavodsk'}, {'id': 73349302, 'first_name': 'Andrey', 'last_name': 'Lindunen', 'city': 'Oulu'}, {'id': 76950416, 'first_name': 'Domini', 'last_name': 'Montessori', 'city': 'Petrozavodsk'}, {'id': 82224412, 'first_name': 'Oleg', 'last_name': 'Pashkov', 'city': 'Petrozavodsk'}, {'id': 85468139, 'first_name': 'Anastasia', 'last_name': 'Guschina', 'city': 'Tyumen'}, {'id': 86510177, 'first_name': 'Ekaterina', 'last_name': 'Budur', 'city': 'Не указан'}, {'id': 88552251, 'first_name': 'Natalya', 'last_name': 'Bondar', 'city': 'Petrozavodsk'}, {'id': 89692533, 'first_name': 'Elena', 'last_name': 'Kryukovtsova', 'city': 'Kondopoga'}, {'id': 91870909, 'first_name': 'Kirill', 'last_name': 'Dedov', 'city': 'Не указан'}, {'id': 96042716, 'first_name': 'DELETED', 'last_name': '', 'city': 'Saint Petersburg'}, {'id': 98625136, 'first_name': 'Ilya', 'last_name': 'Shanti', 'city': 'Petrozavodsk'}, {'id': 101722462, 'first_name': 'Tatyana', 'last_name': 'Ivashova', 'city': 'Petrozavodsk'}, {'id': 101771273, 'first_name': 'Egor', 'last_name': 'Andreev', 'city': 'Не указан'}, {'id': 116395579, 'first_name': 'Alexander', 'last_name': 'Kovalchuk', 'city': 'Anapa'}, {'id': 140729087, 'first_name': 'Andrey', 'last_name': 'Gribakin', 'city': 'Не указан'}, {'id': 145358002, 'first_name': 'Maxim', 'last_name': 'Gritchin', 'city': 'Не указан'}, {'id': 151161501, 'first_name': \"Marishul'ka\", 'last_name': 'Markova', 'city': 'Не указан'}, {'id': 155191220, 'first_name': 'Yasenka', 'last_name': '*******', 'city': 'Не указан'}, {'id': 157645268, 'first_name': 'Olga', 'last_name': 'Semyonova', 'city': 'Petrozavodsk'}, {'id': 168179903, 'first_name': 'DELETED', 'last_name': '', 'city': 'Moscow'}, {'id': 169063996, 'first_name': 'Πetr', 'last_name': 'Εrshov', 'city': 'Petrozavodsk'}, {'id': 175758875, 'first_name': 'Ivan', 'last_name': 'Kornienko', 'city': 'Kyiv'}, {'id': 176512574, 'first_name': 'DELETED', 'last_name': '', 'city': 'Rostov-on-Don'}, {'id': 177121260, 'first_name': 'Galina', 'last_name': 'Gubina', 'city': 'Petrozavodsk'}, {'id': 179094103, 'first_name': 'Alexander', 'last_name': 'Tatarintsev', 'city': 'Не указан'}, {'id': 180167793, 'first_name': 'Lyubov', 'last_name': 'Dankanich', 'city': 'Pyaozersky'}, {'id': 181102452, 'first_name': 'Mikhail', 'last_name': 'Zholudev', 'city': 'Не указан'}, {'id': 183644826, 'first_name': 'Molodezhnoe-Pravoslavnoe-Dvizhenie', 'last_name': 'Donetskoy-Eparkhii', 'city': 'Donetsk'}, {'id': 188306034, 'first_name': 'Yury', 'last_name': 'Ptitsyn', 'city': 'Moscow'}, {'id': 192240013, 'first_name': 'Vladimir', 'last_name': 'Sobolev', 'city': 'Не указан'}, {'id': 194559807, 'first_name': 'Dmitry', 'last_name': 'Kuchkin', 'city': 'Podolsk'}, {'id': 216561929, 'first_name': 'Marina', 'last_name': 'Teplova', 'city': 'Moscow'}, {'id': 221712162, 'first_name': 'Theodore', 'last_name': 'Setsko', 'city': 'Moscow'}, {'id': 223591137, 'first_name': 'DELETED', 'last_name': '', 'city': 'Helsinki'}, {'id': 230282627, 'first_name': 'DELETED', 'last_name': '', 'city': 'Québec'}, {'id': 232112474, 'first_name': 'DELETED', 'last_name': '', 'city': 'Не указан'}, {'id': 249640297, 'first_name': 'Irina', 'last_name': 'Malina', 'city': 'Moscow'}, {'id': 271474305, 'first_name': 'DELETED', 'last_name': '', 'city': 'Taganrog'}, {'id': 290457018, 'first_name': 'Karjalan', 'last_name': 'Rahvahat', 'city': 'Kalevala'}, {'id': 293162077, 'first_name': 'DELETED', 'last_name': '', 'city': 'Saint Petersburg'}, {'id': 326765219, 'first_name': 'DELETED', 'last_name': '', 'city': 'Ufa'}, {'id': 330439623, 'first_name': 'Lora', 'last_name': 'Sudenko', 'city': 'Moscow'}, {'id': 459990777, 'first_name': 'Valeria', 'last_name': 'Shipovkina', 'city': 'Moscow'}, {'id': 473032372, 'first_name': 'Natalia', 'last_name': 'Romanova', 'city': 'Alajärvi'}, {'id': 521927746, 'first_name': 'Alexander', 'last_name': 'Chertov', 'city': 'Не указан'}]\n"
          ]
        }
      ]
    }
  ]
}