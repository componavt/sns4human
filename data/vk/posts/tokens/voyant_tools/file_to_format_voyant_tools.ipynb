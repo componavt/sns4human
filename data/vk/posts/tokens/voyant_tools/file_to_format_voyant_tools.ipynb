{
  "cells": [
    {
      "cell_type": "markdown",
      "metadata": {
        "id": "view-in-github",
        "colab_type": "text"
      },
      "source": [
        "<a href=\"https://colab.research.google.com/github/componavt/sns4human/blob/main/data/vk/posts/tokens/voyant_tools/file_to_format_voyant_tools.ipynb\" target=\"_parent\"><img src=\"https://colab.research.google.com/assets/colab-badge.svg\" alt=\"Open In Colab\"/></a>"
      ]
    },
    {
      "cell_type": "code",
      "source": [
        "import sys\n",
        "import csv\n",
        "import requests\n",
        "from io import StringIO\n",
        "\n",
        "name = 'museum_tokens'\n",
        "url = f'https://raw.githubusercontent.com/componavt/sns4human/refs/heads/main/data/vk/posts/tokens/{name}.csv'\n",
        "input_file = requests.get(url).text\n",
        "reader = csv.reader(StringIO(input_file))\n",
        "rows = list(reader)\n",
        "\n",
        "output_file = name+ \"_vt.csv\"\n",
        "'''\n",
        "with open(input_file, mode='r', newline='', encoding='utf-8') as f:\n",
        "  reader = csv.reader(f)\n",
        "  rows = list(reader)\n",
        "'''\n",
        "with open(output_file, mode='w', newline='', encoding='utf-8') as outfile:\n",
        "    writer = csv.writer(outfile)\n",
        "    for i, row in enumerate(rows):\n",
        "        if i == 0:\n",
        "            writer.writerow(row)\n",
        "        else:\n",
        "            last2 = row[-2:]\n",
        "            remaining = row[:-2]\n",
        "            quoted_remaining = '\"' + \",\".join(remaining) + '\"'\n",
        "            new_row = [quoted_remaining] + last2\n",
        "            writer.writerow(new_row)"
      ],
      "metadata": {
        "id": "07gboTJanKAT"
      },
      "execution_count": 10,
      "outputs": []
    }
  ],
  "metadata": {
    "colab": {
      "provenance": [],
      "authorship_tag": "ABX9TyM94JOhOSAGg5uLtyZRXCtA",
      "include_colab_link": true
    },
    "kernelspec": {
      "display_name": "Python 3",
      "name": "python3"
    },
    "language_info": {
      "name": "python"
    }
  },
  "nbformat": 4,
  "nbformat_minor": 0
}